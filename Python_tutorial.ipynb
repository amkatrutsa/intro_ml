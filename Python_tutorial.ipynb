{
 "cells": [
  {
   "cell_type": "markdown",
   "metadata": {},
   "source": [
    "# Python tutorial"
   ]
  },
  {
   "cell_type": "markdown",
   "metadata": {},
   "source": [
    "## Basics of Python"
   ]
  },
  {
   "cell_type": "markdown",
   "metadata": {},
   "source": [
    "### Some facts and references"
   ]
  },
  {
   "cell_type": "markdown",
   "metadata": {},
   "source": [
    "- Python developing was started in the late 1980s by [Guido van Rossum](https://gvanrossum.github.io/), who worked at CWI institute, Amsterdam. Now he works at Dropbox.\n",
    "<img src=http://www.peoples.ru/technics/programmer/guido_van_rossum/van_4.jpg style=\"width: 150pt; align: center\">\n",
    "- The author called the language in honor of popular British comedy show \"Monty Pythons Flying Circus\"\n",
    "<img src=https://fanart.tv/fanart/tv/75853/clearlogo/MontyPythonsFlyingCircus-75853.png width=\"500\" height=\"400\">\n",
    "- Dynamic type system (PHP, Ruby, Javascript, Erlang, etc) vs. static type system (C/C++, Pascal, Java, etc)\n",
    "- Support multiple programming paradigms\n",
    "    - object-oriented\n",
    "    - imperative \n",
    "    - functional programming \n",
    "    - procedural\n",
    "- Python is used for:\n",
    "    - Dropbox was written in Python\n",
    "    - Google: YouTube, YouTube API and others were written in Python\n",
    "    - Facebook\n",
    "    - SciPy stack replaces proprietary tools for scientific computing (MATLAB, Mathemathica)\n",
    "    - scikit-learn is a popular library for machine learning\n",
    "    - Web-development"
   ]
  },
  {
   "cell_type": "markdown",
   "metadata": {},
   "source": [
    "#### References\n",
    "\n",
    "* The Hitchhiker’s Guide to Python:\n",
    "http://docs.python-guide.org/en/latest/\n",
    "\n",
    "* Hard way is easier: http://learnpythonthehardway.org\n",
    "\n",
    "* Python crash course from Google:\n",
    "https://developers.google.com/edu/python/\n",
    "\n",
    "* Official tutorial:\n",
    "https://docs.python.org/2/tutorial/\n",
    "\n",
    "* Python Tutor - code visualization (developed by MIT):\n",
    "http://pythontutor.com/\n",
    "\n",
    "* If you feel lost: https://www.codecademy.com/en/tracks/python\n",
    "\n",
    "* Related course in HSE [here](http://math-info.hse.ru/2015-16/%D0%9F%D1%80%D0%BE%D0%B3%D1%80%D0%B0%D0%BC%D0%BC%D0%B8%D1%80%D0%BE%D0%B2%D0%B0%D0%BD%D0%B8%D0%B5_%D0%BD%D0%B0_%D1%8F%D0%B7%D1%8B%D0%BA%D0%B5_Python_%D0%B4%D0%BB%D1%8F_%D1%81%D0%B1%D0%BE%D1%80%D0%B0_%D0%B8_%D0%B0%D0%BD%D0%B0%D0%BB%D0%B8%D0%B7%D0%B0_%D0%B4%D0%B0%D0%BD%D0%BD%D1%8B%D1%85)"
   ]
  },
  {
   "cell_type": "markdown",
   "metadata": {},
   "source": [
    "#### Advanced references\n",
    "* Al Sweigart, \"Automate the Boring Stuff with Python\", https://automatetheboringstuff.com\n",
    "* Mark Lutz, \"Python Pocket Reference\" (250 pages)\n",
    "* Mark Lutz, \"Learning Python\" (1600 pages!)"
   ]
  },
  {
   "cell_type": "markdown",
   "metadata": {},
   "source": [
    "#### The Zen of Python, by Tim Peters\n",
    "\n",
    "- Beautiful is better than ugly.\n",
    "- Explicit is better than implicit.\n",
    "- Simple is better than complex.\n",
    "- Complex is better than complicated.\n",
    "- Flat is better than nested.\n",
    "- Sparse is better than dense.\n",
    "- Readability counts.\n",
    "- Special cases aren't special enough to break the rules.\n",
    "- Although practicality beats purity.\n",
    "- Errors should never pass silently.\n",
    "- Unless explicitly silenced.\n",
    "- In the face of ambiguity, refuse the temptation to guess.\n",
    "- There should be one-- and preferably only one --obvious way to do it.\n",
    "- Although that way may not be obvious at first unless you're Dutch.\n",
    "- Now is better than never.\n",
    "- Although never is often better than *right* now.\n",
    "- If the implementation is hard to explain, it's a bad idea.\n",
    "- If the implementation is easy to explain, it may be a good idea.\n",
    "- Namespaces are one honking great idea -- let's do more of those!\n",
    "\n",
    "You can get this Zen by \n",
    "```python\n",
    "import this\n",
    "```\n",
    "in interpreter. It works once per session."
   ]
  },
  {
   "cell_type": "markdown",
   "metadata": {},
   "source": [
    "#### How to write code\n",
    "\n",
    "- First of all your code has to be readable!\n",
    "    - Other people can easily understand what your code means and what operations it performs\n",
    "    - Variable, function and class names have to be meaningful\n",
    "    - Style of your code has to be consistent: formatting, spaces, etc\n",
    "\n",
    "- Style giudes:\n",
    "    - [PEP8](http://legacy.python.org/dev/peps/pep-0008/) (PEP = Python Enhancement Proposal)\n",
    "    - [Google Python style guide](https://google.github.io/styleguide/pyguide.html)\n",
    "    - write idiomatic code http://python.net/~goodger/projects/pycon/2007/idiomatic/handout.html"
   ]
  },
  {
   "cell_type": "markdown",
   "metadata": {},
   "source": [
    "#### Python installation\n",
    "\n",
    "- In this course we will use [Python 3.6 from Anaconda distribution](https://www.anaconda.com/download/)\n",
    "- Install it of you didn't do it earlier"
   ]
  },
  {
   "cell_type": "markdown",
   "metadata": {},
   "source": [
    "#### Python 2 vs. Python 3\n",
    "\n",
    "Check your Python version:\n",
    "```bash\n",
    "python --version\n",
    "```\n",
    "This course uses Python 3\n",
    "\n",
    "Main changes in Python 3\n",
    "\n",
    "- Key word ```print``` becomes function\n",
    "- ```xrange()``` is replaces by ```range()```\n",
    "- Integer division\n",
    "- Some methods return iterators, not lists\n",
    "- Support Unicode"
   ]
  },
  {
   "cell_type": "markdown",
   "metadata": {},
   "source": [
    "### Data types"
   ]
  },
  {
   "cell_type": "markdown",
   "metadata": {},
   "source": [
    "- Number\n",
    "- String\n",
    "- Booleans"
   ]
  },
  {
   "cell_type": "markdown",
   "metadata": {},
   "source": [
    "#### Numbers\n",
    "\n",
    "- Float \n",
    "- Complex"
   ]
  },
  {
   "cell_type": "code",
   "execution_count": 1,
   "metadata": {},
   "outputs": [
    {
     "name": "stdout",
     "output_type": "stream",
     "text": [
      "15\n",
      "9\n",
      "36\n",
      "531441\n",
      "4.0\n",
      "4\n",
      "2\n"
     ]
    },
    {
     "ename": "NameError",
     "evalue": "name 'sqrt' is not defined",
     "output_type": "error",
     "traceback": [
      "\u001b[0;31m---------------------------------------------------------------------------\u001b[0m",
      "\u001b[0;31mNameError\u001b[0m                                 Traceback (most recent call last)",
      "\u001b[0;32m<ipython-input-1-3a2bd75c750b>\u001b[0m in \u001b[0;36m<module>\u001b[0;34m()\u001b[0m\n\u001b[1;32m      8\u001b[0m \u001b[0mprint\u001b[0m\u001b[0;34m(\u001b[0m\u001b[0ma\u001b[0m \u001b[0;34m//\u001b[0m \u001b[0mb\u001b[0m\u001b[0;34m)\u001b[0m\u001b[0;34m\u001b[0m\u001b[0m\n\u001b[1;32m      9\u001b[0m \u001b[0mprint\u001b[0m\u001b[0;34m(\u001b[0m\u001b[0ma\u001b[0m \u001b[0;34m%\u001b[0m \u001b[0;36m5\u001b[0m\u001b[0;34m)\u001b[0m\u001b[0;34m\u001b[0m\u001b[0m\n\u001b[0;32m---> 10\u001b[0;31m \u001b[0mprint\u001b[0m\u001b[0;34m(\u001b[0m\u001b[0msqrt\u001b[0m\u001b[0;34m(\u001b[0m\u001b[0;36m12\u001b[0m\u001b[0;34m)\u001b[0m\u001b[0;34m)\u001b[0m\u001b[0;34m\u001b[0m\u001b[0m\n\u001b[0m",
      "\u001b[0;31mNameError\u001b[0m: name 'sqrt' is not defined"
     ]
    }
   ],
   "source": [
    "a = 12\n",
    "b = 3\n",
    "print(a + b)\n",
    "print(a - b)\n",
    "print(a * b)\n",
    "print(b**a)\n",
    "print(a / b)\n",
    "print(a // b)\n",
    "print(a % 5)\n",
    "print(sqrt(12))"
   ]
  },
  {
   "cell_type": "code",
   "execution_count": 2,
   "metadata": {},
   "outputs": [
    {
     "name": "stdout",
     "output_type": "stream",
     "text": [
      "(3+3j)\n",
      "1.4142135623730951\n",
      "4j\n",
      "(-1-1j)\n",
      "(-0.3244472096893367+1.2481068139109326j)\n"
     ]
    }
   ],
   "source": [
    "a = 1 + 1j\n",
    "b = 2 + 2j\n",
    "print(a + b)\n",
    "print(abs(a))\n",
    "print(a * b)\n",
    "print(a - b)\n",
    "print(b**a)"
   ]
  },
  {
   "cell_type": "markdown",
   "metadata": {},
   "source": [
    "- No unary operaors ++ and --"
   ]
  },
  {
   "cell_type": "code",
   "execution_count": 3,
   "metadata": {},
   "outputs": [
    {
     "name": "stdout",
     "output_type": "stream",
     "text": [
      "(3+3j) (2+2j)\n",
      "(1+1j) (2+2j)\n",
      "4j (2+2j)\n",
      "(1+1j)\n"
     ]
    }
   ],
   "source": [
    "a += b\n",
    "print(a, b)\n",
    "a-= b\n",
    "print(a, b)\n",
    "a *= b\n",
    "print(a, b)\n",
    "a /= b\n",
    "print(a)"
   ]
  },
  {
   "cell_type": "code",
   "execution_count": 4,
   "metadata": {},
   "outputs": [
    {
     "name": "stdout",
     "output_type": "stream",
     "text": [
      "1.0\n",
      "4.810477380965351\n",
      "6.123233995736766e-17\n",
      "1.633123935319537e+16\n",
      "1.2533141373155001\n"
     ]
    }
   ],
   "source": [
    "import math\n",
    "\n",
    "x = math.pi / 2\n",
    "print(math.sin(x))\n",
    "print(math.exp(x))\n",
    "print(math.cos(x))\n",
    "print(math.tan(x))\n",
    "print(math.sqrt(x))"
   ]
  },
  {
   "cell_type": "markdown",
   "metadata": {},
   "source": [
    "#### String\n",
    "\n",
    "- Immutable type\n",
    "- Sequence of symbols\n",
    "- Indexing and slicing"
   ]
  },
  {
   "cell_type": "code",
   "execution_count": 5,
   "metadata": {},
   "outputs": [
    {
     "name": "stdout",
     "output_type": "stream",
     "text": [
      "Moscow State University\n",
      "M\n",
      "ow State University\n",
      "Mosco\n",
      "scow Sta\n",
      "so t\n"
     ]
    }
   ],
   "source": [
    "mystring = \"Moscow State University\"\n",
    "print(mystring)\n",
    "print(mystring[0])\n",
    "print(mystring[4:])\n",
    "print(mystring[:5])\n",
    "print(mystring[2:10])\n",
    "print(mystring[2:10:2])"
   ]
  },
  {
   "cell_type": "code",
   "execution_count": 6,
   "metadata": {},
   "outputs": [
    {
     "name": "stdout",
     "output_type": "stream",
     "text": [
      "Moscow State University\n",
      "y\n",
      "rsity\n",
      "Moscow State Universi\n",
      "Univer\n",
      "Uie\n",
      "ytisrevinU etatS wocsoM\n"
     ]
    },
    {
     "ename": "TypeError",
     "evalue": "'str' object does not support item assignment",
     "output_type": "error",
     "traceback": [
      "\u001b[0;31m---------------------------------------------------------------------------\u001b[0m",
      "\u001b[0;31mTypeError\u001b[0m                                 Traceback (most recent call last)",
      "\u001b[0;32m<ipython-input-6-03479e704f3e>\u001b[0m in \u001b[0;36m<module>\u001b[0;34m()\u001b[0m\n\u001b[1;32m      6\u001b[0m \u001b[0mprint\u001b[0m\u001b[0;34m(\u001b[0m\u001b[0mmystring\u001b[0m\u001b[0;34m[\u001b[0m\u001b[0;34m-\u001b[0m\u001b[0;36m10\u001b[0m\u001b[0;34m:\u001b[0m\u001b[0;34m-\u001b[0m\u001b[0;36m4\u001b[0m\u001b[0;34m:\u001b[0m\u001b[0;36m2\u001b[0m\u001b[0;34m]\u001b[0m\u001b[0;34m)\u001b[0m\u001b[0;34m\u001b[0m\u001b[0m\n\u001b[1;32m      7\u001b[0m \u001b[0mprint\u001b[0m\u001b[0;34m(\u001b[0m\u001b[0mmystring\u001b[0m\u001b[0;34m[\u001b[0m\u001b[0;34m:\u001b[0m\u001b[0;34m:\u001b[0m\u001b[0;34m-\u001b[0m\u001b[0;36m1\u001b[0m\u001b[0;34m]\u001b[0m\u001b[0;34m)\u001b[0m\u001b[0;34m\u001b[0m\u001b[0m\n\u001b[0;32m----> 8\u001b[0;31m \u001b[0mmystring\u001b[0m\u001b[0;34m[\u001b[0m\u001b[0;36m0\u001b[0m\u001b[0;34m]\u001b[0m \u001b[0;34m=\u001b[0m \u001b[0;34m\"K\"\u001b[0m\u001b[0;34m\u001b[0m\u001b[0m\n\u001b[0m",
      "\u001b[0;31mTypeError\u001b[0m: 'str' object does not support item assignment"
     ]
    }
   ],
   "source": [
    "print(mystring)\n",
    "print(mystring[-1])\n",
    "print(mystring[-5:])\n",
    "print(mystring[:-2])\n",
    "print(mystring[-10:-4])\n",
    "print(mystring[-10:-4:2])\n",
    "print(mystring[::-1])\n",
    "mystring[0] = \"K\""
   ]
  },
  {
   "cell_type": "markdown",
   "metadata": {},
   "source": [
    "- Formatting output"
   ]
  },
  {
   "cell_type": "code",
   "execution_count": 7,
   "metadata": {},
   "outputs": [
    {
     "name": "stdout",
     "output_type": "stream",
     "text": [
      "The most famous university in Russia is Moscow State University\n",
      "The most famous university in Russia is Moscow State University\n",
      "The most famous university in Moscow State University is Russia\n"
     ]
    }
   ],
   "source": [
    "sent = \"The most famous university in Russia is {}\".format(mystring)\n",
    "print(sent)\n",
    "sent = \"The most famous university in {} is {}\".format(\"Russia\", mystring)\n",
    "print(sent)\n",
    "sent = \"The most famous university in {1} is {0}\".format(\"Russia\", mystring)\n",
    "print(sent)"
   ]
  },
  {
   "cell_type": "code",
   "execution_count": 8,
   "metadata": {},
   "outputs": [
    {
     "name": "stdout",
     "output_type": "stream",
     "text": [
      "The number pi is 3.1415926536 and the number e is 2.7182818284590450907955983\n",
      "The number e is 2.71828\n"
     ]
    }
   ],
   "source": [
    "print(\"The number pi is {1:.10f} and the number e is {0:.25f}\".format(math.e, math.pi))\n",
    "print(\"The number e is {:.5f}\".format(math.e))"
   ]
  },
  {
   "cell_type": "markdown",
   "metadata": {},
   "source": [
    "- String methods always return new string, no inplace operations"
   ]
  },
  {
   "cell_type": "code",
   "execution_count": 9,
   "metadata": {},
   "outputs": [
    {
     "name": "stdout",
     "output_type": "stream",
     "text": [
      "moscow is a capital of russia   \n",
      "Moscow is a capital of russia   \n",
      "MOSCOW IS A CAPITAL OF RUSSIA   \n",
      "moscow\n",
      "moscow is a capital of russia\n",
      "mcassccasw is a capital casf russia   \n",
      "32\n",
      "29\n"
     ]
    }
   ],
   "source": [
    "mystring = \"moscow is a capital of russia   \"\n",
    "print(mystring)\n",
    "print(mystring.capitalize())\n",
    "print(mystring.upper())\n",
    "print(\"Moscow\".lower())\n",
    "print(mystring.strip())\n",
    "print(mystring.replace(\"o\", \"cas\"))\n",
    "print(len(mystring))\n",
    "print(len(mystring.strip()))"
   ]
  },
  {
   "cell_type": "markdown",
   "metadata": {},
   "source": [
    "- Concatenation - always save result in a new string"
   ]
  },
  {
   "cell_type": "code",
   "execution_count": 10,
   "metadata": {},
   "outputs": [
    {
     "name": "stdout",
     "output_type": "stream",
     "text": [
      "MSU CMC\n"
     ]
    }
   ],
   "source": [
    "w1 = \"MSU\"\n",
    "w2 = \"CMC\"\n",
    "w3 = w1 + \" \" + w2\n",
    "print(w3)"
   ]
  },
  {
   "cell_type": "markdown",
   "metadata": {},
   "source": [
    "#### Booleans\n",
    "- True\n",
    "- False"
   ]
  },
  {
   "cell_type": "code",
   "execution_count": 11,
   "metadata": {},
   "outputs": [
    {
     "name": "stdout",
     "output_type": "stream",
     "text": [
      "False\n",
      "False\n",
      "True\n",
      "True\n"
     ]
    }
   ],
   "source": [
    "t = True\n",
    "f = False\n",
    "print(t and f)\n",
    "print(not t)\n",
    "print(t or f)\n",
    "print(t != f)  # XOR"
   ]
  },
  {
   "cell_type": "code",
   "execution_count": 12,
   "metadata": {},
   "outputs": [
    {
     "name": "stdout",
     "output_type": "stream",
     "text": [
      "10 5\n",
      "5 10\n",
      "False\n",
      "False\n",
      "True\n",
      "False\n"
     ]
    }
   ],
   "source": [
    "a, b = 10, 5\n",
    "print(a, b)\n",
    "a, b = b, a   # Fast swap\n",
    "print(a, b)\n",
    "print(a == b)\n",
    "print(a > b)\n",
    "print(a < b)\n",
    "print(a >= b)"
   ]
  },
  {
   "cell_type": "markdown",
   "metadata": {},
   "source": [
    "### Conditions and loops\n",
    "\n",
    "- if-elif-else\n",
    "- for-loop\n",
    "- while-loop"
   ]
  },
  {
   "cell_type": "markdown",
   "metadata": {},
   "source": [
    "#### if-elif-else\n",
    "\n",
    "```python\n",
    "if condition1:\n",
    "    pass\n",
    "elif condition2:\n",
    "    pass\n",
    "else:\n",
    "    pass\n",
    "```\n",
    "\n",
    "- Execute body of block that is first true"
   ]
  },
  {
   "cell_type": "code",
   "execution_count": 13,
   "metadata": {},
   "outputs": [
    {
     "name": "stdout",
     "output_type": "stream",
     "text": [
      "0\n"
     ]
    }
   ],
   "source": [
    "# Try different x\n",
    "x = 40\n",
    "if x > 50:\n",
    "    x /= 2\n",
    "elif x > 70:\n",
    "    x += 10\n",
    "else:\n",
    "    x = 0\n",
    "print(x)"
   ]
  },
  {
   "cell_type": "markdown",
   "metadata": {},
   "source": [
    "#### for-loop\n",
    "\n",
    "```python\n",
    "for a in sequence:\n",
    "    pass\n",
    "else:\n",
    "    pass\n",
    "```\n",
    "\n",
    "- Iterations over sequential data\n",
    "- May have ```else``` statement in the end to check success iterations over all elements of ```sequence``` without breaks or exceptions"
   ]
  },
  {
   "cell_type": "code",
   "execution_count": 14,
   "metadata": {},
   "outputs": [
    {
     "name": "stdout",
     "output_type": "stream",
     "text": [
      "M\n",
      "S\n",
      "U\n"
     ]
    }
   ],
   "source": [
    "# mystring = \"Moscow\"\n",
    "mystring = \"MSU CMC\"\n",
    "for letter in mystring:\n",
    "    if letter != \" \":\n",
    "        print(letter)\n",
    "    else:\n",
    "        break\n",
    "else:\n",
    "    print(\"Check all letters!\")"
   ]
  },
  {
   "cell_type": "code",
   "execution_count": 15,
   "metadata": {},
   "outputs": [
    {
     "name": "stdout",
     "output_type": "stream",
     "text": [
      "0\n",
      "2\n",
      "4\n",
      "6\n",
      "8\n"
     ]
    }
   ],
   "source": [
    "# Iteration over  numbers\n",
    "n = 10\n",
    "for i in range(n):\n",
    "    if i % 2 == 0:\n",
    "        print(i)"
   ]
  },
  {
   "cell_type": "markdown",
   "metadata": {},
   "source": [
    "#### while-loop\n",
    "\n",
    "```python\n",
    "while condition:\n",
    "    pass\n",
    "else:\n",
    "    pass\n",
    "```\n",
    "- The same as for-loop but we do not know when this loop will be finished\n",
    "- The same for ```else``` statement"
   ]
  },
  {
   "cell_type": "code",
   "execution_count": 16,
   "metadata": {},
   "outputs": [
    {
     "name": "stdout",
     "output_type": "stream",
     "text": [
      "9\n",
      "8\n",
      "7\n",
      "6\n",
      "5\n",
      "4\n",
      "3\n",
      "2\n",
      "1\n",
      "0\n",
      "OK!\n"
     ]
    }
   ],
   "source": [
    "n = 10\n",
    "while n > 0:\n",
    "    n -= 1\n",
    "    print(n)\n",
    "else:\n",
    "    print(\"OK!\")"
   ]
  },
  {
   "cell_type": "code",
   "execution_count": 17,
   "metadata": {},
   "outputs": [
    {
     "name": "stdout",
     "output_type": "stream",
     "text": [
      "4.0\n",
      "2.0\n",
      "1.0\n"
     ]
    }
   ],
   "source": [
    "m = 8\n",
    "while True:\n",
    "    if m % 2 == 0:\n",
    "        m /= 2\n",
    "    else:\n",
    "        break\n",
    "    print(m)\n",
    "else:\n",
    "    print(\"OK!\")"
   ]
  },
  {
   "cell_type": "markdown",
   "metadata": {},
   "source": [
    "### Built-in containers\n",
    "\n",
    "| C++ | Python  |\n",
    "|:--------:|:-----:|\n",
    "|```std::vector```|list|\n",
    "|```std::map```| dict|\n",
    "|```std::set```| set|\n",
    "|```std::tuple```| tuple|"
   ]
  },
  {
   "cell_type": "markdown",
   "metadata": {},
   "source": [
    "#### List\n",
    "\n",
    "- Mutable type\n",
    "- Store elements of different types\n",
    "- Resizeable\n",
    "- Indexing and slicing are similar to string\n",
    "- Complete docs [here](https://docs.python.org/3/tutorial/datastructures.html)"
   ]
  },
  {
   "cell_type": "code",
   "execution_count": 39,
   "metadata": {},
   "outputs": [
    {
     "name": "stdout",
     "output_type": "stream",
     "text": [
      "[1, 20, 30, -3]\n",
      "[10, 'Russia', True]\n",
      "1\n",
      "[1000, 20, 30, -3]\n",
      "[1000, 20, 30, -3, 'insert']\n"
     ]
    },
    {
     "ename": "IndexError",
     "evalue": "list assignment index out of range",
     "output_type": "error",
     "traceback": [
      "\u001b[0;31m---------------------------------------------------------------------------\u001b[0m",
      "\u001b[0;31mIndexError\u001b[0m                                Traceback (most recent call last)",
      "\u001b[0;32m<ipython-input-39-b03444f06b4b>\u001b[0m in \u001b[0;36m<module>\u001b[0;34m()\u001b[0m\n\u001b[1;32m      8\u001b[0m \u001b[0ml1\u001b[0m\u001b[0;34m.\u001b[0m\u001b[0minsert\u001b[0m\u001b[0;34m(\u001b[0m\u001b[0;36m10\u001b[0m\u001b[0;34m,\u001b[0m \u001b[0;34m\"insert\"\u001b[0m\u001b[0;34m)\u001b[0m\u001b[0;34m\u001b[0m\u001b[0m\n\u001b[1;32m      9\u001b[0m \u001b[0mprint\u001b[0m\u001b[0;34m(\u001b[0m\u001b[0ml1\u001b[0m\u001b[0;34m)\u001b[0m\u001b[0;34m\u001b[0m\u001b[0m\n\u001b[0;32m---> 10\u001b[0;31m \u001b[0ml1\u001b[0m\u001b[0;34m[\u001b[0m\u001b[0;36m11\u001b[0m\u001b[0;34m]\u001b[0m \u001b[0;34m=\u001b[0m \u001b[0;34m\"test\"\u001b[0m\u001b[0;34m\u001b[0m\u001b[0m\n\u001b[0m",
      "\u001b[0;31mIndexError\u001b[0m: list assignment index out of range"
     ]
    }
   ],
   "source": [
    "l1 = [1, 20, 30, -3]\n",
    "print(l1)\n",
    "l2 = [10, \"Russia\", True]\n",
    "print(l2)\n",
    "print(l1[0])\n",
    "l1[0] = 1000\n",
    "print(l1)\n",
    "l1.insert(10, \"insert\")\n",
    "print(l1)\n",
    "l1[11] = \"test\""
   ]
  },
  {
   "cell_type": "code",
   "execution_count": 19,
   "metadata": {},
   "outputs": [
    {
     "name": "stdout",
     "output_type": "stream",
     "text": [
      "1000\n",
      "20\n",
      "30\n",
      "-3\n"
     ]
    }
   ],
   "source": [
    "for element in l1:\n",
    "    print(element)"
   ]
  },
  {
   "cell_type": "code",
   "execution_count": 20,
   "metadata": {},
   "outputs": [
    {
     "name": "stdout",
     "output_type": "stream",
     "text": [
      "[1000, 20, 30, -3, 'False']\n",
      "False [1000, 20, 30, -3]\n",
      "[-3, 30, 20, 1000]\n"
     ]
    }
   ],
   "source": [
    "l1.append(\"False\")\n",
    "print(l1)\n",
    "final_value = l1.pop()\n",
    "print(final_value, l1)\n",
    "l1.reverse()\n",
    "print(l1)"
   ]
  },
  {
   "cell_type": "code",
   "execution_count": 21,
   "metadata": {},
   "outputs": [
    {
     "name": "stdout",
     "output_type": "stream",
     "text": [
      "[-3, 30, 20, 1000, 10, 'Russia', True]\n",
      "[-3, 30, 20, 1000, -3, 30, 20, 1000]\n",
      "[[-3, 30, 20, 1000], [-3, 30, 20, 1000]]\n",
      "[-3, 30, 20, 1000, 10, 'Russia', True]\n"
     ]
    },
    {
     "ename": "TypeError",
     "evalue": "unsupported operand type(s) for -: 'list' and 'list'",
     "output_type": "error",
     "traceback": [
      "\u001b[0;31m---------------------------------------------------------------------------\u001b[0m",
      "\u001b[0;31mTypeError\u001b[0m                                 Traceback (most recent call last)",
      "\u001b[0;32m<ipython-input-21-0d382559b67b>\u001b[0m in \u001b[0;36m<module>\u001b[0;34m()\u001b[0m\n\u001b[1;32m      4\u001b[0m \u001b[0ml1\u001b[0m \u001b[0;34m+=\u001b[0m \u001b[0ml2\u001b[0m\u001b[0;34m\u001b[0m\u001b[0m\n\u001b[1;32m      5\u001b[0m \u001b[0mprint\u001b[0m\u001b[0;34m(\u001b[0m\u001b[0ml1\u001b[0m\u001b[0;34m)\u001b[0m\u001b[0;34m\u001b[0m\u001b[0m\n\u001b[0;32m----> 6\u001b[0;31m \u001b[0mprint\u001b[0m\u001b[0;34m(\u001b[0m\u001b[0ml1\u001b[0m \u001b[0;34m-\u001b[0m \u001b[0ml2\u001b[0m\u001b[0;34m)\u001b[0m\u001b[0;34m\u001b[0m\u001b[0m\n\u001b[0m",
      "\u001b[0;31mTypeError\u001b[0m: unsupported operand type(s) for -: 'list' and 'list'"
     ]
    }
   ],
   "source": [
    "print(l1 + l2)\n",
    "print(2 * l1)\n",
    "print(2 * [l1])\n",
    "l1 += l2\n",
    "print(l1)\n",
    "print(l1 - l2)"
   ]
  },
  {
   "cell_type": "markdown",
   "metadata": {},
   "source": [
    "- List comprehension"
   ]
  },
  {
   "cell_type": "code",
   "execution_count": 22,
   "metadata": {},
   "outputs": [
    {
     "name": "stdout",
     "output_type": "stream",
     "text": [
      "[0, 1, 4, 9, 16]\n",
      "[0, 1, 4, 9, 16]\n",
      "[0, 4, 16]\n"
     ]
    }
   ],
   "source": [
    "nums = [0, 1, 2, 3, 4]\n",
    "squares = []\n",
    "for x in nums:\n",
    "    squares.append(x ** 2)\n",
    "print(squares)\n",
    "# Or\n",
    "squares = [x ** 2 for x in nums]\n",
    "print(squares)\n",
    "# And with if\n",
    "even_squares = [x ** 2 for x in nums if x % 2 == 0]\n",
    "print(even_squares)"
   ]
  },
  {
   "cell_type": "code",
   "execution_count": 38,
   "metadata": {},
   "outputs": [
    {
     "name": "stdout",
     "output_type": "stream",
     "text": [
      "[[1, 2, 3], [10, 20, 30]]\n",
      "[[123, 2, 3], [10, 20, 30]]\n",
      "[10, 20, 'test']\n"
     ]
    }
   ],
   "source": [
    "l1= [1,2,3]\n",
    "l2 = [10, 20, 30]\n",
    "l = [l1, l2]\n",
    "print(l)\n",
    "l1[0] = 123\n",
    "print(l)\n",
    "l[1][2] = \"test\"\n",
    "print(l2)"
   ]
  },
  {
   "cell_type": "markdown",
   "metadata": {},
   "source": [
    "#### Tuple\n",
    "\n",
    "- Immutable type as a string\n",
    "- Indexing and slicing work again\n",
    "- Packing and unpacking variables"
   ]
  },
  {
   "cell_type": "code",
   "execution_count": 23,
   "metadata": {},
   "outputs": [
    {
     "name": "stdout",
     "output_type": "stream",
     "text": [
      "(1, 2) Required 40 bytes\n",
      "[1, 2] Required 56 bytes\n"
     ]
    }
   ],
   "source": [
    "t1 = (1, 2)\n",
    "l1 = [1, 2]\n",
    "print(t1, \"Required {} bytes\".format(t1.__sizeof__()))\n",
    "print(l1, \"Required {} bytes\".format(l1.__sizeof__()))"
   ]
  },
  {
   "cell_type": "code",
   "execution_count": 24,
   "metadata": {},
   "outputs": [
    {
     "name": "stdout",
     "output_type": "stream",
     "text": [
      "1 2\n"
     ]
    },
    {
     "ename": "IndexError",
     "evalue": "tuple index out of range",
     "output_type": "error",
     "traceback": [
      "\u001b[0;31m---------------------------------------------------------------------------\u001b[0m",
      "\u001b[0;31mIndexError\u001b[0m                                Traceback (most recent call last)",
      "\u001b[0;32m<ipython-input-24-919c6c456453>\u001b[0m in \u001b[0;36m<module>\u001b[0;34m()\u001b[0m\n\u001b[1;32m      1\u001b[0m \u001b[0mprint\u001b[0m\u001b[0;34m(\u001b[0m\u001b[0mt1\u001b[0m\u001b[0;34m[\u001b[0m\u001b[0;36m0\u001b[0m\u001b[0;34m]\u001b[0m\u001b[0;34m,\u001b[0m \u001b[0mt1\u001b[0m\u001b[0;34m[\u001b[0m\u001b[0;36m1\u001b[0m\u001b[0;34m]\u001b[0m\u001b[0;34m)\u001b[0m\u001b[0;34m\u001b[0m\u001b[0m\n\u001b[0;32m----> 2\u001b[0;31m \u001b[0mprint\u001b[0m\u001b[0;34m(\u001b[0m\u001b[0mt1\u001b[0m\u001b[0;34m[\u001b[0m\u001b[0;36m3\u001b[0m\u001b[0;34m]\u001b[0m\u001b[0;34m)\u001b[0m\u001b[0;34m\u001b[0m\u001b[0m\n\u001b[0m",
      "\u001b[0;31mIndexError\u001b[0m: tuple index out of range"
     ]
    }
   ],
   "source": [
    "print(t1[0], t1[1])\n",
    "print(t1[3])"
   ]
  },
  {
   "cell_type": "code",
   "execution_count": 25,
   "metadata": {},
   "outputs": [
    {
     "name": "stdout",
     "output_type": "stream",
     "text": [
      "(1, 2, 4, 5)\n",
      "(2, 4)\n",
      "(5, 4, 2, 1)\n"
     ]
    },
    {
     "ename": "TypeError",
     "evalue": "'tuple' object does not support item assignment",
     "output_type": "error",
     "traceback": [
      "\u001b[0;31m---------------------------------------------------------------------------\u001b[0m",
      "\u001b[0;31mTypeError\u001b[0m                                 Traceback (most recent call last)",
      "\u001b[0;32m<ipython-input-25-d4bf1a581fb5>\u001b[0m in \u001b[0;36m<module>\u001b[0;34m()\u001b[0m\n\u001b[1;32m      3\u001b[0m \u001b[0mprint\u001b[0m\u001b[0;34m(\u001b[0m\u001b[0mt3\u001b[0m\u001b[0;34m[\u001b[0m\u001b[0;36m1\u001b[0m\u001b[0;34m:\u001b[0m\u001b[0;36m3\u001b[0m\u001b[0;34m]\u001b[0m\u001b[0;34m)\u001b[0m\u001b[0;34m\u001b[0m\u001b[0m\n\u001b[1;32m      4\u001b[0m \u001b[0mprint\u001b[0m\u001b[0;34m(\u001b[0m\u001b[0mt3\u001b[0m\u001b[0;34m[\u001b[0m\u001b[0;34m:\u001b[0m\u001b[0;34m:\u001b[0m\u001b[0;34m-\u001b[0m\u001b[0;36m1\u001b[0m\u001b[0;34m]\u001b[0m\u001b[0;34m)\u001b[0m\u001b[0;34m\u001b[0m\u001b[0m\n\u001b[0;32m----> 5\u001b[0;31m \u001b[0mt3\u001b[0m\u001b[0;34m[\u001b[0m\u001b[0;36m3\u001b[0m\u001b[0;34m]\u001b[0m \u001b[0;34m=\u001b[0m \u001b[0;36m4\u001b[0m\u001b[0;34m\u001b[0m\u001b[0m\n\u001b[0m",
      "\u001b[0;31mTypeError\u001b[0m: 'tuple' object does not support item assignment"
     ]
    }
   ],
   "source": [
    "t3 = t1 + (4, 5)\n",
    "print(t3)\n",
    "print(t3[1:3])\n",
    "print(t3[::-1])\n",
    "t3[3] = 4"
   ]
  },
  {
   "cell_type": "code",
   "execution_count": 26,
   "metadata": {},
   "outputs": [
    {
     "name": "stdout",
     "output_type": "stream",
     "text": [
      "([1, 2], [10, 20])\n",
      "([10, 2], [10, 20])\n"
     ]
    },
    {
     "ename": "TypeError",
     "evalue": "'tuple' object does not support item assignment",
     "output_type": "error",
     "traceback": [
      "\u001b[0;31m---------------------------------------------------------------------------\u001b[0m",
      "\u001b[0;31mTypeError\u001b[0m                                 Traceback (most recent call last)",
      "\u001b[0;32m<ipython-input-26-ff1a7fe81bb1>\u001b[0m in \u001b[0;36m<module>\u001b[0;34m()\u001b[0m\n\u001b[1;32m      3\u001b[0m \u001b[0mt4\u001b[0m\u001b[0;34m[\u001b[0m\u001b[0;36m0\u001b[0m\u001b[0;34m]\u001b[0m\u001b[0;34m[\u001b[0m\u001b[0;36m0\u001b[0m\u001b[0;34m]\u001b[0m \u001b[0;34m=\u001b[0m \u001b[0;36m10\u001b[0m\u001b[0;34m\u001b[0m\u001b[0m\n\u001b[1;32m      4\u001b[0m \u001b[0mprint\u001b[0m\u001b[0;34m(\u001b[0m\u001b[0mt4\u001b[0m\u001b[0;34m)\u001b[0m\u001b[0;34m\u001b[0m\u001b[0m\n\u001b[0;32m----> 5\u001b[0;31m \u001b[0mt4\u001b[0m\u001b[0;34m[\u001b[0m\u001b[0;36m0\u001b[0m\u001b[0;34m]\u001b[0m \u001b[0;34m=\u001b[0m \u001b[0;36m5\u001b[0m\u001b[0;34m\u001b[0m\u001b[0m\n\u001b[0m",
      "\u001b[0;31mTypeError\u001b[0m: 'tuple' object does not support item assignment"
     ]
    }
   ],
   "source": [
    "t4 = ([1,2], [10, 20])\n",
    "print(t4)\n",
    "t4[0][0] = 10\n",
    "print(t4)\n",
    "t4[0] = 5"
   ]
  },
  {
   "cell_type": "code",
   "execution_count": 27,
   "metadata": {},
   "outputs": [
    {
     "name": "stdout",
     "output_type": "stream",
     "text": [
      "0\n",
      "1\n"
     ]
    }
   ],
   "source": [
    "t5 = ()\n",
    "print(len(t5))\n",
    "t5 = 1,\n",
    "print(len(t5))"
   ]
  },
  {
   "cell_type": "code",
   "execution_count": 28,
   "metadata": {},
   "outputs": [
    {
     "name": "stdout",
     "output_type": "stream",
     "text": [
      "apple blueberry orange\n"
     ]
    }
   ],
   "source": [
    "t6 = (\"apple\", \"blueberry\", \"orange\")\n",
    "apple, bb, orange = t6\n",
    "print(apple, bb, orange)"
   ]
  },
  {
   "cell_type": "code",
   "execution_count": 29,
   "metadata": {},
   "outputs": [
    {
     "name": "stdout",
     "output_type": "stream",
     "text": [
      "[(0, 0), (1, 1), (2, 4), (3, 9), (4, 16), (5, 25), (6, 36), (7, 49), (8, 64), (9, 81)]\n"
     ]
    }
   ],
   "source": [
    "l1 = [(i, i**2) for i in range(10)]\n",
    "print(l1)"
   ]
  },
  {
   "cell_type": "markdown",
   "metadata": {},
   "source": [
    "#### Dict\n",
    "\n",
    "- Store (key, value) pairs\n",
    "- Key has to be immutable type\n",
    "- Values for keys can be changed\n",
    "- Add new pairs"
   ]
  },
  {
   "cell_type": "code",
   "execution_count": 1,
   "metadata": {},
   "outputs": [
    {
     "name": "stdout",
     "output_type": "stream",
     "text": [
      "{'cat': 12, 'dog': 40}\n",
      "12\n",
      "True\n"
     ]
    }
   ],
   "source": [
    "d = {\"cat\": 12, \"dog\": 40}\n",
    "print(d)\n",
    "print(d[\"cat\"])\n",
    "print(\"cat\" in d)"
   ]
  },
  {
   "cell_type": "code",
   "execution_count": 4,
   "metadata": {},
   "outputs": [
    {
     "name": "stdout",
     "output_type": "stream",
     "text": [
      "{'cat': 12, 'dog': 40, 'fox': 34}\n"
     ]
    },
    {
     "ename": "TypeError",
     "evalue": "unhashable type: 'list'",
     "output_type": "error",
     "traceback": [
      "\u001b[0;31m---------------------------------------------------------------------------\u001b[0m",
      "\u001b[0;31mTypeError\u001b[0m                                 Traceback (most recent call last)",
      "\u001b[0;32m<ipython-input-4-1038b73d315f>\u001b[0m in \u001b[0;36m<module>\u001b[0;34m()\u001b[0m\n\u001b[1;32m      2\u001b[0m \u001b[0mprint\u001b[0m\u001b[0;34m(\u001b[0m\u001b[0md\u001b[0m\u001b[0;34m)\u001b[0m\u001b[0;34m\u001b[0m\u001b[0m\n\u001b[1;32m      3\u001b[0m \u001b[0md\u001b[0m\u001b[0;34m[\u001b[0m\u001b[0;34m(\u001b[0m\u001b[0;36m1\u001b[0m\u001b[0;34m,\u001b[0m\u001b[0;36m2\u001b[0m\u001b[0;34m,\u001b[0m\u001b[0;36m3\u001b[0m\u001b[0;34m)\u001b[0m\u001b[0;34m]\u001b[0m \u001b[0;34m=\u001b[0m \u001b[0;34m\"tuple\"\u001b[0m\u001b[0;34m\u001b[0m\u001b[0m\n\u001b[0;32m----> 4\u001b[0;31m \u001b[0md\u001b[0m\u001b[0;34m[\u001b[0m\u001b[0;34m[\u001b[0m\u001b[0;36m1\u001b[0m\u001b[0;34m,\u001b[0m \u001b[0;36m2\u001b[0m\u001b[0;34m,\u001b[0m \u001b[0;36m3\u001b[0m\u001b[0;34m]\u001b[0m\u001b[0;34m]\u001b[0m \u001b[0;34m=\u001b[0m \u001b[0;34m\"list\"\u001b[0m\u001b[0;34m\u001b[0m\u001b[0m\n\u001b[0m",
      "\u001b[0;31mTypeError\u001b[0m: unhashable type: 'list'"
     ]
    }
   ],
   "source": [
    "d[\"fox\"] = 34\n",
    "print(d)\n",
    "d[(1,2,3)] = \"tuple\"\n",
    "d[[1, 2, 3]] = \"list\""
   ]
  },
  {
   "cell_type": "code",
   "execution_count": 5,
   "metadata": {},
   "outputs": [
    {
     "name": "stdout",
     "output_type": "stream",
     "text": [
      "cat 12\n",
      "dog 40\n",
      "fox 34\n",
      "(1, 2, 3) tuple\n"
     ]
    }
   ],
   "source": [
    "for key in d:\n",
    "    print(key, d[key])"
   ]
  },
  {
   "cell_type": "code",
   "execution_count": 13,
   "metadata": {},
   "outputs": [
    {
     "name": "stdout",
     "output_type": "stream",
     "text": [
      "cat\n",
      "dog\n",
      "fox\n",
      "(1, 2, 3)\n"
     ]
    }
   ],
   "source": [
    "for key in d:\n",
    "    print(key)"
   ]
  },
  {
   "cell_type": "code",
   "execution_count": 14,
   "metadata": {},
   "outputs": [
    {
     "name": "stdout",
     "output_type": "stream",
     "text": [
      "12\n",
      "40\n",
      "34\n",
      "tuple\n"
     ]
    }
   ],
   "source": [
    "for val in d.values():\n",
    "    print(val)"
   ]
  },
  {
   "cell_type": "code",
   "execution_count": 15,
   "metadata": {},
   "outputs": [
    {
     "name": "stdout",
     "output_type": "stream",
     "text": [
      "cat 12\n",
      "dog 40\n",
      "fox 34\n",
      "(1, 2, 3) tuple\n"
     ]
    }
   ],
   "source": [
    "for k, v in d.items():\n",
    "    print(k, v)"
   ]
  },
  {
   "cell_type": "markdown",
   "metadata": {},
   "source": [
    "- Dict comprehensions"
   ]
  },
  {
   "cell_type": "code",
   "execution_count": 8,
   "metadata": {},
   "outputs": [
    {
     "name": "stdout",
     "output_type": "stream",
     "text": [
      "{1: 2, 2: 4, 3: 6}\n"
     ]
    }
   ],
   "source": [
    "d2 = {key: 2*key for key in [1,2,3]}\n",
    "print(d2)"
   ]
  },
  {
   "cell_type": "markdown",
   "metadata": {},
   "source": [
    "#### Set\n",
    "\n",
    "- Unordered collection with no duplicate elements \n",
    "- Support mathematical operations like union, intersection, difference, and symmetric difference\n",
    "- Complete docs [here](https://docs.python.org/3/tutorial/datastructures.html#sets)"
   ]
  },
  {
   "cell_type": "code",
   "execution_count": 19,
   "metadata": {},
   "outputs": [
    {
     "name": "stdout",
     "output_type": "stream",
     "text": [
      "set()\n",
      "{'r', 'a', 'b', 'c', 'd'} 5\n",
      "{'r', 'a', 'b', 'y', 'c', 'd'} 6\n",
      "{'r', 'b', 'y', 'c', 'd'} 5\n"
     ]
    }
   ],
   "source": [
    "s = set()\n",
    "print(s)\n",
    "string = \"abracadabra\"\n",
    "s = set(string)\n",
    "print(s, len(s))\n",
    "s.add(\"y\")\n",
    "print(s, len(s))\n",
    "s.remove(\"a\")\n",
    "print(s, len(s))"
   ]
  },
  {
   "cell_type": "code",
   "execution_count": 42,
   "metadata": {},
   "outputs": [
    {
     "name": "stdout",
     "output_type": "stream",
     "text": [
      "{56, 1, 3}\n",
      "{2}\n",
      "{1, 3, 10, 45, 56}\n",
      "{1, 2, 3, 10, 45, 56}\n"
     ]
    }
   ],
   "source": [
    "s1 = set([1,2,3,2,56])\n",
    "s2 = set([2,45,10])\n",
    "print(s1 - s2)\n",
    "print(s1 & s2)\n",
    "print(s1 ^ s2)\n",
    "print(s1 | s2)"
   ]
  },
  {
   "cell_type": "markdown",
   "metadata": {},
   "source": [
    "### Other containers\n",
    "\n",
    "- You can use other containers, which are available in module [collections](https://docs.python.org/3/library/collections.html)\n",
    "- Just import it\n",
    "```python\n",
    "import collections\n",
    "```\n",
    "and you have other containers\n",
    "    - Deque\n",
    "    - OrderedDict\n",
    "    - ..."
   ]
  },
  {
   "cell_type": "markdown",
   "metadata": {},
   "source": [
    "### Functions\n",
    "\n",
    "```python\n",
    "def function_name(arguments):\n",
    "#     make something\n",
    "    return something\n",
    "```"
   ]
  },
  {
   "cell_type": "code",
   "execution_count": 43,
   "metadata": {},
   "outputs": [
    {
     "name": "stdout",
     "output_type": "stream",
     "text": [
      "negative\n",
      "zero\n",
      "positive\n"
     ]
    }
   ],
   "source": [
    "def sign(x):\n",
    "    if x > 0:\n",
    "        return 'positive'\n",
    "    elif x < 0:\n",
    "        return 'negative'\n",
    "    else:\n",
    "        return 'zero'\n",
    "\n",
    "for x in [-1, 0, 2]:\n",
    "    print(sign(x))"
   ]
  },
  {
   "cell_type": "code",
   "execution_count": 28,
   "metadata": {},
   "outputs": [
    {
     "name": "stdout",
     "output_type": "stream",
     "text": [
      "Hello, Ivan!\n",
      "HELLO, GEORGE\n"
     ]
    }
   ],
   "source": [
    "def say_hello(name, loud=False):\n",
    "    if loud:\n",
    "        print('HELLO, {}'.format(name.upper()))\n",
    "    else:\n",
    "        print('Hello, {}!'.format(name))\n",
    "\n",
    "say_hello('Ivan')\n",
    "say_hello('George', loud=True)"
   ]
  },
  {
   "cell_type": "code",
   "execution_count": 44,
   "metadata": {},
   "outputs": [
    {
     "name": "stdout",
     "output_type": "stream",
     "text": [
      "10\n",
      "args elements\n",
      "100\n",
      "string\n",
      "kwargs elements\n",
      "s1 10\n",
      "r2 (1, 67)\n"
     ]
    }
   ],
   "source": [
    "def test_func(x, *args, **kwargs):\n",
    "    print(x)\n",
    "    print(\"args elements\")\n",
    "    for l in args:\n",
    "        print(l)\n",
    "    print(\"kwargs elements\")\n",
    "    for key in kwargs:\n",
    "        print(key, kwargs[key])\n",
    "\n",
    "test_func(10, 100, \"string\", s1=10, r2=(1,67))"
   ]
  },
  {
   "cell_type": "markdown",
   "metadata": {},
   "source": [
    "### Classes\n",
    "\n",
    "- Syntax of class defining is straightforward\n",
    "- No destructors, because of garbage collector works \n",
    "- All methods are virtual and all members are public \n",
    "- But you can make memebers private with special approaches\n",
    "- Complete doc is [here](https://docs.python.org/3/tutorial/classes.html)"
   ]
  },
  {
   "cell_type": "code",
   "execution_count": 36,
   "metadata": {},
   "outputs": [
    {
     "name": "stdout",
     "output_type": "stream",
     "text": [
      "Hello, John\n",
      "HELLO, JOHN!\n"
     ]
    }
   ],
   "source": [
    "class Greeter:\n",
    "\n",
    "    # Constructor\n",
    "    def __init__(self, name):\n",
    "        self.name = name  # Create an instance variable\n",
    "\n",
    "    # Instance method\n",
    "    def greet(self, loud=False):\n",
    "        if loud:\n",
    "            print('HELLO, {}!'.format(self.name.upper()))\n",
    "        else:\n",
    "            print('Hello, {}'.format(self.name))\n",
    "\n",
    "g = Greeter('John')  # Construct an instance of the Greeter class\n",
    "g.greet()            # Call an instance method; prints \"Hello, Fred\"\n",
    "g.greet(loud=True)   # Call an instance method; prints \"HELLO, FRED!\""
   ]
  },
  {
   "cell_type": "markdown",
   "metadata": {},
   "source": [
    "### Modules\n",
    "\n",
    "- You can import modules with command \n",
    "```python\n",
    "import module_name\n",
    "```\n",
    "and use functions from this module as\n",
    "```python\n",
    "module_name.func()\n",
    "```\n",
    "- Other way is to use aliases\n",
    "```python\n",
    "import module_name as mn\n",
    "```\n",
    "and use functions from this module as\n",
    "```python\n",
    "mn.func()\n",
    "```\n",
    "- Other ways of importing are not appropriate"
   ]
  },
  {
   "cell_type": "markdown",
   "metadata": {},
   "source": [
    "### Exerсises\n",
    "\n",
    "1. Implement bubble-sort, merge-sort and quick-sort algorithms as three functions with input argument &mdash; array and output is sorted array. \n",
    "Compare its running time depending on the size of array and also compare running time your functions with built-in method ```sort```. \n",
    "Plot lines time vs. array size for every sorting algorithm. \n",
    "Time has to be computed with [%timeit magic](http://ipython.readthedocs.io/en/stable/interactive/magics.html). \n",
    "How plot lines see further in this notebook.  \n",
    "2. Show convergence of Taylor expansion for functions $\\sin(x)$, $e^x$ and $\\frac{1}{1 - x}$. \n",
    "Plot approximation error vs. number of items in sum. \n",
    "Compare different strategies of ordering items in sum. \n",
    "To compute required functions use library [```math```](https://docs.python.org/3.6/library/math.html)\n",
    "\n",
    "3. Implement function that tests if given number is prime or not.\n",
    "Input is positive integer, output is ```True``` or ```False```."
   ]
  },
  {
   "cell_type": "code",
   "execution_count": null,
   "metadata": {
    "collapsed": true
   },
   "outputs": [],
   "source": [
    "# Your code is here"
   ]
  },
  {
   "cell_type": "markdown",
   "metadata": {},
   "source": [
    "## NumPy, SciPy & Matplotlib\n",
    "\n",
    "- Numpy is the core library for scientific computing in Python \n",
    "- It provides a high-performance multidimensional array object, and tools for working with these arrays\n",
    "- For Matlab users [here](http://scipy.github.io/old-wiki/pages/NumPy_for_Matlab_Users) is great tutorial\n",
    "- SciPy provides tools for working with sparse matrices\n",
    "- Matplotlib is a library to plot your data"
   ]
  },
  {
   "cell_type": "markdown",
   "metadata": {
    "collapsed": true
   },
   "source": [
    "### NumPy"
   ]
  },
  {
   "cell_type": "code",
   "execution_count": 145,
   "metadata": {},
   "outputs": [
    {
     "name": "stdout",
     "output_type": "stream",
     "text": [
      "[ 0.  0.  0.  0.  0.]\n",
      "[ 1.  1.  1.  1.  1.]\n",
      "[ 0.15578491  0.6744865   0.51882869  0.19480641  0.83091029]\n",
      "[-1.040755    1.393661    0.86498159  0.7941398   1.57691698]\n",
      "[3 1 2 0 2]\n",
      "[[ 1.  0.  0.  0.  0.]\n",
      " [ 0.  1.  0.  0.  0.]\n",
      " [ 0.  0.  1.  0.  0.]\n",
      " [ 0.  0.  0.  1.  0.]\n",
      " [ 0.  0.  0.  0.  1.]]\n"
     ]
    }
   ],
   "source": [
    "import numpy as np\n",
    "\n",
    "n = 5\n",
    "print(np.zeros(n))\n",
    "print(np.ones(n))\n",
    "print(np.random.rand(n))\n",
    "print(np.random.randn(n))\n",
    "print(np.random.randint(n, size=n))\n",
    "print(np.eye(n))"
   ]
  },
  {
   "cell_type": "code",
   "execution_count": 136,
   "metadata": {},
   "outputs": [
    {
     "name": "stdout",
     "output_type": "stream",
     "text": [
      "[0 1 2 3 4] (5,)\n",
      "[ 0.74817055  0.99595381  0.32265908  0.10092179  0.44618531]\n",
      "[ 0.74817055  1.99595381  2.32265908  3.10092179  4.44618531]\n",
      "[-0.74817055  0.00404619  1.67734092  2.89907821  3.55381469]\n",
      "[0 2 4 6 8]\n",
      "[  0.           1.00406263   6.19849292  29.72598856   8.96488504]\n",
      "[ 0  1  4  9 16]\n",
      "[ 0.          1.          1.41421356  1.73205081  2.        ]\n",
      "3.72877857284\n",
      "30.0 30\n"
     ]
    }
   ],
   "source": [
    "x = np.array([i for i in range(n)])\n",
    "print(x, x.shape)\n",
    "y = np.random.rand(n)\n",
    "print(y)\n",
    "print(x + y)\n",
    "print(x - y)\n",
    "print(2 * x)\n",
    "print(x / y)\n",
    "print(np.power(x, 2))\n",
    "print(np.sqrt(x))\n",
    "print(x.dot(y))\n",
    "print(np.linalg.norm(x)**2, x.dot(x))"
   ]
  },
  {
   "cell_type": "markdown",
   "metadata": {},
   "source": [
    "- Slicing is the same as for lists but slicing for numpy array returns **view** not a copy!"
   ]
  },
  {
   "cell_type": "code",
   "execution_count": 135,
   "metadata": {},
   "outputs": [
    {
     "name": "stdout",
     "output_type": "stream",
     "text": [
      "[0 1 2]\n",
      "[1000    1    2    3    4] [1000    1    2]\n",
      "[1000    1    2    3    4] [-1000     1     2]\n"
     ]
    }
   ],
   "source": [
    "x_slice = x[:3]\n",
    "print(x_slice)\n",
    "x_slice[0] = 1000\n",
    "print(x, x_slice)\n",
    "x_copy = x[:3].copy()\n",
    "x_copy[0] = -1000\n",
    "print(x, x_copy)"
   ]
  },
  {
   "cell_type": "code",
   "execution_count": 143,
   "metadata": {},
   "outputs": [
    {
     "name": "stdout",
     "output_type": "stream",
     "text": [
      "[[ 0.34044086  0.70008041  0.43877448  0.2505903   0.46584852]\n",
      " [ 0.58757611  0.03112146  0.54111497  0.10976203  0.93431785]\n",
      " [ 0.94782447  0.80881944  0.33501698  0.21048427  0.01999873]] [0 1 2 3 4]\n",
      "[ 4.19279435  5.17990889  2.19030113]\n",
      "[[ 0.34044086  1.70008041  2.43877448  3.2505903   4.46584852]\n",
      " [ 0.58757611  1.03112146  2.54111497  3.10976203  4.93431785]\n",
      " [ 0.94782447  1.80881944  2.33501698  3.21048427  4.01999873]]\n",
      "[[ 0.          0.70008041  0.87754896  0.7517709   1.86339409]\n",
      " [ 0.          0.03112146  1.08222993  0.32928609  3.73727141]\n",
      " [ 0.          0.80881944  0.67003395  0.63145282  0.07999492]]\n",
      "[[ 0.34044086 -0.29991959 -1.56122552 -2.7494097  -3.53415148]\n",
      " [ 0.58757611 -0.96887854 -1.45888503 -2.89023797 -3.06568215]\n",
      " [ 0.94782447 -0.19118056 -1.66498302 -2.78951573 -3.98000127]]\n",
      "[[        inf  0.70008041  0.21938724  0.0835301   0.11646213]\n",
      " [        inf  0.03112146  0.27055748  0.03658734  0.23357946]\n",
      " [        inf  0.80881944  0.16750849  0.07016142  0.00499968]]\n"
     ]
    },
    {
     "name": "stderr",
     "output_type": "stream",
     "text": [
      "/home/alex/anaconda2/envs/p3/lib/python3.6/site-packages/ipykernel/__main__.py:8: RuntimeWarning: divide by zero encountered in true_divide\n"
     ]
    }
   ],
   "source": [
    "m, n = 3, n\n",
    "X = np.random.rand(m, n)\n",
    "print(X, x)\n",
    "print(X.dot(x))\n",
    "print(X + x)\n",
    "print(X * x)\n",
    "print(X - x)\n",
    "print(X / x)"
   ]
  },
  {
   "cell_type": "code",
   "execution_count": 144,
   "metadata": {},
   "outputs": [
    {
     "ename": "ValueError",
     "evalue": "shapes (3,4) and (5,) not aligned: 4 (dim 1) != 5 (dim 0)",
     "output_type": "error",
     "traceback": [
      "\u001b[0;31m---------------------------------------------------------------------------\u001b[0m",
      "\u001b[0;31mValueError\u001b[0m                                Traceback (most recent call last)",
      "\u001b[0;32m<ipython-input-144-6ad24dcb348d>\u001b[0m in \u001b[0;36m<module>\u001b[0;34m()\u001b[0m\n\u001b[0;32m----> 1\u001b[0;31m \u001b[0mprint\u001b[0m\u001b[0;34m(\u001b[0m\u001b[0mnp\u001b[0m\u001b[0;34m.\u001b[0m\u001b[0mrandom\u001b[0m\u001b[0;34m.\u001b[0m\u001b[0mrand\u001b[0m\u001b[0;34m(\u001b[0m\u001b[0;36m3\u001b[0m\u001b[0;34m,\u001b[0m \u001b[0;36m4\u001b[0m\u001b[0;34m)\u001b[0m\u001b[0;34m.\u001b[0m\u001b[0mdot\u001b[0m\u001b[0;34m(\u001b[0m\u001b[0mx\u001b[0m\u001b[0;34m)\u001b[0m\u001b[0;34m)\u001b[0m\u001b[0;34m\u001b[0m\u001b[0m\n\u001b[0m",
      "\u001b[0;31mValueError\u001b[0m: shapes (3,4) and (5,) not aligned: 4 (dim 1) != 5 (dim 0)"
     ]
    }
   ],
   "source": [
    "print(np.random.rand(3, 4).dot(x))"
   ]
  },
  {
   "cell_type": "code",
   "execution_count": 161,
   "metadata": {},
   "outputs": [
    {
     "name": "stdout",
     "output_type": "stream",
     "text": [
      "[[ 1.00246781  1.36795383  1.56123031]\n",
      " [ 0.97373788  1.89615967  1.08481103]\n",
      " [ 0.47428636  0.58404846  1.02623811]\n",
      " [ 0.80243703  1.16904652  1.41954766]\n",
      " [ 0.88505249  1.60420851  1.2212867 ]]\n"
     ]
    },
    {
     "ename": "ValueError",
     "evalue": "operands could not be broadcast together with shapes (5,5) (5,3) ",
     "output_type": "error",
     "traceback": [
      "\u001b[0;31m---------------------------------------------------------------------------\u001b[0m",
      "\u001b[0;31mValueError\u001b[0m                                Traceback (most recent call last)",
      "\u001b[0;32m<ipython-input-161-9b6a6b228353>\u001b[0m in \u001b[0;36m<module>\u001b[0;34m()\u001b[0m\n\u001b[1;32m      2\u001b[0m \u001b[0mY\u001b[0m \u001b[0;34m=\u001b[0m \u001b[0mnp\u001b[0m\u001b[0;34m.\u001b[0m\u001b[0mrandom\u001b[0m\u001b[0;34m.\u001b[0m\u001b[0mrand\u001b[0m\u001b[0;34m(\u001b[0m\u001b[0mn\u001b[0m\u001b[0;34m,\u001b[0m \u001b[0mm\u001b[0m\u001b[0;34m)\u001b[0m\u001b[0;34m\u001b[0m\u001b[0m\n\u001b[1;32m      3\u001b[0m \u001b[0mprint\u001b[0m\u001b[0;34m(\u001b[0m\u001b[0mX\u001b[0m\u001b[0;34m.\u001b[0m\u001b[0mdot\u001b[0m\u001b[0;34m(\u001b[0m\u001b[0mY\u001b[0m\u001b[0;34m)\u001b[0m\u001b[0;34m)\u001b[0m\u001b[0;34m\u001b[0m\u001b[0m\n\u001b[0;32m----> 4\u001b[0;31m \u001b[0mprint\u001b[0m\u001b[0;34m(\u001b[0m\u001b[0mX\u001b[0m \u001b[0;34m+\u001b[0m \u001b[0mY\u001b[0m\u001b[0;34m)\u001b[0m\u001b[0;34m\u001b[0m\u001b[0m\n\u001b[0m",
      "\u001b[0;31mValueError\u001b[0m: operands could not be broadcast together with shapes (5,5) (5,3) "
     ]
    }
   ],
   "source": [
    "X = np.random.rand(n, n)\n",
    "Y = np.random.rand(n, m)\n",
    "print(X.dot(Y))\n",
    "print(X + Y)"
   ]
  },
  {
   "cell_type": "code",
   "execution_count": 163,
   "metadata": {},
   "outputs": [
    {
     "name": "stdout",
     "output_type": "stream",
     "text": [
      "[[ 0.88929366  0.17644666  0.10875208  0.16778466  0.24410678]\n",
      " [ 0.58166789  0.81937359  0.67989028  0.64453369  0.95157783]\n",
      " [ 0.7824564   0.1528505   0.82226366  0.64670831  0.23811461]]\n",
      "[ 0.88929366  0.58166789  0.7824564 ]\n",
      "[ 0.7824564   0.1528505   0.82226366  0.64670831  0.23811461]\n",
      "[[ 0.88929366  0.17644666  0.10875208  0.16778466  0.24410678]\n",
      " [ 0.7824564   0.1528505   0.82226366  0.64670831  0.23811461]]\n",
      "[[ 0.88929366  0.17644666  0.10875208  0.16778466]\n",
      " [ 0.58166789  0.81937359  0.67989028  0.64453369]\n",
      " [ 0.7824564   0.1528505   0.82226366  0.64670831]]\n",
      "[ 0.81937359  0.1528505 ]\n"
     ]
    }
   ],
   "source": [
    "X = np.random.rand(m, n)\n",
    "print(X)\n",
    "print(X[:, 0])\n",
    "print(X[-1, :])\n",
    "print(X[::2, :])\n",
    "print(X[:3, :-1])\n",
    "print(X[1:, 1])"
   ]
  },
  {
   "cell_type": "code",
   "execution_count": 164,
   "metadata": {},
   "outputs": [
    {
     "name": "stdout",
     "output_type": "stream",
     "text": [
      "[[ 0.88929366  0.17644666  0.10875208  0.16778466  0.24410678]\n",
      " [ 0.58166789  0.81937359  0.67989028  0.64453369  0.95157783]\n",
      " [ 0.7824564   0.1528505   0.82226366  0.64670831  0.23811461]]\n",
      "2.34543768133\n",
      "2.53093090622\n",
      "[ 0.88929366  0.81937359  0.82226366]\n",
      "[ 0.88929366  0.17644666  0.10875208  0.16778466  0.24410678  0.58166789\n",
      "  0.81937359  0.67989028  0.64453369  0.95157783  0.7824564   0.1528505\n",
      "  0.82226366  0.64670831  0.23811461]\n",
      "[[ 0.88929366  0.17644666  0.10875208  0.16778466  0.24410678  0.58166789\n",
      "   0.81937359  0.67989028  0.64453369  0.95157783  0.7824564   0.1528505\n",
      "   0.82226366  0.64670831  0.23811461]]\n"
     ]
    }
   ],
   "source": [
    "print(X)\n",
    "print(np.linalg.norm(X))\n",
    "print(np.trace(X))\n",
    "print(np.diag(X))\n",
    "print(X[X > 0.1])\n",
    "print(X.reshape(1, 15))"
   ]
  },
  {
   "cell_type": "code",
   "execution_count": 165,
   "metadata": {},
   "outputs": [
    {
     "name": "stdout",
     "output_type": "stream",
     "text": [
      "0.1087520838\n",
      "7.90582058631\n",
      "[ 2.25341794  1.14867074  1.61090602  1.45902666  1.43379922]\n",
      "0.951577826961\n",
      "0.527054705754\n"
     ]
    }
   ],
   "source": [
    "print(X.min())\n",
    "print(X.sum())\n",
    "print(X.sum(axis=0))\n",
    "print(X.max())\n",
    "print(X.mean())"
   ]
  },
  {
   "cell_type": "markdown",
   "metadata": {},
   "source": [
    "- NumPy includes implementations of almost any mathematical function and applies it element-wise to array\n",
    "- Complete doc is [here](https://docs.scipy.org/doc/numpy-1.13.0/reference/)"
   ]
  },
  {
   "cell_type": "code",
   "execution_count": 166,
   "metadata": {},
   "outputs": [
    {
     "name": "stdout",
     "output_type": "stream",
     "text": [
      "[  0.00000000e+00   1.00000000e+00   1.22464680e-16  -1.00000000e+00\n",
      "  -2.44929360e-16]\n",
      "[  1.00000000e+00   6.12323400e-17  -1.00000000e+00  -1.83697020e-16\n",
      "   1.00000000e+00]\n"
     ]
    }
   ],
   "source": [
    "args = np.arange(0, 2.5*np.pi, 0.5*np.pi)\n",
    "print(np.sin(args))\n",
    "print(np.cos(args))"
   ]
  },
  {
   "cell_type": "code",
   "execution_count": 168,
   "metadata": {},
   "outputs": [
    {
     "name": "stdout",
     "output_type": "stream",
     "text": [
      "7.73773282507e-14\n"
     ]
    }
   ],
   "source": [
    "n = 100\n",
    "A = np.random.rand(n, n)\n",
    "x_true = np.random.randn(n)\n",
    "b = A.dot(x_true)\n",
    "x = np.linalg.solve(A, b)\n",
    "print(np.linalg.norm(x - x_true))"
   ]
  },
  {
   "cell_type": "code",
   "execution_count": 167,
   "metadata": {
    "collapsed": true
   },
   "outputs": [],
   "source": [
    "# Try test numpy functions for your own research routines (optional)"
   ]
  },
  {
   "cell_type": "markdown",
   "metadata": {
    "collapsed": true
   },
   "source": [
    "### SciPy"
   ]
  },
  {
   "cell_type": "code",
   "execution_count": 171,
   "metadata": {},
   "outputs": [],
   "source": [
    "import scipy.sparse as spsp\n",
    "\n",
    "main_diagonal = -2 * np.ones(n, )\n",
    "suddiag_values = np.ones(n - 1,)\n",
    "diagonals = [main_diagonal, suddiag_values, suddiag_values]\n",
    "offsets = [0, 1, -1]\n",
    "A = spsp.diags(diagonals, offsets, shape=(n, n), format='csr')"
   ]
  },
  {
   "cell_type": "markdown",
   "metadata": {},
   "source": [
    "- A lot of stuff for sparse matrices in different formats\n",
    "- Various functions about optimization, approximation, FFT, statistics, special functions and others\n",
    "- Complete doc is [here](https://docs.scipy.org/doc/scipy/reference/)"
   ]
  },
  {
   "cell_type": "markdown",
   "metadata": {
    "collapsed": true
   },
   "source": [
    "### Matplotlib\n",
    "\n",
    "- Library to plot different linea nd figures in 2D and 3D\n",
    "- Tutorial for beginners is [here](https://matplotlib.org/users/pyplot_tutorial.html) and more complete one is [here](https://matplotlib.org/users/beginner.html)\n",
    "- You can tune all parameters of plot: labels, legends, fontsize, colours, ticks, markers, linewidth and many, many others\n",
    "- Label strings support $\\TeX$ notation"
   ]
  },
  {
   "cell_type": "code",
   "execution_count": 174,
   "metadata": {
    "collapsed": true
   },
   "outputs": [],
   "source": [
    "%matplotlib inline\n",
    "import matplotlib.pyplot as plt\n",
    "from mpl_toolkits.mplot3d import Axes3D"
   ]
  },
  {
   "cell_type": "code",
   "execution_count": 53,
   "metadata": {},
   "outputs": [
    {
     "data": {
      "text/plain": [
       "<matplotlib.text.Text at 0x7fda13c1beb8>"
      ]
     },
     "execution_count": 53,
     "metadata": {},
     "output_type": "execute_result"
    },
    {
     "data": {
      "image/png": "[encoded data removed]",
      "text/plain": [
       "<matplotlib.figure.Figure at 0x7fda13eefd68>"
      ]
     },
     "metadata": {},
     "output_type": "display_data"
    }
   ],
   "source": [
    "x = np.linspace(-4, 4)\n",
    "y = np.power(x, 2)\n",
    "plt.plot(x, y)\n",
    "plt.xlabel(\"x\", fontsize=12)\n",
    "plt.ylabel(\"$x^2$\", fontsize=12)\n",
    "plt.title(\"Parabola\", fontsize=14)"
   ]
  },
  {
   "cell_type": "code",
   "execution_count": 72,
   "metadata": {},
   "outputs": [
    {
     "data": {
      "image/png": "[encoded data removed]",
      "text/plain": [
       "<matplotlib.figure.Figure at 0x7fda12fb2278>"
      ]
     },
     "metadata": {},
     "output_type": "display_data"
    }
   ],
   "source": [
    "plt.figure(figsize=(10, 8))\n",
    "plt.scatter(x, y, marker=\"x\", label=\"Parabola\", color=\"red\")\n",
    "plt.plot(x, x**3, label=\"Cube\", linewidth=6)\n",
    "plt.plot(x, 20 * np.sin(x), color=\"green\", label=\"Sine\")\n",
    "plt.legend(loc=\"best\", fontsize=14)\n",
    "plt.xticks(fontsize=20)\n",
    "_ = plt.yticks(fontsize=20)"
   ]
  },
  {
   "cell_type": "code",
   "execution_count": 106,
   "metadata": {},
   "outputs": [
    {
     "data": {
      "image/png": "[encoded data removed]",
      "text/plain": [
       "<matplotlib.figure.Figure at 0x7fda0ae80518>"
      ]
     },
     "metadata": {},
     "output_type": "display_data"
    }
   ],
   "source": [
    "x = np.linspace(1e-5, 1, 1000)\n",
    "y = 1. / x\n",
    "plt.figure(figsize=(10,4))\n",
    "plt.subplot(1,2,1)\n",
    "plt.plot(x, y)\n",
    "plt.yscale(\"log\")\n",
    "plt.title(\"Log scale\")\n",
    "\n",
    "plt.subplot(1,2,2)\n",
    "plt.plot(x, y)\n",
    "plt.title(\"Linear scale\")\n",
    "plt.tight_layout()"
   ]
  },
  {
   "cell_type": "code",
   "execution_count": 184,
   "metadata": {},
   "outputs": [
    {
     "data": {
      "text/plain": [
       "<matplotlib.text.Text at 0x7fda0aedcba8>"
      ]
     },
     "execution_count": 184,
     "metadata": {},
     "output_type": "execute_result"
    },
    {
     "data": {
      "image/png": "[encoded data removed]",
      "text/plain": [
       "<matplotlib.figure.Figure at 0x7fda0b847908>"
      ]
     },
     "metadata": {},
     "output_type": "display_data"
    }
   ],
   "source": [
    "linear_index = np.linspace(0, np.pi, 10, endpoint=True)\n",
    "mesh_x, mesh_y = np.meshgrid(linear_index, linear_index)\n",
    "values_3D = np.sin(mesh_x + mesh_y)\n",
    "\n",
    "fig = plt.figure(figsize=(10,6))\n",
    "ax = fig.gca(projection=\"3d\")\n",
    "\n",
    "surf = ax.plot_surface(mesh_x, mesh_y, values_3D, cmap=\"jet\")\n",
    "ax.view_init(azim=-45, elev=30)\n",
    "fig.colorbar(surf)\n",
    "plt.title('The plot of $f(x, y) = \\sin(x+y)$')"
   ]
  },
  {
   "cell_type": "markdown",
   "metadata": {},
   "source": [
    "### General rules about plots\n",
    "\n",
    "- Legends, labels, titles, ticks must be readable!\n",
    "- If most part of line is near 0, use log-scale for y-axis. The same is true for x-axis if necessary\n",
    "- Plot lines about the same issue in one plot"
   ]
  },
  {
   "cell_type": "markdown",
   "metadata": {
    "collapsed": true
   },
   "source": [
    "### Exercises\n",
    "\n",
    "1. Generate random low-rank matrix $500 \\times 500$ with rank $r = 10$, perform its SVD and plot how decreases singular values\n",
    "2. Compare running time of square lowrank matrix by vector multiplication in two cases:\n",
    "    - Matrix is given in lowrank format\n",
    "    - Matrix is given as it is    \n",
    "Plot graphs time vs. dimension of the matrix for these two cases. Add legend and axis labels.\n",
    "3. Plot density function of normal distribution in 1D and 2D cases for the following parameters:\n",
    "    - $\\mu = 0, \\sigma = 1$\n",
    "    - $\\mu = 1.5, \\sigma = 0.1$\n",
    "    - $\\mu = -0.5, \\sigma = 3$\n",
    "    - $\\mu = (1, 1), \\Sigma = \\begin{bmatrix} \n",
    "    2 & 0\\\\\n",
    "    0 & 1\n",
    "    \\end{bmatrix}$\n",
    "    - $\\mu = (-1, 1), \\Sigma = \\begin{bmatrix} \n",
    "    2 & 0.1\\\\\n",
    "    1 & 1\n",
    "    \\end{bmatrix}$\n",
    "    \n",
    "For 1D case you can plot all lines in the single plot with legend. For 2D case use separate plots, add titles with corresponding parameters and colorbars."
   ]
  },
  {
   "cell_type": "code",
   "execution_count": null,
   "metadata": {
    "collapsed": true
   },
   "outputs": [],
   "source": [
    "# Your code is here"
   ]
  }
 ],
 "metadata": {
  "kernelspec": {
   "display_name": "Python [conda env:p3]",
   "language": "python",
   "name": "conda-env-p3-py"
  },
  "language_info": {
   "codemirror_mode": {
    "name": "ipython",
    "version": 3
   },
   "file_extension": ".py",
   "mimetype": "text/x-python",
   "name": "python",
   "nbconvert_exporter": "python",
   "pygments_lexer": "ipython3",
   "version": "3.6.0"
  }
 },
 "nbformat": 4,
 "nbformat_minor": 2
}
