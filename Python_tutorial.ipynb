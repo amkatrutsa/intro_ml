{
 "cells": [
  {
   "cell_type": "markdown",
   "metadata": {},
   "source": [
    "# Python tutorial"
   ]
  },
  {
   "cell_type": "markdown",
   "metadata": {},
   "source": [
    "## Basics of Python"
   ]
  },
  {
   "cell_type": "markdown",
   "metadata": {},
   "source": [
    "### Some facts and references"
   ]
  },
  {
   "cell_type": "markdown",
   "metadata": {},
   "source": [
    "- Python developing was started in the late 1980s by [Guido van Rossum](https://gvanrossum.github.io/), who worked at CWI institute, Amsterdam. Now he works at Dropbox.\n",
    "<img src=http://www.peoples.ru/technics/programmer/guido_van_rossum/van_4.jpg style=\"width: 150pt; align: center\">\n",
    "- The author called the language in honor of popular British comedy show \"Monty Pythons Flying Circus\"\n",
    "<img src=https://fanart.tv/fanart/tv/75853/clearlogo/MontyPythonsFlyingCircus-75853.png width=\"500\" height=\"400\">\n",
    "- Dynamic type system (PHP, Ruby, Javascript, Erlang, etc) vs. static type system (C/C++, Pascal, Java, etc)\n",
    "- Support multiple programming paradigms\n",
    "    - object-oriented\n",
    "    - imperative \n",
    "    - functional programming \n",
    "    - procedural\n",
    "- Python is used for:\n",
    "    - Dropbox was written in Python\n",
    "    - Google: YouTube, YouTube API and others were written in Python\n",
    "    - Facebook\n",
    "    - SciPy stack replaces proprietary tools for scientific computing (MATLAB, Mathemathica)\n",
    "    - scikit-learn is a popular library for machine learning\n",
    "    - Web-development"
   ]
  },
  {
   "cell_type": "markdown",
   "metadata": {},
   "source": [
    "#### References\n",
    "\n",
    "* The Hitchhiker’s Guide to Python:\n",
    "http://docs.python-guide.org/en/latest/\n",
    "\n",
    "* Hard way is easier: http://learnpythonthehardway.org\n",
    "\n",
    "* Python crash course from Google:\n",
    "https://developers.google.com/edu/python/\n",
    "\n",
    "* Official tutorial:\n",
    "https://docs.python.org/2/tutorial/\n",
    "\n",
    "* Python Tutor - code visualization (developed by MIT):\n",
    "http://pythontutor.com/\n",
    "\n",
    "* If you feel lost: https://www.codecademy.com/en/tracks/python"
   ]
  },
  {
   "cell_type": "markdown",
   "metadata": {},
   "source": [
    "#### Advanced references\n",
    "* Al Sweigart, \"Automate the Boring Stuff with Python\", https://automatetheboringstuff.com\n",
    "* Mark Lutz, \"Python Pocket Reference\" (250 pages)\n",
    "* Mark Lutz, \"Learning Python\" (1600 pages!)"
   ]
  },
  {
   "cell_type": "markdown",
   "metadata": {},
   "source": [
    "#### The Zen of Python, by Tim Peters\n",
    "\n",
    "- Beautiful is better than ugly.\n",
    "- Explicit is better than implicit.\n",
    "- Simple is better than complex.\n",
    "- Complex is better than complicated.\n",
    "- Flat is better than nested.\n",
    "- Sparse is better than dense.\n",
    "- Readability counts.\n",
    "- Special cases aren't special enough to break the rules.\n",
    "- Although practicality beats purity.\n",
    "- Errors should never pass silently.\n",
    "- Unless explicitly silenced.\n",
    "- In the face of ambiguity, refuse the temptation to guess.\n",
    "- There should be one-- and preferably only one --obvious way to do it.\n",
    "- Although that way may not be obvious at first unless you're Dutch.\n",
    "- Now is better than never.\n",
    "- Although never is often better than *right* now.\n",
    "- If the implementation is hard to explain, it's a bad idea.\n",
    "- If the implementation is easy to explain, it may be a good idea.\n",
    "- Namespaces are one honking great idea -- let's do more of those!\n",
    "\n",
    "You can get this Zen by \n",
    "```python\n",
    "import this\n",
    "```\n",
    "in interpreter. It works once per session."
   ]
  },
  {
   "cell_type": "markdown",
   "metadata": {},
   "source": [
    "#### How to write code\n",
    "\n",
    "- First of all your has to be readable!\n",
    "    - Other people can easily understand what your code means and what operations it performs\n",
    "    - Variable, function and class names have to be meaningful\n",
    "    - Style of your code has to be consistent: formatting, spaces, etc\n",
    "\n",
    "- Style giudes:\n",
    "    - [PEP8](http://legacy.python.org/dev/peps/pep-0008/) (PEP = Python Enhancement Proposal)\n",
    "    - [Google Python style guide](https://google.github.io/styleguide/pyguide.html)\n",
    "    - write idiomatic code http://python.net/~goodger/projects/pycon/2007/idiomatic/handout.html"
   ]
  },
  {
   "cell_type": "markdown",
   "metadata": {},
   "source": [
    "#### Python 2 vs. Python 3\n",
    "\n",
    "Check your Python version:\n",
    "```bash\n",
    "python --version\n",
    "```\n",
    "This course uses Python 3\n",
    "\n",
    "Main changes in Python 3\n",
    "\n",
    "- Key word ```print``` becomes function\n",
    "- ```xrange()``` is replaces by ```range()```\n",
    "- Integer division\n",
    "- Some methods return iterators, not lists\n",
    "- Support Unicode"
   ]
  },
  {
   "cell_type": "markdown",
   "metadata": {},
   "source": [
    "### Data types"
   ]
  },
  {
   "cell_type": "markdown",
   "metadata": {},
   "source": [
    "- Number\n",
    "- String\n",
    "- Booleans"
   ]
  },
  {
   "cell_type": "markdown",
   "metadata": {},
   "source": [
    "#### Numbers\n",
    "\n",
    "- Float \n",
    "- Complex"
   ]
  },
  {
   "cell_type": "code",
   "execution_count": 33,
   "metadata": {},
   "outputs": [
    {
     "name": "stdout",
     "output_type": "stream",
     "text": [
      "15\n",
      "9\n",
      "36\n",
      "531441\n",
      "4.0\n",
      "4\n"
     ]
    },
    {
     "ename": "NameError",
     "evalue": "name 'sqrt' is not defined",
     "output_type": "error",
     "traceback": [
      "\u001b[0;31m---------------------------------------------------------------------------\u001b[0m",
      "\u001b[0;31mNameError\u001b[0m                                 Traceback (most recent call last)",
      "\u001b[0;32m<ipython-input-33-5af0bad796b1>\u001b[0m in \u001b[0;36m<module>\u001b[0;34m()\u001b[0m\n\u001b[1;32m      7\u001b[0m \u001b[0mprint\u001b[0m\u001b[0;34m(\u001b[0m\u001b[0ma\u001b[0m \u001b[0;34m/\u001b[0m \u001b[0mb\u001b[0m\u001b[0;34m)\u001b[0m\u001b[0;34m\u001b[0m\u001b[0m\n\u001b[1;32m      8\u001b[0m \u001b[0mprint\u001b[0m\u001b[0;34m(\u001b[0m\u001b[0ma\u001b[0m \u001b[0;34m//\u001b[0m \u001b[0mb\u001b[0m\u001b[0;34m)\u001b[0m\u001b[0;34m\u001b[0m\u001b[0m\n\u001b[0;32m----> 9\u001b[0;31m \u001b[0mprint\u001b[0m\u001b[0;34m(\u001b[0m\u001b[0msqrt\u001b[0m\u001b[0;34m(\u001b[0m\u001b[0;36m12\u001b[0m\u001b[0;34m)\u001b[0m\u001b[0;34m)\u001b[0m\u001b[0;34m\u001b[0m\u001b[0m\n\u001b[0m",
      "\u001b[0;31mNameError\u001b[0m: name 'sqrt' is not defined"
     ]
    }
   ],
   "source": [
    "a = 12\n",
    "b = 3\n",
    "print(a + b)\n",
    "print(a - b)\n",
    "print(a * b)\n",
    "print(b**a)\n",
    "print(a / b)\n",
    "print(a // b)\n",
    "print(sqrt(12))"
   ]
  },
  {
   "cell_type": "code",
   "execution_count": 34,
   "metadata": {},
   "outputs": [
    {
     "name": "stdout",
     "output_type": "stream",
     "text": [
      "(3+3j)\n",
      "1.4142135623730951\n",
      "4j\n",
      "(-1-1j)\n",
      "(-0.3244472096893367+1.2481068139109326j)\n"
     ]
    }
   ],
   "source": [
    "a = 1 + 1j\n",
    "b = 2 + 2j\n",
    "print(a + b)\n",
    "print(abs(a))\n",
    "print(a * b)\n",
    "print(a - b)\n",
    "print(b**a)"
   ]
  },
  {
   "cell_type": "markdown",
   "metadata": {},
   "source": [
    "- No unary operaors ++ and --"
   ]
  },
  {
   "cell_type": "code",
   "execution_count": 35,
   "metadata": {},
   "outputs": [
    {
     "name": "stdout",
     "output_type": "stream",
     "text": [
      "(3+3j) (2+2j)\n",
      "12j (2+2j)\n",
      "(3+3j)\n"
     ]
    }
   ],
   "source": [
    "a += b\n",
    "print(a, b)\n",
    "a *= b\n",
    "print(a, b)\n",
    "a /= b\n",
    "print(a)"
   ]
  },
  {
   "cell_type": "code",
   "execution_count": 36,
   "metadata": {},
   "outputs": [
    {
     "name": "stdout",
     "output_type": "stream",
     "text": [
      "1.0\n",
      "4.810477380965351\n",
      "6.123233995736766e-17\n",
      "1.633123935319537e+16\n",
      "1.2533141373155001\n"
     ]
    }
   ],
   "source": [
    "import math\n",
    "\n",
    "x = math.pi / 2\n",
    "print(math.sin(x))\n",
    "print(math.exp(x))\n",
    "print(math.cos(x))\n",
    "print(math.tan(x))\n",
    "print(math.sqrt(x))"
   ]
  },
  {
   "cell_type": "markdown",
   "metadata": {},
   "source": [
    "#### String\n",
    "\n",
    "- Immutable type\n",
    "- Sequence of symbols\n",
    "- Indexing and slicing"
   ]
  },
  {
   "cell_type": "code",
   "execution_count": 42,
   "metadata": {},
   "outputs": [
    {
     "name": "stdout",
     "output_type": "stream",
     "text": [
      "Moscow State University\n",
      "M\n",
      "ow State University\n",
      "Mosco\n",
      "scow Sta\n"
     ]
    },
    {
     "ename": "TypeError",
     "evalue": "'str' object does not support item assignment",
     "output_type": "error",
     "traceback": [
      "\u001b[0;31m---------------------------------------------------------------------------\u001b[0m",
      "\u001b[0;31mTypeError\u001b[0m                                 Traceback (most recent call last)",
      "\u001b[0;32m<ipython-input-42-aed4ff22033c>\u001b[0m in \u001b[0;36m<module>\u001b[0;34m()\u001b[0m\n\u001b[1;32m      5\u001b[0m \u001b[0mprint\u001b[0m\u001b[0;34m(\u001b[0m\u001b[0mmystring\u001b[0m\u001b[0;34m[\u001b[0m\u001b[0;34m:\u001b[0m\u001b[0;36m5\u001b[0m\u001b[0;34m]\u001b[0m\u001b[0;34m)\u001b[0m\u001b[0;34m\u001b[0m\u001b[0m\n\u001b[1;32m      6\u001b[0m \u001b[0mprint\u001b[0m\u001b[0;34m(\u001b[0m\u001b[0mmystring\u001b[0m\u001b[0;34m[\u001b[0m\u001b[0;36m2\u001b[0m\u001b[0;34m:\u001b[0m\u001b[0;36m10\u001b[0m\u001b[0;34m]\u001b[0m\u001b[0;34m)\u001b[0m\u001b[0;34m\u001b[0m\u001b[0m\n\u001b[0;32m----> 7\u001b[0;31m \u001b[0mmystring\u001b[0m\u001b[0;34m[\u001b[0m\u001b[0;36m0\u001b[0m\u001b[0;34m]\u001b[0m \u001b[0;34m=\u001b[0m \u001b[0;34m\"K\"\u001b[0m\u001b[0;34m\u001b[0m\u001b[0m\n\u001b[0m",
      "\u001b[0;31mTypeError\u001b[0m: 'str' object does not support item assignment"
     ]
    }
   ],
   "source": [
    "mystring = \"Moscow State University\"\n",
    "print(mystring)\n",
    "print(mystring[0])\n",
    "print(mystring[4:])\n",
    "print(mystring[:5])\n",
    "print(mystring[2:10])\n",
    "mystring[0] = \"K\""
   ]
  },
  {
   "cell_type": "markdown",
   "metadata": {},
   "source": [
    "- Formatting output"
   ]
  },
  {
   "cell_type": "code",
   "execution_count": 45,
   "metadata": {},
   "outputs": [
    {
     "name": "stdout",
     "output_type": "stream",
     "text": [
      "The most famous university in Russia is Moscow State University\n",
      "The most famous university in Russia is Moscow State University\n",
      "The most famous university in Moscow State University is Russia\n"
     ]
    }
   ],
   "source": [
    "sent = \"The most famous university in Russia is {}\".format(mystring)\n",
    "print(sent)\n",
    "sent = \"The most famous university in {} is {}\".format(\"Russia\", mystring)\n",
    "print(sent)\n",
    "sent = \"The most famous university in {1} is {0}\".format(\"Russia\", mystring)\n",
    "print(sent)"
   ]
  },
  {
   "cell_type": "code",
   "execution_count": 60,
   "metadata": {},
   "outputs": [
    {
     "name": "stdout",
     "output_type": "stream",
     "text": [
      "The number pi is 3.1415926536 and the number e is 2.7182818284590450907955983\n",
      "The number e is 2.71828\n"
     ]
    }
   ],
   "source": [
    "print(\"The number pi is {1:.10f} and the number e is {0:.25f}\".format(math.e, math.pi))\n",
    "print(\"The number e is {:.5f}\".format(math.e))"
   ]
  },
  {
   "cell_type": "markdown",
   "metadata": {},
   "source": [
    "- String methods always return new string, no inplace operations"
   ]
  },
  {
   "cell_type": "code",
   "execution_count": 73,
   "metadata": {},
   "outputs": [
    {
     "name": "stdout",
     "output_type": "stream",
     "text": [
      "moscow is a capital of russia   \n",
      "Moscow is a capital of russia   \n",
      "MOSCOW IS A CAPITAL OF RUSSIA   \n",
      "moscow\n",
      "moscow is a capital of russia\n",
      "mcassccasw is a capital casf russia   \n",
      "32\n",
      "29\n"
     ]
    }
   ],
   "source": [
    "mystring = \"moscow is a capital of russia   \"\n",
    "print(mystring)\n",
    "print(mystring.capitalize())\n",
    "print(mystring.upper())\n",
    "print(\"Moscow\".lower())\n",
    "print(mystring.strip())\n",
    "print(mystring.replace(\"o\", \"cas\"))\n",
    "print(len(mystring))\n",
    "print(len(mystring.strip()))"
   ]
  },
  {
   "cell_type": "markdown",
   "metadata": {},
   "source": [
    "#### Booleans"
   ]
  },
  {
   "cell_type": "code",
   "execution_count": null,
   "metadata": {
    "collapsed": true
   },
   "outputs": [],
   "source": []
  },
  {
   "cell_type": "markdown",
   "metadata": {},
   "source": [
    "### Conditions and loops"
   ]
  },
  {
   "cell_type": "code",
   "execution_count": null,
   "metadata": {
    "collapsed": true
   },
   "outputs": [],
   "source": []
  },
  {
   "cell_type": "markdown",
   "metadata": {},
   "source": [
    "#### if-elif-else"
   ]
  },
  {
   "cell_type": "code",
   "execution_count": null,
   "metadata": {
    "collapsed": true
   },
   "outputs": [],
   "source": []
  },
  {
   "cell_type": "markdown",
   "metadata": {},
   "source": [
    "#### for-loop"
   ]
  },
  {
   "cell_type": "code",
   "execution_count": null,
   "metadata": {
    "collapsed": true
   },
   "outputs": [],
   "source": []
  },
  {
   "cell_type": "markdown",
   "metadata": {},
   "source": [
    "#### while-loop"
   ]
  },
  {
   "cell_type": "code",
   "execution_count": null,
   "metadata": {
    "collapsed": true
   },
   "outputs": [],
   "source": []
  },
  {
   "cell_type": "markdown",
   "metadata": {},
   "source": [
    "### Built-in containers"
   ]
  },
  {
   "cell_type": "code",
   "execution_count": 2,
   "metadata": {
    "collapsed": true
   },
   "outputs": [],
   "source": [
    "# About containers, C++ analogues"
   ]
  },
  {
   "cell_type": "markdown",
   "metadata": {},
   "source": [
    "#### List"
   ]
  },
  {
   "cell_type": "code",
   "execution_count": null,
   "metadata": {
    "collapsed": true
   },
   "outputs": [],
   "source": []
  },
  {
   "cell_type": "markdown",
   "metadata": {},
   "source": [
    "#### Dict"
   ]
  },
  {
   "cell_type": "code",
   "execution_count": null,
   "metadata": {
    "collapsed": true
   },
   "outputs": [],
   "source": []
  },
  {
   "cell_type": "markdown",
   "metadata": {},
   "source": [
    "#### Tuple"
   ]
  },
  {
   "cell_type": "markdown",
   "metadata": {},
   "source": []
  },
  {
   "cell_type": "markdown",
   "metadata": {},
   "source": [
    "#### Set"
   ]
  },
  {
   "cell_type": "code",
   "execution_count": null,
   "metadata": {
    "collapsed": true
   },
   "outputs": [],
   "source": []
  },
  {
   "cell_type": "markdown",
   "metadata": {},
   "source": [
    "### Other containers"
   ]
  },
  {
   "cell_type": "markdown",
   "metadata": {},
   "source": [
    "collections\n",
    "https://docs.python.org/3/library/collections.html "
   ]
  },
  {
   "cell_type": "code",
   "execution_count": null,
   "metadata": {
    "collapsed": true
   },
   "outputs": [],
   "source": []
  },
  {
   "cell_type": "markdown",
   "metadata": {},
   "source": [
    "### Functions"
   ]
  },
  {
   "cell_type": "code",
   "execution_count": null,
   "metadata": {
    "collapsed": true
   },
   "outputs": [],
   "source": []
  },
  {
   "cell_type": "markdown",
   "metadata": {},
   "source": [
    "### Classes"
   ]
  },
  {
   "cell_type": "code",
   "execution_count": null,
   "metadata": {
    "collapsed": true
   },
   "outputs": [],
   "source": []
  },
  {
   "cell_type": "markdown",
   "metadata": {},
   "source": [
    "### Modules"
   ]
  },
  {
   "cell_type": "code",
   "execution_count": null,
   "metadata": {
    "collapsed": true
   },
   "outputs": [],
   "source": []
  },
  {
   "cell_type": "markdown",
   "metadata": {},
   "source": [
    "### Exerсises\n",
    "\n",
    "1. Implement bubble-sort, merge-sort and quick-sort algorithms as three functions with input argument &mdash; array and output is sorted array. \n",
    "Compare its running time depending on the size of array and also compare your functions with built-in method ```sort```. \n",
    "Plot lines time vs. array size for every sorting algorithm. \n",
    "Time has to be computed with [%timeit magic](http://ipython.readthedocs.io/en/stable/interactive/magics.html). \n",
    "How plot lines see further in this notebook.  \n",
    "2. Show convergence of Taylor expansion for functions $\\sin(x)$, $e^x$ and $\\frac{1}{1 - x}$. \n",
    "Plot approximation error vs number of items in sum. \n",
    "Compare different strategy of ordering items in sum. \n",
    "To compute required functions use library [```math```](https://docs.python.org/3.6/library/math.html)\n",
    "\n",
    "3. Implement function that tests if given number is prime or not.\n",
    "Input is positive integer, output is True or False."
   ]
  },
  {
   "cell_type": "code",
   "execution_count": null,
   "metadata": {
    "collapsed": true
   },
   "outputs": [],
   "source": [
    "# Your code is here"
   ]
  },
  {
   "cell_type": "markdown",
   "metadata": {},
   "source": [
    "## NumPy, SciPy & Matplotlib"
   ]
  },
  {
   "cell_type": "code",
   "execution_count": null,
   "metadata": {
    "collapsed": true
   },
   "outputs": [],
   "source": []
  },
  {
   "cell_type": "code",
   "execution_count": null,
   "metadata": {
    "collapsed": true
   },
   "outputs": [],
   "source": []
  },
  {
   "cell_type": "code",
   "execution_count": null,
   "metadata": {
    "collapsed": true
   },
   "outputs": [],
   "source": []
  },
  {
   "cell_type": "code",
   "execution_count": null,
   "metadata": {
    "collapsed": true
   },
   "outputs": [],
   "source": []
  },
  {
   "cell_type": "code",
   "execution_count": null,
   "metadata": {
    "collapsed": true
   },
   "outputs": [],
   "source": []
  }
 ],
 "metadata": {
  "kernelspec": {
   "display_name": "Python [conda env:p3]",
   "language": "python",
   "name": "conda-env-p3-py"
  },
  "language_info": {
   "codemirror_mode": {
    "name": "ipython",
    "version": 3
   },
   "file_extension": ".py",
   "mimetype": "text/x-python",
   "name": "python",
   "nbconvert_exporter": "python",
   "pygments_lexer": "ipython3",
   "version": "3.6.0"
  }
 },
 "nbformat": 4,
 "nbformat_minor": 2
}
