{
 "cells": [
  {
   "cell_type": "markdown",
   "metadata": {
    "slideshow": {
     "slide_type": "slide"
    }
   },
   "source": [
    "# Lecture 3.\n",
    "# Optimization in machine learning problems"
   ]
  },
  {
   "cell_type": "markdown",
   "metadata": {
    "slideshow": {
     "slide_type": "slide"
    }
   },
   "source": [
    "- The topic is very wide\n",
    "- [Big book](https://mitpress.mit.edu/books/optimization-machine-learning) by Suvrit Sra, Sebastian Nowozin and Stephen J. Wright has 512 pages\n",
    "- Entire term [course](http://www.machinelearning.ru/wiki/index.php?title=%D0%9C%D0%B5%D1%82%D0%BE%D0%B4%D1%8B_%D0%BE%D0%BF%D1%82%D0%B8%D0%BC%D0%B8%D0%B7%D0%B0%D1%86%D0%B8%D0%B8_%D0%B2_%D0%BC%D0%B0%D1%88%D0%B8%D0%BD%D0%BD%D0%BE%D0%BC_%D0%BE%D0%B1%D1%83%D1%87%D0%B5%D0%BD%D0%B8%D0%B8_%28%D0%BA%D1%83%D1%80%D1%81_%D0%BB%D0%B5%D0%BA%D1%86%D0%B8%D0%B9%29/2017) by D. Kropotov\n",
    "- Today is short introduction and main ideas"
   ]
  },
  {
   "cell_type": "markdown",
   "metadata": {
    "slideshow": {
     "slide_type": "slide"
    }
   },
   "source": [
    "## From machine learning to optimization\n",
    "\n",
    "- Regression\n",
    "- Classification\n",
    "- Clustering\n",
    "- Ranking"
   ]
  },
  {
   "cell_type": "markdown",
   "metadata": {
    "slideshow": {
     "slide_type": "slide"
    }
   },
   "source": [
    "### Regression\n",
    "\n",
    "Dataset $(x_i, y_i), \\; i=1,\\dots,m$, $x_i \\in \\mathbb{R}^n, \\; y_i \\in \\mathbb{R}$\n",
    "- Linear model \n",
    "$$\n",
    "f(w, x) = w^{\\top}x\n",
    "$$\n",
    "- Loss function &mdash; MSE\n",
    "$$\n",
    "L = (f(w, x) - y)^2\n",
    "$$\n",
    "- Learning method\n",
    "$$\n",
    "\\frac{1}{m}\\sum_{i=1}^m (f(w, x_i) - y_i)^2 \\to \\min_w\n",
    "$$\n",
    "- Test step &mdash; loss on test set $(\\hat{x}_k, \\hat{y}_k), \\; k = 1,\\ldots,t$\n",
    "$$\n",
    "\\frac{1}{t}\\sum_{k=1}^t (f(w,\\hat{x}_k) - \\hat{y}_k)\n",
    "$$\n",
    "Other criteria of model quality are possible, later in course"
   ]
  },
  {
   "cell_type": "markdown",
   "metadata": {
    "slideshow": {
     "slide_type": "slide"
    }
   },
   "source": [
    "### Linear least squares\n",
    "\n",
    "- Loss function\n",
    "\\begin{align*}\n",
    "L(w|X, y) &= \\frac{1}{2}\\sum\\limits_{i=1}^m (x^{\\top}_i w - y_i)^2\\\\\n",
    "& = \\frac{1}{2}\\|Xw - y \\|^2_2 \\to \\min_w\n",
    "\\end{align*}\n",
    "- Normal equation\n",
    "$$\n",
    "L'(w^* | X, y) = 0\n",
    "$$\n",
    "$$\n",
    "(X^{\\top}X)w^* = X^{\\top}y\n",
    "$$\n",
    "or\n",
    "$$\n",
    "w^* = (X^{\\top}X)^{-1}X^{\\top}y = X^+y = X^{\\dagger}y,\n",
    "$$\n",
    "where $X^{\\dagger} = X^+ = (X^{\\top}X)^{-1}X^{\\top}$ - *pseudoinverse matrix*.\n",
    "\n",
    "**Q:** what problem was optimization problem reduced to?"
   ]
  },
  {
   "cell_type": "markdown",
   "metadata": {
    "slideshow": {
     "slide_type": "slide"
    }
   },
   "source": [
    "### Methods to solve\n",
    "\n",
    "- Cholesky factorization\n",
    "- QR factorization\n",
    "- SVD\n",
    "- CG"
   ]
  },
  {
   "cell_type": "markdown",
   "metadata": {
    "slideshow": {
     "slide_type": "slide"
    }
   },
   "source": [
    "### Nonlinear least squares\n",
    "\n",
    "$$\n",
    "S = \\frac{1}{2}\\| f(X, w) - y\\|^2_2 = \\frac{1}{2}\\|r(w)\\|_2^2 \\to \\min_w\n",
    "$$\n",
    "\n",
    "- Model $f(w, x)$ is nonlinear\n",
    "- No analytic solution\n",
    "- Effective iterative methods exist\n",
    "- More details later in course"
   ]
  },
  {
   "cell_type": "markdown",
   "metadata": {
    "slideshow": {
     "slide_type": "slide"
    }
   },
   "source": [
    "### Classification\n",
    "\n",
    "Dataset $(x_i, y_i), \\; i=1,\\dots,m$, $x_i \\in \\mathbb{R}^n, \\; y_i = \\{-1, +1\\}$\n",
    "- Linear model \n",
    "$$\n",
    "f(w, x) = w^{\\top}x \\quad a(x) = \\mathrm{sign}(f(w, x))\n",
    "$$\n",
    "- Loss function &mdash; binary $L$ or **upper bound** $\\tilde{L}$\n",
    "$$\n",
    "L = [yf(w, x) < 0] \\leq \\tilde{L}(yf(w, x)) \n",
    "$$\n",
    "- Empirical risk minimization\n",
    "$$\n",
    "\\sum_{i=1}^m [y_if(w, x_i) < 0] \\leq \\sum_{i=1}^m \\tilde{L}(y_if(w, x_i))\\to \\min_w\n",
    "$$\n",
    "- Test step &mdash; loss on test set $(\\hat{x}_k, \\hat{y}_k), \\; k = 1,\\ldots,t$ is accuracy\n",
    "$$\n",
    "\\frac{1}{t}\\sum_{k=1}^t [\\hat{y}_k f(w, \\hat{x}_k) < 0]\n",
    "$$\n",
    "Other test steps are possible, later in course"
   ]
  },
  {
   "cell_type": "markdown",
   "metadata": {
    "slideshow": {
     "slide_type": "slide"
    }
   },
   "source": [
    "- Margin $M = yf(w, x)$ &mdash; measure of algorithm error for sample $x$\n",
    "- Standard upper bounds $\\tilde{L}(M)$\n",
    "    - $\\max\\{0,  1 - M\\}$ (SVM)\n",
    "    - $\\exp(-M)$ (AdaBoost)\n",
    "    - $\\frac{2}{1 + \\exp(M)}$ (Logistic regression)\n",
    "    - $\\max\\{0, -M\\}$"
   ]
  },
  {
   "cell_type": "code",
   "execution_count": 1,
   "metadata": {
    "slideshow": {
     "slide_type": "slide"
    }
   },
   "outputs": [
    {
     "data": {
      "application/javascript": [
       "/* Put everything inside the global mpl namespace */\n",
       "window.mpl = {};\n",
       "\n",
       "\n",
       "mpl.get_websocket_type = function() {\n",
       "    if (typeof(WebSocket) !== 'undefined') {\n",
       "        return WebSocket;\n",
       "    } else if (typeof(MozWebSocket) !== 'undefined') {\n",
       "        return MozWebSocket;\n",
       "    } else {\n",
       "        alert('Your browser does not have WebSocket support.' +\n",
       "              'Please try Chrome, Safari or Firefox ≥ 6. ' +\n",
       "              'Firefox 4 and 5 are also supported but you ' +\n",
       "              'have to enable WebSockets in about:config.');\n",
       "    };\n",
       "}\n",
       "\n",
       "mpl.figure = function(figure_id, websocket, ondownload, parent_element) {\n",
       "    this.id = figure_id;\n",
       "\n",
       "    this.ws = websocket;\n",
       "\n",
       "    this.supports_binary = (this.ws.binaryType != undefined);\n",
       "\n",
       "    if (!this.supports_binary) {\n",
       "        var warnings = document.getElementById(\"mpl-warnings\");\n",
       "        if (warnings) {\n",
       "            warnings.style.display = 'block';\n",
       "            warnings.textContent = (\n",
       "                \"This browser does not support binary websocket messages. \" +\n",
       "                    \"Performance may be slow.\");\n",
       "        }\n",
       "    }\n",
       "\n",
       "    this.imageObj = new Image();\n",
       "\n",
       "    this.context = undefined;\n",
       "    this.message = undefined;\n",
       "    this.canvas = undefined;\n",
       "    this.rubberband_canvas = undefined;\n",
       "    this.rubberband_context = undefined;\n",
       "    this.format_dropdown = undefined;\n",
       "\n",
       "    this.image_mode = 'full';\n",
       "\n",
       "    this.root = $('<div/>');\n",
       "    this._root_extra_style(this.root)\n",
       "    this.root.attr('style', 'display: inline-block');\n",
       "\n",
       "    $(parent_element).append(this.root);\n",
       "\n",
       "    this._init_header(this);\n",
       "    this._init_canvas(this);\n",
       "    this._init_toolbar(this);\n",
       "\n",
       "    var fig = this;\n",
       "\n",
       "    this.waiting = false;\n",
       "\n",
       "    this.ws.onopen =  function () {\n",
       "            fig.send_message(\"supports_binary\", {value: fig.supports_binary});\n",
       "            fig.send_message(\"send_image_mode\", {});\n",
       "            if (mpl.ratio != 1) {\n",
       "                fig.send_message(\"set_dpi_ratio\", {'dpi_ratio': mpl.ratio});\n",
       "            }\n",
       "            fig.send_message(\"refresh\", {});\n",
       "        }\n",
       "\n",
       "    this.imageObj.onload = function() {\n",
       "            if (fig.image_mode == 'full') {\n",
       "                // Full images could contain transparency (where diff images\n",
       "                // almost always do), so we need to clear the canvas so that\n",
       "                // there is no ghosting.\n",
       "                fig.context.clearRect(0, 0, fig.canvas.width, fig.canvas.height);\n",
       "            }\n",
       "            fig.context.drawImage(fig.imageObj, 0, 0);\n",
       "        };\n",
       "\n",
       "    this.imageObj.onunload = function() {\n",
       "        this.ws.close();\n",
       "    }\n",
       "\n",
       "    this.ws.onmessage = this._make_on_message_function(this);\n",
       "\n",
       "    this.ondownload = ondownload;\n",
       "}\n",
       "\n",
       "mpl.figure.prototype._init_header = function() {\n",
       "    var titlebar = $(\n",
       "        '<div class=\"ui-dialog-titlebar ui-widget-header ui-corner-all ' +\n",
       "        'ui-helper-clearfix\"/>');\n",
       "    var titletext = $(\n",
       "        '<div class=\"ui-dialog-title\" style=\"width: 100%; ' +\n",
       "        'text-align: center; padding: 3px;\"/>');\n",
       "    titlebar.append(titletext)\n",
       "    this.root.append(titlebar);\n",
       "    this.header = titletext[0];\n",
       "}\n",
       "\n",
       "\n",
       "\n",
       "mpl.figure.prototype._canvas_extra_style = function(canvas_div) {\n",
       "\n",
       "}\n",
       "\n",
       "\n",
       "mpl.figure.prototype._root_extra_style = function(canvas_div) {\n",
       "\n",
       "}\n",
       "\n",
       "mpl.figure.prototype._init_canvas = function() {\n",
       "    var fig = this;\n",
       "\n",
       "    var canvas_div = $('<div/>');\n",
       "\n",
       "    canvas_div.attr('style', 'position: relative; clear: both; outline: 0');\n",
       "\n",
       "    function canvas_keyboard_event(event) {\n",
       "        return fig.key_event(event, event['data']);\n",
       "    }\n",
       "\n",
       "    canvas_div.keydown('key_press', canvas_keyboard_event);\n",
       "    canvas_div.keyup('key_release', canvas_keyboard_event);\n",
       "    this.canvas_div = canvas_div\n",
       "    this._canvas_extra_style(canvas_div)\n",
       "    this.root.append(canvas_div);\n",
       "\n",
       "    var canvas = $('<canvas/>');\n",
       "    canvas.addClass('mpl-canvas');\n",
       "    canvas.attr('style', \"left: 0; top: 0; z-index: 0; outline: 0\")\n",
       "\n",
       "    this.canvas = canvas[0];\n",
       "    this.context = canvas[0].getContext(\"2d\");\n",
       "\n",
       "    var backingStore = this.context.backingStorePixelRatio ||\n",
       "\tthis.context.webkitBackingStorePixelRatio ||\n",
       "\tthis.context.mozBackingStorePixelRatio ||\n",
       "\tthis.context.msBackingStorePixelRatio ||\n",
       "\tthis.context.oBackingStorePixelRatio ||\n",
       "\tthis.context.backingStorePixelRatio || 1;\n",
       "\n",
       "    mpl.ratio = (window.devicePixelRatio || 1) / backingStore;\n",
       "\n",
       "    var rubberband = $('<canvas/>');\n",
       "    rubberband.attr('style', \"position: absolute; left: 0; top: 0; z-index: 1;\")\n",
       "\n",
       "    var pass_mouse_events = true;\n",
       "\n",
       "    canvas_div.resizable({\n",
       "        start: function(event, ui) {\n",
       "            pass_mouse_events = false;\n",
       "        },\n",
       "        resize: function(event, ui) {\n",
       "            fig.request_resize(ui.size.width, ui.size.height);\n",
       "        },\n",
       "        stop: function(event, ui) {\n",
       "            pass_mouse_events = true;\n",
       "            fig.request_resize(ui.size.width, ui.size.height);\n",
       "        },\n",
       "    });\n",
       "\n",
       "    function mouse_event_fn(event) {\n",
       "        if (pass_mouse_events)\n",
       "            return fig.mouse_event(event, event['data']);\n",
       "    }\n",
       "\n",
       "    rubberband.mousedown('button_press', mouse_event_fn);\n",
       "    rubberband.mouseup('button_release', mouse_event_fn);\n",
       "    // Throttle sequential mouse events to 1 every 20ms.\n",
       "    rubberband.mousemove('motion_notify', mouse_event_fn);\n",
       "\n",
       "    rubberband.mouseenter('figure_enter', mouse_event_fn);\n",
       "    rubberband.mouseleave('figure_leave', mouse_event_fn);\n",
       "\n",
       "    canvas_div.on(\"wheel\", function (event) {\n",
       "        event = event.originalEvent;\n",
       "        event['data'] = 'scroll'\n",
       "        if (event.deltaY < 0) {\n",
       "            event.step = 1;\n",
       "        } else {\n",
       "            event.step = -1;\n",
       "        }\n",
       "        mouse_event_fn(event);\n",
       "    });\n",
       "\n",
       "    canvas_div.append(canvas);\n",
       "    canvas_div.append(rubberband);\n",
       "\n",
       "    this.rubberband = rubberband;\n",
       "    this.rubberband_canvas = rubberband[0];\n",
       "    this.rubberband_context = rubberband[0].getContext(\"2d\");\n",
       "    this.rubberband_context.strokeStyle = \"#000000\";\n",
       "\n",
       "    this._resize_canvas = function(width, height) {\n",
       "        // Keep the size of the canvas, canvas container, and rubber band\n",
       "        // canvas in synch.\n",
       "        canvas_div.css('width', width)\n",
       "        canvas_div.css('height', height)\n",
       "\n",
       "        canvas.attr('width', width * mpl.ratio);\n",
       "        canvas.attr('height', height * mpl.ratio);\n",
       "        canvas.attr('style', 'width: ' + width + 'px; height: ' + height + 'px;');\n",
       "\n",
       "        rubberband.attr('width', width);\n",
       "        rubberband.attr('height', height);\n",
       "    }\n",
       "\n",
       "    // Set the figure to an initial 600x600px, this will subsequently be updated\n",
       "    // upon first draw.\n",
       "    this._resize_canvas(600, 600);\n",
       "\n",
       "    // Disable right mouse context menu.\n",
       "    $(this.rubberband_canvas).bind(\"contextmenu\",function(e){\n",
       "        return false;\n",
       "    });\n",
       "\n",
       "    function set_focus () {\n",
       "        canvas.focus();\n",
       "        canvas_div.focus();\n",
       "    }\n",
       "\n",
       "    window.setTimeout(set_focus, 100);\n",
       "}\n",
       "\n",
       "mpl.figure.prototype._init_toolbar = function() {\n",
       "    var fig = this;\n",
       "\n",
       "    var nav_element = $('<div/>')\n",
       "    nav_element.attr('style', 'width: 100%');\n",
       "    this.root.append(nav_element);\n",
       "\n",
       "    // Define a callback function for later on.\n",
       "    function toolbar_event(event) {\n",
       "        return fig.toolbar_button_onclick(event['data']);\n",
       "    }\n",
       "    function toolbar_mouse_event(event) {\n",
       "        return fig.toolbar_button_onmouseover(event['data']);\n",
       "    }\n",
       "\n",
       "    for(var toolbar_ind in mpl.toolbar_items) {\n",
       "        var name = mpl.toolbar_items[toolbar_ind][0];\n",
       "        var tooltip = mpl.toolbar_items[toolbar_ind][1];\n",
       "        var image = mpl.toolbar_items[toolbar_ind][2];\n",
       "        var method_name = mpl.toolbar_items[toolbar_ind][3];\n",
       "\n",
       "        if (!name) {\n",
       "            // put a spacer in here.\n",
       "            continue;\n",
       "        }\n",
       "        var button = $('<button/>');\n",
       "        button.addClass('ui-button ui-widget ui-state-default ui-corner-all ' +\n",
       "                        'ui-button-icon-only');\n",
       "        button.attr('role', 'button');\n",
       "        button.attr('aria-disabled', 'false');\n",
       "        button.click(method_name, toolbar_event);\n",
       "        button.mouseover(tooltip, toolbar_mouse_event);\n",
       "\n",
       "        var icon_img = $('<span/>');\n",
       "        icon_img.addClass('ui-button-icon-primary ui-icon');\n",
       "        icon_img.addClass(image);\n",
       "        icon_img.addClass('ui-corner-all');\n",
       "\n",
       "        var tooltip_span = $('<span/>');\n",
       "        tooltip_span.addClass('ui-button-text');\n",
       "        tooltip_span.html(tooltip);\n",
       "\n",
       "        button.append(icon_img);\n",
       "        button.append(tooltip_span);\n",
       "\n",
       "        nav_element.append(button);\n",
       "    }\n",
       "\n",
       "    var fmt_picker_span = $('<span/>');\n",
       "\n",
       "    var fmt_picker = $('<select/>');\n",
       "    fmt_picker.addClass('mpl-toolbar-option ui-widget ui-widget-content');\n",
       "    fmt_picker_span.append(fmt_picker);\n",
       "    nav_element.append(fmt_picker_span);\n",
       "    this.format_dropdown = fmt_picker[0];\n",
       "\n",
       "    for (var ind in mpl.extensions) {\n",
       "        var fmt = mpl.extensions[ind];\n",
       "        var option = $(\n",
       "            '<option/>', {selected: fmt === mpl.default_extension}).html(fmt);\n",
       "        fmt_picker.append(option)\n",
       "    }\n",
       "\n",
       "    // Add hover states to the ui-buttons\n",
       "    $( \".ui-button\" ).hover(\n",
       "        function() { $(this).addClass(\"ui-state-hover\");},\n",
       "        function() { $(this).removeClass(\"ui-state-hover\");}\n",
       "    );\n",
       "\n",
       "    var status_bar = $('<span class=\"mpl-message\"/>');\n",
       "    nav_element.append(status_bar);\n",
       "    this.message = status_bar[0];\n",
       "}\n",
       "\n",
       "mpl.figure.prototype.request_resize = function(x_pixels, y_pixels) {\n",
       "    // Request matplotlib to resize the figure. Matplotlib will then trigger a resize in the client,\n",
       "    // which will in turn request a refresh of the image.\n",
       "    this.send_message('resize', {'width': x_pixels, 'height': y_pixels});\n",
       "}\n",
       "\n",
       "mpl.figure.prototype.send_message = function(type, properties) {\n",
       "    properties['type'] = type;\n",
       "    properties['figure_id'] = this.id;\n",
       "    this.ws.send(JSON.stringify(properties));\n",
       "}\n",
       "\n",
       "mpl.figure.prototype.send_draw_message = function() {\n",
       "    if (!this.waiting) {\n",
       "        this.waiting = true;\n",
       "        this.ws.send(JSON.stringify({type: \"draw\", figure_id: this.id}));\n",
       "    }\n",
       "}\n",
       "\n",
       "\n",
       "mpl.figure.prototype.handle_save = function(fig, msg) {\n",
       "    var format_dropdown = fig.format_dropdown;\n",
       "    var format = format_dropdown.options[format_dropdown.selectedIndex].value;\n",
       "    fig.ondownload(fig, format);\n",
       "}\n",
       "\n",
       "\n",
       "mpl.figure.prototype.handle_resize = function(fig, msg) {\n",
       "    var size = msg['size'];\n",
       "    if (size[0] != fig.canvas.width || size[1] != fig.canvas.height) {\n",
       "        fig._resize_canvas(size[0], size[1]);\n",
       "        fig.send_message(\"refresh\", {});\n",
       "    };\n",
       "}\n",
       "\n",
       "mpl.figure.prototype.handle_rubberband = function(fig, msg) {\n",
       "    var x0 = msg['x0'] / mpl.ratio;\n",
       "    var y0 = (fig.canvas.height - msg['y0']) / mpl.ratio;\n",
       "    var x1 = msg['x1'] / mpl.ratio;\n",
       "    var y1 = (fig.canvas.height - msg['y1']) / mpl.ratio;\n",
       "    x0 = Math.floor(x0) + 0.5;\n",
       "    y0 = Math.floor(y0) + 0.5;\n",
       "    x1 = Math.floor(x1) + 0.5;\n",
       "    y1 = Math.floor(y1) + 0.5;\n",
       "    var min_x = Math.min(x0, x1);\n",
       "    var min_y = Math.min(y0, y1);\n",
       "    var width = Math.abs(x1 - x0);\n",
       "    var height = Math.abs(y1 - y0);\n",
       "\n",
       "    fig.rubberband_context.clearRect(\n",
       "        0, 0, fig.canvas.width, fig.canvas.height);\n",
       "\n",
       "    fig.rubberband_context.strokeRect(min_x, min_y, width, height);\n",
       "}\n",
       "\n",
       "mpl.figure.prototype.handle_figure_label = function(fig, msg) {\n",
       "    // Updates the figure title.\n",
       "    fig.header.textContent = msg['label'];\n",
       "}\n",
       "\n",
       "mpl.figure.prototype.handle_cursor = function(fig, msg) {\n",
       "    var cursor = msg['cursor'];\n",
       "    switch(cursor)\n",
       "    {\n",
       "    case 0:\n",
       "        cursor = 'pointer';\n",
       "        break;\n",
       "    case 1:\n",
       "        cursor = 'default';\n",
       "        break;\n",
       "    case 2:\n",
       "        cursor = 'crosshair';\n",
       "        break;\n",
       "    case 3:\n",
       "        cursor = 'move';\n",
       "        break;\n",
       "    }\n",
       "    fig.rubberband_canvas.style.cursor = cursor;\n",
       "}\n",
       "\n",
       "mpl.figure.prototype.handle_message = function(fig, msg) {\n",
       "    fig.message.textContent = msg['message'];\n",
       "}\n",
       "\n",
       "mpl.figure.prototype.handle_draw = function(fig, msg) {\n",
       "    // Request the server to send over a new figure.\n",
       "    fig.send_draw_message();\n",
       "}\n",
       "\n",
       "mpl.figure.prototype.handle_image_mode = function(fig, msg) {\n",
       "    fig.image_mode = msg['mode'];\n",
       "}\n",
       "\n",
       "mpl.figure.prototype.updated_canvas_event = function() {\n",
       "    // Called whenever the canvas gets updated.\n",
       "    this.send_message(\"ack\", {});\n",
       "}\n",
       "\n",
       "// A function to construct a web socket function for onmessage handling.\n",
       "// Called in the figure constructor.\n",
       "mpl.figure.prototype._make_on_message_function = function(fig) {\n",
       "    return function socket_on_message(evt) {\n",
       "        if (evt.data instanceof Blob) {\n",
       "            /* FIXME: We get \"Resource interpreted as Image but\n",
       "             * transferred with MIME type text/plain:\" errors on\n",
       "             * Chrome.  But how to set the MIME type?  It doesn't seem\n",
       "             * to be part of the websocket stream */\n",
       "            evt.data.type = \"image/png\";\n",
       "\n",
       "            /* Free the memory for the previous frames */\n",
       "            if (fig.imageObj.src) {\n",
       "                (window.URL || window.webkitURL).revokeObjectURL(\n",
       "                    fig.imageObj.src);\n",
       "            }\n",
       "\n",
       "            fig.imageObj.src = (window.URL || window.webkitURL).createObjectURL(\n",
       "                evt.data);\n",
       "            fig.updated_canvas_event();\n",
       "            fig.waiting = false;\n",
       "            return;\n",
       "        }\n",
       "        else if (typeof evt.data === 'string' && evt.data.slice(0, 21) == \"data:image/png;base64\") {\n",
       "            fig.imageObj.src = evt.data;\n",
       "            fig.updated_canvas_event();\n",
       "            fig.waiting = false;\n",
       "            return;\n",
       "        }\n",
       "\n",
       "        var msg = JSON.parse(evt.data);\n",
       "        var msg_type = msg['type'];\n",
       "\n",
       "        // Call the  \"handle_{type}\" callback, which takes\n",
       "        // the figure and JSON message as its only arguments.\n",
       "        try {\n",
       "            var callback = fig[\"handle_\" + msg_type];\n",
       "        } catch (e) {\n",
       "            console.log(\"No handler for the '\" + msg_type + \"' message type: \", msg);\n",
       "            return;\n",
       "        }\n",
       "\n",
       "        if (callback) {\n",
       "            try {\n",
       "                // console.log(\"Handling '\" + msg_type + \"' message: \", msg);\n",
       "                callback(fig, msg);\n",
       "            } catch (e) {\n",
       "                console.log(\"Exception inside the 'handler_\" + msg_type + \"' callback:\", e, e.stack, msg);\n",
       "            }\n",
       "        }\n",
       "    };\n",
       "}\n",
       "\n",
       "// from http://stackoverflow.com/questions/1114465/getting-mouse-location-in-canvas\n",
       "mpl.findpos = function(e) {\n",
       "    //this section is from http://www.quirksmode.org/js/events_properties.html\n",
       "    var targ;\n",
       "    if (!e)\n",
       "        e = window.event;\n",
       "    if (e.target)\n",
       "        targ = e.target;\n",
       "    else if (e.srcElement)\n",
       "        targ = e.srcElement;\n",
       "    if (targ.nodeType == 3) // defeat Safari bug\n",
       "        targ = targ.parentNode;\n",
       "\n",
       "    // jQuery normalizes the pageX and pageY\n",
       "    // pageX,Y are the mouse positions relative to the document\n",
       "    // offset() returns the position of the element relative to the document\n",
       "    var x = e.pageX - $(targ).offset().left;\n",
       "    var y = e.pageY - $(targ).offset().top;\n",
       "\n",
       "    return {\"x\": x, \"y\": y};\n",
       "};\n",
       "\n",
       "/*\n",
       " * return a copy of an object with only non-object keys\n",
       " * we need this to avoid circular references\n",
       " * http://stackoverflow.com/a/24161582/3208463\n",
       " */\n",
       "function simpleKeys (original) {\n",
       "  return Object.keys(original).reduce(function (obj, key) {\n",
       "    if (typeof original[key] !== 'object')\n",
       "        obj[key] = original[key]\n",
       "    return obj;\n",
       "  }, {});\n",
       "}\n",
       "\n",
       "mpl.figure.prototype.mouse_event = function(event, name) {\n",
       "    var canvas_pos = mpl.findpos(event)\n",
       "\n",
       "    if (name === 'button_press')\n",
       "    {\n",
       "        this.canvas.focus();\n",
       "        this.canvas_div.focus();\n",
       "    }\n",
       "\n",
       "    var x = canvas_pos.x * mpl.ratio;\n",
       "    var y = canvas_pos.y * mpl.ratio;\n",
       "\n",
       "    this.send_message(name, {x: x, y: y, button: event.button,\n",
       "                             step: event.step,\n",
       "                             guiEvent: simpleKeys(event)});\n",
       "\n",
       "    /* This prevents the web browser from automatically changing to\n",
       "     * the text insertion cursor when the button is pressed.  We want\n",
       "     * to control all of the cursor setting manually through the\n",
       "     * 'cursor' event from matplotlib */\n",
       "    event.preventDefault();\n",
       "    return false;\n",
       "}\n",
       "\n",
       "mpl.figure.prototype._key_event_extra = function(event, name) {\n",
       "    // Handle any extra behaviour associated with a key event\n",
       "}\n",
       "\n",
       "mpl.figure.prototype.key_event = function(event, name) {\n",
       "\n",
       "    // Prevent repeat events\n",
       "    if (name == 'key_press')\n",
       "    {\n",
       "        if (event.which === this._key)\n",
       "            return;\n",
       "        else\n",
       "            this._key = event.which;\n",
       "    }\n",
       "    if (name == 'key_release')\n",
       "        this._key = null;\n",
       "\n",
       "    var value = '';\n",
       "    if (event.ctrlKey && event.which != 17)\n",
       "        value += \"ctrl+\";\n",
       "    if (event.altKey && event.which != 18)\n",
       "        value += \"alt+\";\n",
       "    if (event.shiftKey && event.which != 16)\n",
       "        value += \"shift+\";\n",
       "\n",
       "    value += 'k';\n",
       "    value += event.which.toString();\n",
       "\n",
       "    this._key_event_extra(event, name);\n",
       "\n",
       "    this.send_message(name, {key: value,\n",
       "                             guiEvent: simpleKeys(event)});\n",
       "    return false;\n",
       "}\n",
       "\n",
       "mpl.figure.prototype.toolbar_button_onclick = function(name) {\n",
       "    if (name == 'download') {\n",
       "        this.handle_save(this, null);\n",
       "    } else {\n",
       "        this.send_message(\"toolbar_button\", {name: name});\n",
       "    }\n",
       "};\n",
       "\n",
       "mpl.figure.prototype.toolbar_button_onmouseover = function(tooltip) {\n",
       "    this.message.textContent = tooltip;\n",
       "};\n",
       "mpl.toolbar_items = [[\"Home\", \"Reset original view\", \"fa fa-home icon-home\", \"home\"], [\"Back\", \"Back to  previous view\", \"fa fa-arrow-left icon-arrow-left\", \"back\"], [\"Forward\", \"Forward to next view\", \"fa fa-arrow-right icon-arrow-right\", \"forward\"], [\"\", \"\", \"\", \"\"], [\"Pan\", \"Pan axes with left mouse, zoom with right\", \"fa fa-arrows icon-move\", \"pan\"], [\"Zoom\", \"Zoom to rectangle\", \"fa fa-square-o icon-check-empty\", \"zoom\"], [\"\", \"\", \"\", \"\"], [\"Download\", \"Download plot\", \"fa fa-floppy-o icon-save\", \"download\"]];\n",
       "\n",
       "mpl.extensions = [\"eps\", \"jpeg\", \"pdf\", \"png\", \"ps\", \"raw\", \"svg\", \"tif\"];\n",
       "\n",
       "mpl.default_extension = \"png\";var comm_websocket_adapter = function(comm) {\n",
       "    // Create a \"websocket\"-like object which calls the given IPython comm\n",
       "    // object with the appropriate methods. Currently this is a non binary\n",
       "    // socket, so there is still some room for performance tuning.\n",
       "    var ws = {};\n",
       "\n",
       "    ws.close = function() {\n",
       "        comm.close()\n",
       "    };\n",
       "    ws.send = function(m) {\n",
       "        //console.log('sending', m);\n",
       "        comm.send(m);\n",
       "    };\n",
       "    // Register the callback with on_msg.\n",
       "    comm.on_msg(function(msg) {\n",
       "        //console.log('receiving', msg['content']['data'], msg);\n",
       "        // Pass the mpl event to the overriden (by mpl) onmessage function.\n",
       "        ws.onmessage(msg['content']['data'])\n",
       "    });\n",
       "    return ws;\n",
       "}\n",
       "\n",
       "mpl.mpl_figure_comm = function(comm, msg) {\n",
       "    // This is the function which gets called when the mpl process\n",
       "    // starts-up an IPython Comm through the \"matplotlib\" channel.\n",
       "\n",
       "    var id = msg.content.data.id;\n",
       "    // Get hold of the div created by the display call when the Comm\n",
       "    // socket was opened in Python.\n",
       "    var element = $(\"#\" + id);\n",
       "    var ws_proxy = comm_websocket_adapter(comm)\n",
       "\n",
       "    function ondownload(figure, format) {\n",
       "        window.open(figure.imageObj.src);\n",
       "    }\n",
       "\n",
       "    var fig = new mpl.figure(id, ws_proxy,\n",
       "                           ondownload,\n",
       "                           element.get(0));\n",
       "\n",
       "    // Call onopen now - mpl needs it, as it is assuming we've passed it a real\n",
       "    // web socket which is closed, not our websocket->open comm proxy.\n",
       "    ws_proxy.onopen();\n",
       "\n",
       "    fig.parent_element = element.get(0);\n",
       "    fig.cell_info = mpl.find_output_cell(\"<div id='\" + id + \"'></div>\");\n",
       "    if (!fig.cell_info) {\n",
       "        console.error(\"Failed to find cell for figure\", id, fig);\n",
       "        return;\n",
       "    }\n",
       "\n",
       "    var output_index = fig.cell_info[2]\n",
       "    var cell = fig.cell_info[0];\n",
       "\n",
       "};\n",
       "\n",
       "mpl.figure.prototype.handle_close = function(fig, msg) {\n",
       "    var width = fig.canvas.width/mpl.ratio\n",
       "    fig.root.unbind('remove')\n",
       "\n",
       "    // Update the output cell to use the data from the current canvas.\n",
       "    fig.push_to_output();\n",
       "    var dataURL = fig.canvas.toDataURL();\n",
       "    // Re-enable the keyboard manager in IPython - without this line, in FF,\n",
       "    // the notebook keyboard shortcuts fail.\n",
       "    IPython.keyboard_manager.enable()\n",
       "    $(fig.parent_element).html('<img src=\"' + dataURL + '\" width=\"' + width + '\">');\n",
       "    fig.close_ws(fig, msg);\n",
       "}\n",
       "\n",
       "mpl.figure.prototype.close_ws = function(fig, msg){\n",
       "    fig.send_message('closing', msg);\n",
       "    // fig.ws.close()\n",
       "}\n",
       "\n",
       "mpl.figure.prototype.push_to_output = function(remove_interactive) {\n",
       "    // Turn the data on the canvas into data in the output cell.\n",
       "    var width = this.canvas.width/mpl.ratio\n",
       "    var dataURL = this.canvas.toDataURL();\n",
       "    this.cell_info[1]['text/html'] = '<img src=\"' + dataURL + '\" width=\"' + width + '\">';\n",
       "}\n",
       "\n",
       "mpl.figure.prototype.updated_canvas_event = function() {\n",
       "    // Tell IPython that the notebook contents must change.\n",
       "    IPython.notebook.set_dirty(true);\n",
       "    this.send_message(\"ack\", {});\n",
       "    var fig = this;\n",
       "    // Wait a second, then push the new image to the DOM so\n",
       "    // that it is saved nicely (might be nice to debounce this).\n",
       "    setTimeout(function () { fig.push_to_output() }, 1000);\n",
       "}\n",
       "\n",
       "mpl.figure.prototype._init_toolbar = function() {\n",
       "    var fig = this;\n",
       "\n",
       "    var nav_element = $('<div/>')\n",
       "    nav_element.attr('style', 'width: 100%');\n",
       "    this.root.append(nav_element);\n",
       "\n",
       "    // Define a callback function for later on.\n",
       "    function toolbar_event(event) {\n",
       "        return fig.toolbar_button_onclick(event['data']);\n",
       "    }\n",
       "    function toolbar_mouse_event(event) {\n",
       "        return fig.toolbar_button_onmouseover(event['data']);\n",
       "    }\n",
       "\n",
       "    for(var toolbar_ind in mpl.toolbar_items){\n",
       "        var name = mpl.toolbar_items[toolbar_ind][0];\n",
       "        var tooltip = mpl.toolbar_items[toolbar_ind][1];\n",
       "        var image = mpl.toolbar_items[toolbar_ind][2];\n",
       "        var method_name = mpl.toolbar_items[toolbar_ind][3];\n",
       "\n",
       "        if (!name) { continue; };\n",
       "\n",
       "        var button = $('<button class=\"btn btn-default\" href=\"#\" title=\"' + name + '\"><i class=\"fa ' + image + ' fa-lg\"></i></button>');\n",
       "        button.click(method_name, toolbar_event);\n",
       "        button.mouseover(tooltip, toolbar_mouse_event);\n",
       "        nav_element.append(button);\n",
       "    }\n",
       "\n",
       "    // Add the status bar.\n",
       "    var status_bar = $('<span class=\"mpl-message\" style=\"text-align:right; float: right;\"/>');\n",
       "    nav_element.append(status_bar);\n",
       "    this.message = status_bar[0];\n",
       "\n",
       "    // Add the close button to the window.\n",
       "    var buttongrp = $('<div class=\"btn-group inline pull-right\"></div>');\n",
       "    var button = $('<button class=\"btn btn-mini btn-primary\" href=\"#\" title=\"Stop Interaction\"><i class=\"fa fa-power-off icon-remove icon-large\"></i></button>');\n",
       "    button.click(function (evt) { fig.handle_close(fig, {}); } );\n",
       "    button.mouseover('Stop Interaction', toolbar_mouse_event);\n",
       "    buttongrp.append(button);\n",
       "    var titlebar = this.root.find($('.ui-dialog-titlebar'));\n",
       "    titlebar.prepend(buttongrp);\n",
       "}\n",
       "\n",
       "mpl.figure.prototype._root_extra_style = function(el){\n",
       "    var fig = this\n",
       "    el.on(\"remove\", function(){\n",
       "\tfig.close_ws(fig, {});\n",
       "    });\n",
       "}\n",
       "\n",
       "mpl.figure.prototype._canvas_extra_style = function(el){\n",
       "    // this is important to make the div 'focusable\n",
       "    el.attr('tabindex', 0)\n",
       "    // reach out to IPython and tell the keyboard manager to turn it's self\n",
       "    // off when our div gets focus\n",
       "\n",
       "    // location in version 3\n",
       "    if (IPython.notebook.keyboard_manager) {\n",
       "        IPython.notebook.keyboard_manager.register_events(el);\n",
       "    }\n",
       "    else {\n",
       "        // location in version 2\n",
       "        IPython.keyboard_manager.register_events(el);\n",
       "    }\n",
       "\n",
       "}\n",
       "\n",
       "mpl.figure.prototype._key_event_extra = function(event, name) {\n",
       "    var manager = IPython.notebook.keyboard_manager;\n",
       "    if (!manager)\n",
       "        manager = IPython.keyboard_manager;\n",
       "\n",
       "    // Check for shift+enter\n",
       "    if (event.shiftKey && event.which == 13) {\n",
       "        this.canvas_div.blur();\n",
       "        // select the cell after this one\n",
       "        var index = IPython.notebook.find_cell_index(this.cell_info[0]);\n",
       "        IPython.notebook.select(index + 1);\n",
       "    }\n",
       "}\n",
       "\n",
       "mpl.figure.prototype.handle_save = function(fig, msg) {\n",
       "    fig.ondownload(fig, null);\n",
       "}\n",
       "\n",
       "\n",
       "mpl.find_output_cell = function(html_output) {\n",
       "    // Return the cell and output element which can be found *uniquely* in the notebook.\n",
       "    // Note - this is a bit hacky, but it is done because the \"notebook_saving.Notebook\"\n",
       "    // IPython event is triggered only after the cells have been serialised, which for\n",
       "    // our purposes (turning an active figure into a static one), is too late.\n",
       "    var cells = IPython.notebook.get_cells();\n",
       "    var ncells = cells.length;\n",
       "    for (var i=0; i<ncells; i++) {\n",
       "        var cell = cells[i];\n",
       "        if (cell.cell_type === 'code'){\n",
       "            for (var j=0; j<cell.output_area.outputs.length; j++) {\n",
       "                var data = cell.output_area.outputs[j];\n",
       "                if (data.data) {\n",
       "                    // IPython >= 3 moved mimebundle to data attribute of output\n",
       "                    data = data.data;\n",
       "                }\n",
       "                if (data['text/html'] == html_output) {\n",
       "                    return [cell, data, j];\n",
       "                }\n",
       "            }\n",
       "        }\n",
       "    }\n",
       "}\n",
       "\n",
       "// Register the function which deals with the matplotlib target/channel.\n",
       "// The kernel may be null if the page has been refreshed.\n",
       "if (IPython.notebook.kernel != null) {\n",
       "    IPython.notebook.kernel.comm_manager.register_target('matplotlib', mpl.mpl_figure_comm);\n",
       "}\n"
      ],
      "text/plain": [
       "<IPython.core.display.Javascript object>"
      ]
     },
     "metadata": {},
     "output_type": "display_data"
    },
    {
     "data": {
      "text/html": [
       "<img src=\"data:image/png;base64,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\" width=\"600\">"
      ],
      "text/plain": [
       "<IPython.core.display.HTML object>"
      ]
     },
     "metadata": {},
     "output_type": "display_data"
    },
    {
     "data": {
      "text/plain": [
       "<matplotlib.text.Text at 0x7fbb46fb0d30>"
      ]
     },
     "execution_count": 1,
     "metadata": {},
     "output_type": "execute_result"
    }
   ],
   "source": [
    "%matplotlib notebook\n",
    "import matplotlib.pyplot as plt\n",
    "import numpy as np\n",
    "\n",
    "margin = np.linspace(-1.5, 3, 200)\n",
    "svm_y = np.maximum(np.zeros_like(margin), 1 - margin)\n",
    "bin_y = margin < 0\n",
    "adaboost_y = np.exp(-margin)\n",
    "logit_y = 2. / (1 + np.exp(margin))\n",
    "hebbs_y = np.maximum(0, -margin)\n",
    "\n",
    "plt.figure(figsize=(6, 5))\n",
    "plt.plot(margin, bin_y, label=\"Binary loss\")\n",
    "plt.plot(margin, svm_y, label=\"Hinge loss\")\n",
    "plt.plot(margin, adaboost_y, label=\"Exp loss\")\n",
    "plt.plot(margin, logit_y, label=\"Logit loss\")\n",
    "plt.plot(margin, hebbs_y, label=\"Hebb's loss\")\n",
    "plt.legend(fontsize=18)\n",
    "plt.xlabel(\"Margin, $M$\", fontsize=16)"
   ]
  },
  {
   "cell_type": "markdown",
   "metadata": {
    "slideshow": {
     "slide_type": "slide"
    }
   },
   "source": [
    "### Clustering\n",
    "Dataset $x_i, \\; i = 1,\\dots, m$ and similarity measure $\\rho(\\cdot, \\cdot)$\n",
    "- Assign same labels $a_i$ to close samples, split dataset to homogeneous groups\n",
    "- Loss functions:\n",
    "- Average inner cluster distance \n",
    "$$\n",
    "ID = \\frac{\\sum_{i < j}[a_i = a_j] \\rho(x_i, x_j)}{\\sum_{i < j} [a_i = a_j]} \\to \\min\n",
    "$$\n",
    "- Average external cluster disctance\n",
    "$$\n",
    "ED = \\frac{\\sum_{i < j}[a_i \\not= a_j] \\rho(x_i, x_j)}{\\sum_{i < j} [a_i \\not= a_j]} \\to \\max\n",
    "$$\n",
    "- Probabilistic interpretation as GMM"
   ]
  },
  {
   "cell_type": "markdown",
   "metadata": {
    "slideshow": {
     "slide_type": "slide"
    }
   },
   "source": [
    "### Ranking\n",
    "Dataset $(q_i, d_i) \\in X, y_i \\in Y$, where $q_i$ is a query, $d_i$ is a document and $y_i$ is a relevance\n",
    "- $a: X \\to Y$ such that $(q, d) \\succ (q, d') \\equiv a(q, d) > a(q, d')$\n",
    "- Loss function:\n",
    "$$\n",
    "[a(x_j) - a(x_i) < 0], \\quad i \\prec j\n",
    "$$\n",
    "or its upper bound again!\n",
    "- Margin $M = a(x_j) - a(x_i)$\n",
    "- Complete analogy with classification in upper bounds for binary loss function\n",
    "- Quality criteria are specific: NDCG, pFound, precision, etc"
   ]
  },
  {
   "cell_type": "markdown",
   "metadata": {
    "slideshow": {
     "slide_type": "slide"
    }
   },
   "source": [
    "## Optimization methods categories\n",
    "\n",
    "- Zero order\n",
    "- First order\n",
    "- Second order\n",
    "- Stochastic vs. deterministic\n",
    "- Unconstrained vs. constrained\n",
    "- Local vs. global"
   ]
  },
  {
   "cell_type": "markdown",
   "metadata": {
    "slideshow": {
     "slide_type": "slide"
    }
   },
   "source": [
    "### Convexity phenomenon\n",
    "\n",
    "- Local is global\n",
    "- Neccessary conditions are sufficient"
   ]
  },
  {
   "cell_type": "markdown",
   "metadata": {
    "slideshow": {
     "slide_type": "slide"
    }
   },
   "source": [
    "### Descent methods\n",
    "$$\n",
    "x_{k+1} = x_k + \\alpha d_k\n",
    "$$\n",
    "- How to choose $x_0$?\n",
    "- How to choose $\\alpha$?\n",
    "- How to find $d_k$?"
   ]
  },
  {
   "cell_type": "markdown",
   "metadata": {
    "slideshow": {
     "slide_type": "slide"
    }
   },
   "source": [
    "### Where do we descent?\n",
    "\n",
    "- Decreasing condition\n",
    "$$\n",
    "f(x_{k+1}) < f(x_k)\n",
    "$$\n",
    "leads to classical methods\n",
    "- Rejection of this condition leads to accelerated methods &mdash; advanced topics"
   ]
  },
  {
   "cell_type": "markdown",
   "metadata": {
    "slideshow": {
     "slide_type": "slide"
    }
   },
   "source": [
    "## First order methods\n",
    "\n",
    "- Require gradient\n",
    "- Weak assumptions\n",
    "- Typically sublinear or linear convergence\n",
    "- Appropriate for large and huge scale problems"
   ]
  },
  {
   "cell_type": "markdown",
   "metadata": {
    "slideshow": {
     "slide_type": "slide"
    }
   },
   "source": [
    "### Gradient descent\n",
    "- Direction\n",
    "$$\n",
    "d_k = -f'(x_k)\n",
    "$$\n",
    "- Step size\n",
    "    - Constant\n",
    "    - Fix decreasing sequence\n",
    "    - The steepest descent\n",
    "    - Adaptive, like Armijo rule\n",
    "    $\n",
    "    f(x_{k+1}) \\leq f(x_k) - \\beta_1 \\alpha_k \\langle f'(x_k), d_k \\rangle\n",
    "    $"
   ]
  },
  {
   "cell_type": "code",
   "execution_count": 4,
   "metadata": {
    "slideshow": {
     "slide_type": "slide"
    }
   },
   "outputs": [
    {
     "data": {
      "application/javascript": [
       "/* Put everything inside the global mpl namespace */\n",
       "window.mpl = {};\n",
       "\n",
       "\n",
       "mpl.get_websocket_type = function() {\n",
       "    if (typeof(WebSocket) !== 'undefined') {\n",
       "        return WebSocket;\n",
       "    } else if (typeof(MozWebSocket) !== 'undefined') {\n",
       "        return MozWebSocket;\n",
       "    } else {\n",
       "        alert('Your browser does not have WebSocket support.' +\n",
       "              'Please try Chrome, Safari or Firefox ≥ 6. ' +\n",
       "              'Firefox 4 and 5 are also supported but you ' +\n",
       "              'have to enable WebSockets in about:config.');\n",
       "    };\n",
       "}\n",
       "\n",
       "mpl.figure = function(figure_id, websocket, ondownload, parent_element) {\n",
       "    this.id = figure_id;\n",
       "\n",
       "    this.ws = websocket;\n",
       "\n",
       "    this.supports_binary = (this.ws.binaryType != undefined);\n",
       "\n",
       "    if (!this.supports_binary) {\n",
       "        var warnings = document.getElementById(\"mpl-warnings\");\n",
       "        if (warnings) {\n",
       "            warnings.style.display = 'block';\n",
       "            warnings.textContent = (\n",
       "                \"This browser does not support binary websocket messages. \" +\n",
       "                    \"Performance may be slow.\");\n",
       "        }\n",
       "    }\n",
       "\n",
       "    this.imageObj = new Image();\n",
       "\n",
       "    this.context = undefined;\n",
       "    this.message = undefined;\n",
       "    this.canvas = undefined;\n",
       "    this.rubberband_canvas = undefined;\n",
       "    this.rubberband_context = undefined;\n",
       "    this.format_dropdown = undefined;\n",
       "\n",
       "    this.image_mode = 'full';\n",
       "\n",
       "    this.root = $('<div/>');\n",
       "    this._root_extra_style(this.root)\n",
       "    this.root.attr('style', 'display: inline-block');\n",
       "\n",
       "    $(parent_element).append(this.root);\n",
       "\n",
       "    this._init_header(this);\n",
       "    this._init_canvas(this);\n",
       "    this._init_toolbar(this);\n",
       "\n",
       "    var fig = this;\n",
       "\n",
       "    this.waiting = false;\n",
       "\n",
       "    this.ws.onopen =  function () {\n",
       "            fig.send_message(\"supports_binary\", {value: fig.supports_binary});\n",
       "            fig.send_message(\"send_image_mode\", {});\n",
       "            if (mpl.ratio != 1) {\n",
       "                fig.send_message(\"set_dpi_ratio\", {'dpi_ratio': mpl.ratio});\n",
       "            }\n",
       "            fig.send_message(\"refresh\", {});\n",
       "        }\n",
       "\n",
       "    this.imageObj.onload = function() {\n",
       "            if (fig.image_mode == 'full') {\n",
       "                // Full images could contain transparency (where diff images\n",
       "                // almost always do), so we need to clear the canvas so that\n",
       "                // there is no ghosting.\n",
       "                fig.context.clearRect(0, 0, fig.canvas.width, fig.canvas.height);\n",
       "            }\n",
       "            fig.context.drawImage(fig.imageObj, 0, 0);\n",
       "        };\n",
       "\n",
       "    this.imageObj.onunload = function() {\n",
       "        this.ws.close();\n",
       "    }\n",
       "\n",
       "    this.ws.onmessage = this._make_on_message_function(this);\n",
       "\n",
       "    this.ondownload = ondownload;\n",
       "}\n",
       "\n",
       "mpl.figure.prototype._init_header = function() {\n",
       "    var titlebar = $(\n",
       "        '<div class=\"ui-dialog-titlebar ui-widget-header ui-corner-all ' +\n",
       "        'ui-helper-clearfix\"/>');\n",
       "    var titletext = $(\n",
       "        '<div class=\"ui-dialog-title\" style=\"width: 100%; ' +\n",
       "        'text-align: center; padding: 3px;\"/>');\n",
       "    titlebar.append(titletext)\n",
       "    this.root.append(titlebar);\n",
       "    this.header = titletext[0];\n",
       "}\n",
       "\n",
       "\n",
       "\n",
       "mpl.figure.prototype._canvas_extra_style = function(canvas_div) {\n",
       "\n",
       "}\n",
       "\n",
       "\n",
       "mpl.figure.prototype._root_extra_style = function(canvas_div) {\n",
       "\n",
       "}\n",
       "\n",
       "mpl.figure.prototype._init_canvas = function() {\n",
       "    var fig = this;\n",
       "\n",
       "    var canvas_div = $('<div/>');\n",
       "\n",
       "    canvas_div.attr('style', 'position: relative; clear: both; outline: 0');\n",
       "\n",
       "    function canvas_keyboard_event(event) {\n",
       "        return fig.key_event(event, event['data']);\n",
       "    }\n",
       "\n",
       "    canvas_div.keydown('key_press', canvas_keyboard_event);\n",
       "    canvas_div.keyup('key_release', canvas_keyboard_event);\n",
       "    this.canvas_div = canvas_div\n",
       "    this._canvas_extra_style(canvas_div)\n",
       "    this.root.append(canvas_div);\n",
       "\n",
       "    var canvas = $('<canvas/>');\n",
       "    canvas.addClass('mpl-canvas');\n",
       "    canvas.attr('style', \"left: 0; top: 0; z-index: 0; outline: 0\")\n",
       "\n",
       "    this.canvas = canvas[0];\n",
       "    this.context = canvas[0].getContext(\"2d\");\n",
       "\n",
       "    var backingStore = this.context.backingStorePixelRatio ||\n",
       "\tthis.context.webkitBackingStorePixelRatio ||\n",
       "\tthis.context.mozBackingStorePixelRatio ||\n",
       "\tthis.context.msBackingStorePixelRatio ||\n",
       "\tthis.context.oBackingStorePixelRatio ||\n",
       "\tthis.context.backingStorePixelRatio || 1;\n",
       "\n",
       "    mpl.ratio = (window.devicePixelRatio || 1) / backingStore;\n",
       "\n",
       "    var rubberband = $('<canvas/>');\n",
       "    rubberband.attr('style', \"position: absolute; left: 0; top: 0; z-index: 1;\")\n",
       "\n",
       "    var pass_mouse_events = true;\n",
       "\n",
       "    canvas_div.resizable({\n",
       "        start: function(event, ui) {\n",
       "            pass_mouse_events = false;\n",
       "        },\n",
       "        resize: function(event, ui) {\n",
       "            fig.request_resize(ui.size.width, ui.size.height);\n",
       "        },\n",
       "        stop: function(event, ui) {\n",
       "            pass_mouse_events = true;\n",
       "            fig.request_resize(ui.size.width, ui.size.height);\n",
       "        },\n",
       "    });\n",
       "\n",
       "    function mouse_event_fn(event) {\n",
       "        if (pass_mouse_events)\n",
       "            return fig.mouse_event(event, event['data']);\n",
       "    }\n",
       "\n",
       "    rubberband.mousedown('button_press', mouse_event_fn);\n",
       "    rubberband.mouseup('button_release', mouse_event_fn);\n",
       "    // Throttle sequential mouse events to 1 every 20ms.\n",
       "    rubberband.mousemove('motion_notify', mouse_event_fn);\n",
       "\n",
       "    rubberband.mouseenter('figure_enter', mouse_event_fn);\n",
       "    rubberband.mouseleave('figure_leave', mouse_event_fn);\n",
       "\n",
       "    canvas_div.on(\"wheel\", function (event) {\n",
       "        event = event.originalEvent;\n",
       "        event['data'] = 'scroll'\n",
       "        if (event.deltaY < 0) {\n",
       "            event.step = 1;\n",
       "        } else {\n",
       "            event.step = -1;\n",
       "        }\n",
       "        mouse_event_fn(event);\n",
       "    });\n",
       "\n",
       "    canvas_div.append(canvas);\n",
       "    canvas_div.append(rubberband);\n",
       "\n",
       "    this.rubberband = rubberband;\n",
       "    this.rubberband_canvas = rubberband[0];\n",
       "    this.rubberband_context = rubberband[0].getContext(\"2d\");\n",
       "    this.rubberband_context.strokeStyle = \"#000000\";\n",
       "\n",
       "    this._resize_canvas = function(width, height) {\n",
       "        // Keep the size of the canvas, canvas container, and rubber band\n",
       "        // canvas in synch.\n",
       "        canvas_div.css('width', width)\n",
       "        canvas_div.css('height', height)\n",
       "\n",
       "        canvas.attr('width', width * mpl.ratio);\n",
       "        canvas.attr('height', height * mpl.ratio);\n",
       "        canvas.attr('style', 'width: ' + width + 'px; height: ' + height + 'px;');\n",
       "\n",
       "        rubberband.attr('width', width);\n",
       "        rubberband.attr('height', height);\n",
       "    }\n",
       "\n",
       "    // Set the figure to an initial 600x600px, this will subsequently be updated\n",
       "    // upon first draw.\n",
       "    this._resize_canvas(600, 600);\n",
       "\n",
       "    // Disable right mouse context menu.\n",
       "    $(this.rubberband_canvas).bind(\"contextmenu\",function(e){\n",
       "        return false;\n",
       "    });\n",
       "\n",
       "    function set_focus () {\n",
       "        canvas.focus();\n",
       "        canvas_div.focus();\n",
       "    }\n",
       "\n",
       "    window.setTimeout(set_focus, 100);\n",
       "}\n",
       "\n",
       "mpl.figure.prototype._init_toolbar = function() {\n",
       "    var fig = this;\n",
       "\n",
       "    var nav_element = $('<div/>')\n",
       "    nav_element.attr('style', 'width: 100%');\n",
       "    this.root.append(nav_element);\n",
       "\n",
       "    // Define a callback function for later on.\n",
       "    function toolbar_event(event) {\n",
       "        return fig.toolbar_button_onclick(event['data']);\n",
       "    }\n",
       "    function toolbar_mouse_event(event) {\n",
       "        return fig.toolbar_button_onmouseover(event['data']);\n",
       "    }\n",
       "\n",
       "    for(var toolbar_ind in mpl.toolbar_items) {\n",
       "        var name = mpl.toolbar_items[toolbar_ind][0];\n",
       "        var tooltip = mpl.toolbar_items[toolbar_ind][1];\n",
       "        var image = mpl.toolbar_items[toolbar_ind][2];\n",
       "        var method_name = mpl.toolbar_items[toolbar_ind][3];\n",
       "\n",
       "        if (!name) {\n",
       "            // put a spacer in here.\n",
       "            continue;\n",
       "        }\n",
       "        var button = $('<button/>');\n",
       "        button.addClass('ui-button ui-widget ui-state-default ui-corner-all ' +\n",
       "                        'ui-button-icon-only');\n",
       "        button.attr('role', 'button');\n",
       "        button.attr('aria-disabled', 'false');\n",
       "        button.click(method_name, toolbar_event);\n",
       "        button.mouseover(tooltip, toolbar_mouse_event);\n",
       "\n",
       "        var icon_img = $('<span/>');\n",
       "        icon_img.addClass('ui-button-icon-primary ui-icon');\n",
       "        icon_img.addClass(image);\n",
       "        icon_img.addClass('ui-corner-all');\n",
       "\n",
       "        var tooltip_span = $('<span/>');\n",
       "        tooltip_span.addClass('ui-button-text');\n",
       "        tooltip_span.html(tooltip);\n",
       "\n",
       "        button.append(icon_img);\n",
       "        button.append(tooltip_span);\n",
       "\n",
       "        nav_element.append(button);\n",
       "    }\n",
       "\n",
       "    var fmt_picker_span = $('<span/>');\n",
       "\n",
       "    var fmt_picker = $('<select/>');\n",
       "    fmt_picker.addClass('mpl-toolbar-option ui-widget ui-widget-content');\n",
       "    fmt_picker_span.append(fmt_picker);\n",
       "    nav_element.append(fmt_picker_span);\n",
       "    this.format_dropdown = fmt_picker[0];\n",
       "\n",
       "    for (var ind in mpl.extensions) {\n",
       "        var fmt = mpl.extensions[ind];\n",
       "        var option = $(\n",
       "            '<option/>', {selected: fmt === mpl.default_extension}).html(fmt);\n",
       "        fmt_picker.append(option)\n",
       "    }\n",
       "\n",
       "    // Add hover states to the ui-buttons\n",
       "    $( \".ui-button\" ).hover(\n",
       "        function() { $(this).addClass(\"ui-state-hover\");},\n",
       "        function() { $(this).removeClass(\"ui-state-hover\");}\n",
       "    );\n",
       "\n",
       "    var status_bar = $('<span class=\"mpl-message\"/>');\n",
       "    nav_element.append(status_bar);\n",
       "    this.message = status_bar[0];\n",
       "}\n",
       "\n",
       "mpl.figure.prototype.request_resize = function(x_pixels, y_pixels) {\n",
       "    // Request matplotlib to resize the figure. Matplotlib will then trigger a resize in the client,\n",
       "    // which will in turn request a refresh of the image.\n",
       "    this.send_message('resize', {'width': x_pixels, 'height': y_pixels});\n",
       "}\n",
       "\n",
       "mpl.figure.prototype.send_message = function(type, properties) {\n",
       "    properties['type'] = type;\n",
       "    properties['figure_id'] = this.id;\n",
       "    this.ws.send(JSON.stringify(properties));\n",
       "}\n",
       "\n",
       "mpl.figure.prototype.send_draw_message = function() {\n",
       "    if (!this.waiting) {\n",
       "        this.waiting = true;\n",
       "        this.ws.send(JSON.stringify({type: \"draw\", figure_id: this.id}));\n",
       "    }\n",
       "}\n",
       "\n",
       "\n",
       "mpl.figure.prototype.handle_save = function(fig, msg) {\n",
       "    var format_dropdown = fig.format_dropdown;\n",
       "    var format = format_dropdown.options[format_dropdown.selectedIndex].value;\n",
       "    fig.ondownload(fig, format);\n",
       "}\n",
       "\n",
       "\n",
       "mpl.figure.prototype.handle_resize = function(fig, msg) {\n",
       "    var size = msg['size'];\n",
       "    if (size[0] != fig.canvas.width || size[1] != fig.canvas.height) {\n",
       "        fig._resize_canvas(size[0], size[1]);\n",
       "        fig.send_message(\"refresh\", {});\n",
       "    };\n",
       "}\n",
       "\n",
       "mpl.figure.prototype.handle_rubberband = function(fig, msg) {\n",
       "    var x0 = msg['x0'] / mpl.ratio;\n",
       "    var y0 = (fig.canvas.height - msg['y0']) / mpl.ratio;\n",
       "    var x1 = msg['x1'] / mpl.ratio;\n",
       "    var y1 = (fig.canvas.height - msg['y1']) / mpl.ratio;\n",
       "    x0 = Math.floor(x0) + 0.5;\n",
       "    y0 = Math.floor(y0) + 0.5;\n",
       "    x1 = Math.floor(x1) + 0.5;\n",
       "    y1 = Math.floor(y1) + 0.5;\n",
       "    var min_x = Math.min(x0, x1);\n",
       "    var min_y = Math.min(y0, y1);\n",
       "    var width = Math.abs(x1 - x0);\n",
       "    var height = Math.abs(y1 - y0);\n",
       "\n",
       "    fig.rubberband_context.clearRect(\n",
       "        0, 0, fig.canvas.width, fig.canvas.height);\n",
       "\n",
       "    fig.rubberband_context.strokeRect(min_x, min_y, width, height);\n",
       "}\n",
       "\n",
       "mpl.figure.prototype.handle_figure_label = function(fig, msg) {\n",
       "    // Updates the figure title.\n",
       "    fig.header.textContent = msg['label'];\n",
       "}\n",
       "\n",
       "mpl.figure.prototype.handle_cursor = function(fig, msg) {\n",
       "    var cursor = msg['cursor'];\n",
       "    switch(cursor)\n",
       "    {\n",
       "    case 0:\n",
       "        cursor = 'pointer';\n",
       "        break;\n",
       "    case 1:\n",
       "        cursor = 'default';\n",
       "        break;\n",
       "    case 2:\n",
       "        cursor = 'crosshair';\n",
       "        break;\n",
       "    case 3:\n",
       "        cursor = 'move';\n",
       "        break;\n",
       "    }\n",
       "    fig.rubberband_canvas.style.cursor = cursor;\n",
       "}\n",
       "\n",
       "mpl.figure.prototype.handle_message = function(fig, msg) {\n",
       "    fig.message.textContent = msg['message'];\n",
       "}\n",
       "\n",
       "mpl.figure.prototype.handle_draw = function(fig, msg) {\n",
       "    // Request the server to send over a new figure.\n",
       "    fig.send_draw_message();\n",
       "}\n",
       "\n",
       "mpl.figure.prototype.handle_image_mode = function(fig, msg) {\n",
       "    fig.image_mode = msg['mode'];\n",
       "}\n",
       "\n",
       "mpl.figure.prototype.updated_canvas_event = function() {\n",
       "    // Called whenever the canvas gets updated.\n",
       "    this.send_message(\"ack\", {});\n",
       "}\n",
       "\n",
       "// A function to construct a web socket function for onmessage handling.\n",
       "// Called in the figure constructor.\n",
       "mpl.figure.prototype._make_on_message_function = function(fig) {\n",
       "    return function socket_on_message(evt) {\n",
       "        if (evt.data instanceof Blob) {\n",
       "            /* FIXME: We get \"Resource interpreted as Image but\n",
       "             * transferred with MIME type text/plain:\" errors on\n",
       "             * Chrome.  But how to set the MIME type?  It doesn't seem\n",
       "             * to be part of the websocket stream */\n",
       "            evt.data.type = \"image/png\";\n",
       "\n",
       "            /* Free the memory for the previous frames */\n",
       "            if (fig.imageObj.src) {\n",
       "                (window.URL || window.webkitURL).revokeObjectURL(\n",
       "                    fig.imageObj.src);\n",
       "            }\n",
       "\n",
       "            fig.imageObj.src = (window.URL || window.webkitURL).createObjectURL(\n",
       "                evt.data);\n",
       "            fig.updated_canvas_event();\n",
       "            fig.waiting = false;\n",
       "            return;\n",
       "        }\n",
       "        else if (typeof evt.data === 'string' && evt.data.slice(0, 21) == \"data:image/png;base64\") {\n",
       "            fig.imageObj.src = evt.data;\n",
       "            fig.updated_canvas_event();\n",
       "            fig.waiting = false;\n",
       "            return;\n",
       "        }\n",
       "\n",
       "        var msg = JSON.parse(evt.data);\n",
       "        var msg_type = msg['type'];\n",
       "\n",
       "        // Call the  \"handle_{type}\" callback, which takes\n",
       "        // the figure and JSON message as its only arguments.\n",
       "        try {\n",
       "            var callback = fig[\"handle_\" + msg_type];\n",
       "        } catch (e) {\n",
       "            console.log(\"No handler for the '\" + msg_type + \"' message type: \", msg);\n",
       "            return;\n",
       "        }\n",
       "\n",
       "        if (callback) {\n",
       "            try {\n",
       "                // console.log(\"Handling '\" + msg_type + \"' message: \", msg);\n",
       "                callback(fig, msg);\n",
       "            } catch (e) {\n",
       "                console.log(\"Exception inside the 'handler_\" + msg_type + \"' callback:\", e, e.stack, msg);\n",
       "            }\n",
       "        }\n",
       "    };\n",
       "}\n",
       "\n",
       "// from http://stackoverflow.com/questions/1114465/getting-mouse-location-in-canvas\n",
       "mpl.findpos = function(e) {\n",
       "    //this section is from http://www.quirksmode.org/js/events_properties.html\n",
       "    var targ;\n",
       "    if (!e)\n",
       "        e = window.event;\n",
       "    if (e.target)\n",
       "        targ = e.target;\n",
       "    else if (e.srcElement)\n",
       "        targ = e.srcElement;\n",
       "    if (targ.nodeType == 3) // defeat Safari bug\n",
       "        targ = targ.parentNode;\n",
       "\n",
       "    // jQuery normalizes the pageX and pageY\n",
       "    // pageX,Y are the mouse positions relative to the document\n",
       "    // offset() returns the position of the element relative to the document\n",
       "    var x = e.pageX - $(targ).offset().left;\n",
       "    var y = e.pageY - $(targ).offset().top;\n",
       "\n",
       "    return {\"x\": x, \"y\": y};\n",
       "};\n",
       "\n",
       "/*\n",
       " * return a copy of an object with only non-object keys\n",
       " * we need this to avoid circular references\n",
       " * http://stackoverflow.com/a/24161582/3208463\n",
       " */\n",
       "function simpleKeys (original) {\n",
       "  return Object.keys(original).reduce(function (obj, key) {\n",
       "    if (typeof original[key] !== 'object')\n",
       "        obj[key] = original[key]\n",
       "    return obj;\n",
       "  }, {});\n",
       "}\n",
       "\n",
       "mpl.figure.prototype.mouse_event = function(event, name) {\n",
       "    var canvas_pos = mpl.findpos(event)\n",
       "\n",
       "    if (name === 'button_press')\n",
       "    {\n",
       "        this.canvas.focus();\n",
       "        this.canvas_div.focus();\n",
       "    }\n",
       "\n",
       "    var x = canvas_pos.x * mpl.ratio;\n",
       "    var y = canvas_pos.y * mpl.ratio;\n",
       "\n",
       "    this.send_message(name, {x: x, y: y, button: event.button,\n",
       "                             step: event.step,\n",
       "                             guiEvent: simpleKeys(event)});\n",
       "\n",
       "    /* This prevents the web browser from automatically changing to\n",
       "     * the text insertion cursor when the button is pressed.  We want\n",
       "     * to control all of the cursor setting manually through the\n",
       "     * 'cursor' event from matplotlib */\n",
       "    event.preventDefault();\n",
       "    return false;\n",
       "}\n",
       "\n",
       "mpl.figure.prototype._key_event_extra = function(event, name) {\n",
       "    // Handle any extra behaviour associated with a key event\n",
       "}\n",
       "\n",
       "mpl.figure.prototype.key_event = function(event, name) {\n",
       "\n",
       "    // Prevent repeat events\n",
       "    if (name == 'key_press')\n",
       "    {\n",
       "        if (event.which === this._key)\n",
       "            return;\n",
       "        else\n",
       "            this._key = event.which;\n",
       "    }\n",
       "    if (name == 'key_release')\n",
       "        this._key = null;\n",
       "\n",
       "    var value = '';\n",
       "    if (event.ctrlKey && event.which != 17)\n",
       "        value += \"ctrl+\";\n",
       "    if (event.altKey && event.which != 18)\n",
       "        value += \"alt+\";\n",
       "    if (event.shiftKey && event.which != 16)\n",
       "        value += \"shift+\";\n",
       "\n",
       "    value += 'k';\n",
       "    value += event.which.toString();\n",
       "\n",
       "    this._key_event_extra(event, name);\n",
       "\n",
       "    this.send_message(name, {key: value,\n",
       "                             guiEvent: simpleKeys(event)});\n",
       "    return false;\n",
       "}\n",
       "\n",
       "mpl.figure.prototype.toolbar_button_onclick = function(name) {\n",
       "    if (name == 'download') {\n",
       "        this.handle_save(this, null);\n",
       "    } else {\n",
       "        this.send_message(\"toolbar_button\", {name: name});\n",
       "    }\n",
       "};\n",
       "\n",
       "mpl.figure.prototype.toolbar_button_onmouseover = function(tooltip) {\n",
       "    this.message.textContent = tooltip;\n",
       "};\n",
       "mpl.toolbar_items = [[\"Home\", \"Reset original view\", \"fa fa-home icon-home\", \"home\"], [\"Back\", \"Back to  previous view\", \"fa fa-arrow-left icon-arrow-left\", \"back\"], [\"Forward\", \"Forward to next view\", \"fa fa-arrow-right icon-arrow-right\", \"forward\"], [\"\", \"\", \"\", \"\"], [\"Pan\", \"Pan axes with left mouse, zoom with right\", \"fa fa-arrows icon-move\", \"pan\"], [\"Zoom\", \"Zoom to rectangle\", \"fa fa-square-o icon-check-empty\", \"zoom\"], [\"\", \"\", \"\", \"\"], [\"Download\", \"Download plot\", \"fa fa-floppy-o icon-save\", \"download\"]];\n",
       "\n",
       "mpl.extensions = [\"eps\", \"jpeg\", \"pdf\", \"png\", \"ps\", \"raw\", \"svg\", \"tif\"];\n",
       "\n",
       "mpl.default_extension = \"png\";var comm_websocket_adapter = function(comm) {\n",
       "    // Create a \"websocket\"-like object which calls the given IPython comm\n",
       "    // object with the appropriate methods. Currently this is a non binary\n",
       "    // socket, so there is still some room for performance tuning.\n",
       "    var ws = {};\n",
       "\n",
       "    ws.close = function() {\n",
       "        comm.close()\n",
       "    };\n",
       "    ws.send = function(m) {\n",
       "        //console.log('sending', m);\n",
       "        comm.send(m);\n",
       "    };\n",
       "    // Register the callback with on_msg.\n",
       "    comm.on_msg(function(msg) {\n",
       "        //console.log('receiving', msg['content']['data'], msg);\n",
       "        // Pass the mpl event to the overriden (by mpl) onmessage function.\n",
       "        ws.onmessage(msg['content']['data'])\n",
       "    });\n",
       "    return ws;\n",
       "}\n",
       "\n",
       "mpl.mpl_figure_comm = function(comm, msg) {\n",
       "    // This is the function which gets called when the mpl process\n",
       "    // starts-up an IPython Comm through the \"matplotlib\" channel.\n",
       "\n",
       "    var id = msg.content.data.id;\n",
       "    // Get hold of the div created by the display call when the Comm\n",
       "    // socket was opened in Python.\n",
       "    var element = $(\"#\" + id);\n",
       "    var ws_proxy = comm_websocket_adapter(comm)\n",
       "\n",
       "    function ondownload(figure, format) {\n",
       "        window.open(figure.imageObj.src);\n",
       "    }\n",
       "\n",
       "    var fig = new mpl.figure(id, ws_proxy,\n",
       "                           ondownload,\n",
       "                           element.get(0));\n",
       "\n",
       "    // Call onopen now - mpl needs it, as it is assuming we've passed it a real\n",
       "    // web socket which is closed, not our websocket->open comm proxy.\n",
       "    ws_proxy.onopen();\n",
       "\n",
       "    fig.parent_element = element.get(0);\n",
       "    fig.cell_info = mpl.find_output_cell(\"<div id='\" + id + \"'></div>\");\n",
       "    if (!fig.cell_info) {\n",
       "        console.error(\"Failed to find cell for figure\", id, fig);\n",
       "        return;\n",
       "    }\n",
       "\n",
       "    var output_index = fig.cell_info[2]\n",
       "    var cell = fig.cell_info[0];\n",
       "\n",
       "};\n",
       "\n",
       "mpl.figure.prototype.handle_close = function(fig, msg) {\n",
       "    var width = fig.canvas.width/mpl.ratio\n",
       "    fig.root.unbind('remove')\n",
       "\n",
       "    // Update the output cell to use the data from the current canvas.\n",
       "    fig.push_to_output();\n",
       "    var dataURL = fig.canvas.toDataURL();\n",
       "    // Re-enable the keyboard manager in IPython - without this line, in FF,\n",
       "    // the notebook keyboard shortcuts fail.\n",
       "    IPython.keyboard_manager.enable()\n",
       "    $(fig.parent_element).html('<img src=\"' + dataURL + '\" width=\"' + width + '\">');\n",
       "    fig.close_ws(fig, msg);\n",
       "}\n",
       "\n",
       "mpl.figure.prototype.close_ws = function(fig, msg){\n",
       "    fig.send_message('closing', msg);\n",
       "    // fig.ws.close()\n",
       "}\n",
       "\n",
       "mpl.figure.prototype.push_to_output = function(remove_interactive) {\n",
       "    // Turn the data on the canvas into data in the output cell.\n",
       "    var width = this.canvas.width/mpl.ratio\n",
       "    var dataURL = this.canvas.toDataURL();\n",
       "    this.cell_info[1]['text/html'] = '<img src=\"' + dataURL + '\" width=\"' + width + '\">';\n",
       "}\n",
       "\n",
       "mpl.figure.prototype.updated_canvas_event = function() {\n",
       "    // Tell IPython that the notebook contents must change.\n",
       "    IPython.notebook.set_dirty(true);\n",
       "    this.send_message(\"ack\", {});\n",
       "    var fig = this;\n",
       "    // Wait a second, then push the new image to the DOM so\n",
       "    // that it is saved nicely (might be nice to debounce this).\n",
       "    setTimeout(function () { fig.push_to_output() }, 1000);\n",
       "}\n",
       "\n",
       "mpl.figure.prototype._init_toolbar = function() {\n",
       "    var fig = this;\n",
       "\n",
       "    var nav_element = $('<div/>')\n",
       "    nav_element.attr('style', 'width: 100%');\n",
       "    this.root.append(nav_element);\n",
       "\n",
       "    // Define a callback function for later on.\n",
       "    function toolbar_event(event) {\n",
       "        return fig.toolbar_button_onclick(event['data']);\n",
       "    }\n",
       "    function toolbar_mouse_event(event) {\n",
       "        return fig.toolbar_button_onmouseover(event['data']);\n",
       "    }\n",
       "\n",
       "    for(var toolbar_ind in mpl.toolbar_items){\n",
       "        var name = mpl.toolbar_items[toolbar_ind][0];\n",
       "        var tooltip = mpl.toolbar_items[toolbar_ind][1];\n",
       "        var image = mpl.toolbar_items[toolbar_ind][2];\n",
       "        var method_name = mpl.toolbar_items[toolbar_ind][3];\n",
       "\n",
       "        if (!name) { continue; };\n",
       "\n",
       "        var button = $('<button class=\"btn btn-default\" href=\"#\" title=\"' + name + '\"><i class=\"fa ' + image + ' fa-lg\"></i></button>');\n",
       "        button.click(method_name, toolbar_event);\n",
       "        button.mouseover(tooltip, toolbar_mouse_event);\n",
       "        nav_element.append(button);\n",
       "    }\n",
       "\n",
       "    // Add the status bar.\n",
       "    var status_bar = $('<span class=\"mpl-message\" style=\"text-align:right; float: right;\"/>');\n",
       "    nav_element.append(status_bar);\n",
       "    this.message = status_bar[0];\n",
       "\n",
       "    // Add the close button to the window.\n",
       "    var buttongrp = $('<div class=\"btn-group inline pull-right\"></div>');\n",
       "    var button = $('<button class=\"btn btn-mini btn-primary\" href=\"#\" title=\"Stop Interaction\"><i class=\"fa fa-power-off icon-remove icon-large\"></i></button>');\n",
       "    button.click(function (evt) { fig.handle_close(fig, {}); } );\n",
       "    button.mouseover('Stop Interaction', toolbar_mouse_event);\n",
       "    buttongrp.append(button);\n",
       "    var titlebar = this.root.find($('.ui-dialog-titlebar'));\n",
       "    titlebar.prepend(buttongrp);\n",
       "}\n",
       "\n",
       "mpl.figure.prototype._root_extra_style = function(el){\n",
       "    var fig = this\n",
       "    el.on(\"remove\", function(){\n",
       "\tfig.close_ws(fig, {});\n",
       "    });\n",
       "}\n",
       "\n",
       "mpl.figure.prototype._canvas_extra_style = function(el){\n",
       "    // this is important to make the div 'focusable\n",
       "    el.attr('tabindex', 0)\n",
       "    // reach out to IPython and tell the keyboard manager to turn it's self\n",
       "    // off when our div gets focus\n",
       "\n",
       "    // location in version 3\n",
       "    if (IPython.notebook.keyboard_manager) {\n",
       "        IPython.notebook.keyboard_manager.register_events(el);\n",
       "    }\n",
       "    else {\n",
       "        // location in version 2\n",
       "        IPython.keyboard_manager.register_events(el);\n",
       "    }\n",
       "\n",
       "}\n",
       "\n",
       "mpl.figure.prototype._key_event_extra = function(event, name) {\n",
       "    var manager = IPython.notebook.keyboard_manager;\n",
       "    if (!manager)\n",
       "        manager = IPython.keyboard_manager;\n",
       "\n",
       "    // Check for shift+enter\n",
       "    if (event.shiftKey && event.which == 13) {\n",
       "        this.canvas_div.blur();\n",
       "        // select the cell after this one\n",
       "        var index = IPython.notebook.find_cell_index(this.cell_info[0]);\n",
       "        IPython.notebook.select(index + 1);\n",
       "    }\n",
       "}\n",
       "\n",
       "mpl.figure.prototype.handle_save = function(fig, msg) {\n",
       "    fig.ondownload(fig, null);\n",
       "}\n",
       "\n",
       "\n",
       "mpl.find_output_cell = function(html_output) {\n",
       "    // Return the cell and output element which can be found *uniquely* in the notebook.\n",
       "    // Note - this is a bit hacky, but it is done because the \"notebook_saving.Notebook\"\n",
       "    // IPython event is triggered only after the cells have been serialised, which for\n",
       "    // our purposes (turning an active figure into a static one), is too late.\n",
       "    var cells = IPython.notebook.get_cells();\n",
       "    var ncells = cells.length;\n",
       "    for (var i=0; i<ncells; i++) {\n",
       "        var cell = cells[i];\n",
       "        if (cell.cell_type === 'code'){\n",
       "            for (var j=0; j<cell.output_area.outputs.length; j++) {\n",
       "                var data = cell.output_area.outputs[j];\n",
       "                if (data.data) {\n",
       "                    // IPython >= 3 moved mimebundle to data attribute of output\n",
       "                    data = data.data;\n",
       "                }\n",
       "                if (data['text/html'] == html_output) {\n",
       "                    return [cell, data, j];\n",
       "                }\n",
       "            }\n",
       "        }\n",
       "    }\n",
       "}\n",
       "\n",
       "// Register the function which deals with the matplotlib target/channel.\n",
       "// The kernel may be null if the page has been refreshed.\n",
       "if (IPython.notebook.kernel != null) {\n",
       "    IPython.notebook.kernel.comm_manager.register_target('matplotlib', mpl.mpl_figure_comm);\n",
       "}\n"
      ],
      "text/plain": [
       "<IPython.core.display.Javascript object>"
      ]
     },
     "metadata": {},
     "output_type": "display_data"
    },
    {
     "data": {
      "text/html": [
       "<img src=\"data:image/png;base64,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\" width=\"640\">"
      ],
      "text/plain": [
       "<IPython.core.display.HTML object>"
      ]
     },
     "metadata": {},
     "output_type": "display_data"
    },
    {
     "data": {
      "application/vnd.jupyter.widget-view+json": {
       "model_id": "ce7233b154484fb8a1e1ffd4ea31b3bc",
       "version_major": 2,
       "version_minor": 0
      },
      "text/plain": [
       "A Jupyter Widget"
      ]
     },
     "metadata": {},
     "output_type": "display_data"
    }
   ],
   "source": [
    "%matplotlib notebook\n",
    "import matplotlib.pyplot as plt\n",
    "import numpy as np\n",
    "import ipywidgets as ipywidg\n",
    "\n",
    "def gd(f, gradf, x0, step, eps=1e-6, maxiter=10):\n",
    "    x = x0\n",
    "    x_hist = [x]\n",
    "    n_iter = 0\n",
    "    while abs(gradf(x)) > eps and n_iter < maxiter:\n",
    "        x = x - step * gradf(x)\n",
    "        x_hist.append(x)\n",
    "        n_iter += 1\n",
    "    return x, x_hist\n",
    "\n",
    "f = lambda x: x**2\n",
    "gradf = lambda x: 2 * x\n",
    "\n",
    "fig = plt.figure()\n",
    "ax = fig.add_subplot(1, 1, 1)\n",
    "plt.rc(\"text\", usetex=True)\n",
    "\n",
    "def update(x0, step):\n",
    "    _, x_hist = gd(f, gradf, x0, step)\n",
    "    x = np.linspace(-2, 2)\n",
    "    ax.clear()\n",
    "    ax.plot(x, f(x), color=\"r\", label=\"$f(x) = x^2$\")\n",
    "    ax.plot(x_hist, [f(x) for x in x_hist], marker=\"o\", label=\"Descent path\")\n",
    "    plt.legend()\n",
    "    fig.canvas.draw()\n",
    "\n",
    "step_slider = ipywidg.FloatSlider(value=0.8, min=0, max=1.2, step=0.1, description=\"Step\")\n",
    "x0_slider = ipywidg.FloatSlider(value=1.5, min=-2, max=2, step=0.1, description=\"Initial point\")\n",
    "_ = ipywidg.interact(update, x0=x0_slider, step=step_slider)"
   ]
  },
  {
   "cell_type": "markdown",
   "metadata": {
    "collapsed": true,
    "slideshow": {
     "slide_type": "slide"
    }
   },
   "source": [
    "### One more interpretation\n",
    "\n",
    "Consider ODE:\n",
    "$$\n",
    "\\frac{dx}{dt} = -f'(x(t))\n",
    "$$\n",
    "and discretize it on the regular grid with step size $\\alpha$:\n",
    "$$\n",
    "\\frac{x_{k+1} - x_k}{\\alpha} = -f'(x_k),\n",
    "$$\n",
    "where $x_k \\equiv x(t_k)$ and $\\alpha = t_{k+1} - t_k$ - grid step.\n",
    "\n",
    "Deduce the equation for $x_{k+1}$\n",
    "$$\n",
    "x_{k+1} = x_k - \\alpha f'(x_k),\n",
    "$$\n",
    "which is exactly the same as gradient descent update.\n",
    "\n",
    "Such scheme is called explicit or forward Euler scheme.\n",
    "\n",
    "**Q:** what scheme is called implicit or backward?"
   ]
  },
  {
   "cell_type": "markdown",
   "metadata": {
    "slideshow": {
     "slide_type": "slide"
    }
   },
   "source": [
    "### Some facts\n",
    "\n",
    "- GD converges at least to stationary point\n",
    "- For strong convex functions convergence by function is linear\n",
    "- For Lipschitz gradient function convergence is at least sublinear as $O\\left(\\frac{1}{k}\\right)$ \n",
    "- Zig-zag trajectory for function with poor conditioned hessian and bad initial point"
   ]
  },
  {
   "cell_type": "markdown",
   "metadata": {
    "slideshow": {
     "slide_type": "slide"
    }
   },
   "source": [
    "## Pro & Contra\n",
    "Pro\n",
    "- easy implementation\n",
    "- convergence at least to stationary point\n",
    "- a lot of variants\n",
    "\n",
    "Contra\n",
    "- linear convergence\n",
    "- very strong dependence on condition number of $f''(x)$, good choice of initial point can help\n",
    "- not optimal for covex functions with Lipschitz gradient and strong convex functions (see [Nesterov acceleration](https://blogs.princeton.edu/imabandit/2013/04/01/acceleratedgradientdescent/) to get $O\\left(\\frac{1}{k^2}\\right)$ convergence rate)"
   ]
  },
  {
   "cell_type": "markdown",
   "metadata": {
    "slideshow": {
     "slide_type": "slide"
    }
   },
   "source": [
    "### Stochastic extensions\n",
    "- These methods explore structure of loss for all machine learning problems\n",
    "- Loss is a sum of losses for every sample!"
   ]
  },
  {
   "cell_type": "markdown",
   "metadata": {
    "slideshow": {
     "slide_type": "slide"
    }
   },
   "source": [
    "####  Stochastic gradient descent\n",
    "- Initialize $w$ and compute total loss for it\n",
    "- Pick random sample\n",
    "- Compute loss for this sample\n",
    "- Compute gradient only for picked sample\n",
    "- Update $w$ only for computed gradient\n",
    "- Update total loss"
   ]
  },
  {
   "cell_type": "markdown",
   "metadata": {
    "slideshow": {
     "slide_type": "slide"
    }
   },
   "source": [
    "#### SAG\n",
    "- Initialize $w$ and compute total loss for it\n",
    "- <font color=red> Compute gradient for every sample </font>\n",
    "- Pick random sample\n",
    "- Compute loss for this sample\n",
    "- Compute gradient only for picked sample\n",
    "- <font color=\"red\"> Update average gradient </font>\n",
    "- Update $w$ with average gradient\n",
    "- Update total loss"
   ]
  },
  {
   "cell_type": "markdown",
   "metadata": {
    "slideshow": {
     "slide_type": "slide"
    }
   },
   "source": [
    "#### AdaGrad\n",
    "\n",
    "- From Neural Network training\n",
    "- Scale step size proportionally to speed of changes gradient norm w.r.t every $x_k$\n",
    "    - $ r = r + f'(x_k) \\odot f'(x_k)$\n",
    "    - $x_{k+1} = x_{k} - \\frac{\\varepsilon}{\\sqrt{\\delta + r}}\\tilde{f}'(x_k) $ here all operations are element-wise\n",
    "- Further improvements are about tuning step size to decrease gradient variance and improve stability"
   ]
  },
  {
   "cell_type": "markdown",
   "metadata": {
    "slideshow": {
     "slide_type": "slide"
    }
   },
   "source": [
    "### Initialization approaches\n",
    "\n",
    "- Zero\n",
    "- Random (uniformly or gaussian) near 0\n",
    "- Learning on small subset\n",
    "- Multistart"
   ]
  },
  {
   "cell_type": "markdown",
   "metadata": {
    "slideshow": {
     "slide_type": "slide"
    }
   },
   "source": [
    "#### How to pick random sample?\n",
    "- Uniformly\n",
    "- Higher error, larger probability to pick\n",
    "- Ignore samples with high margin $M > m_+$\n",
    "- Ignore samples that are outliers $M < m_- $"
   ]
  },
  {
   "cell_type": "markdown",
   "metadata": {
    "slideshow": {
     "slide_type": "slide"
    }
   },
   "source": [
    "### Pro & Contra\n",
    "\n",
    "**Pro**\n",
    "- Simple idea\n",
    "- Good convergence even if not all samples were picked at least once\n",
    "- Online setting\n",
    "\n",
    "**Contra**\n",
    "- A lot of heuristics"
   ]
  },
  {
   "cell_type": "markdown",
   "metadata": {
    "slideshow": {
     "slide_type": "slide"
    }
   },
   "source": [
    "## Second order methods\n",
    "\n",
    "- Require hessian\n",
    "- Faster converge\n",
    "- More costly\n",
    "- Only for small-medium scale problems"
   ]
  },
  {
   "cell_type": "markdown",
   "metadata": {
    "slideshow": {
     "slide_type": "slide"
    }
   },
   "source": [
    "### Newton method\n",
    "\n",
    "- Direction \n",
    "$$\n",
    "d_k = -(f''(x_k))^{-1}f'(x_k)\n",
    "$$\n",
    "- Step size strategies are the same as for GD\n",
    "- Related to root finding from the neccessary optimality condition\n",
    "$$\n",
    "f'(x_*) = 0\n",
    "$$"
   ]
  },
  {
   "cell_type": "markdown",
   "metadata": {
    "slideshow": {
     "slide_type": "slide"
    }
   },
   "source": [
    "### Some facts\n",
    "\n",
    "- Initialization significantly affects convergence\n",
    "- Linear convergence + quadratic convergence\n",
    "$$ \n",
    "\\|x_{k+1}−x_∗\\|_2 \\leq C\\|x_k−x_∗\\|^2_2\n",
    "$$\n",
    "- Good method for functions that can be locally approximated by quadratic function"
   ]
  },
  {
   "cell_type": "markdown",
   "metadata": {
    "slideshow": {
     "slide_type": "slide"
    }
   },
   "source": [
    "### Pro & Contra\n",
    "\n",
    "**Pro**\n",
    "\n",
    "- Quadratic convergence in the solution neighborhood\n",
    "- Parameters have not affect convergence significantly\n",
    "\n",
    "**Contra**\n",
    "\n",
    "- Hessian storage is required for every iteration: $O(n^2)$ memory\n",
    "- Linear system solving is required: $O(n^3)$ operations\n",
    "- Hessian may be singular\n",
    "- Hessian may be indefinite $\\to$ direction $d_k$ is not descent direction"
   ]
  },
  {
   "cell_type": "markdown",
   "metadata": {
    "slideshow": {
     "slide_type": "slide"
    }
   },
   "source": [
    "### Comparison with GD\n",
    "\n",
    "Method | Convergence rate | Complexity | Assumptions about $f(x)$\n",
    ":---: | :---: | :---: | :---:\n",
    "GD | Global linear| $O(n) + $ step size search | Differentiable; Lipschitz gradient\n",
    "Newton | Local quadratic | $O(n^3) + $ step size search | Twice differentiable; Lipschitz positive definite hessian"
   ]
  },
  {
   "cell_type": "markdown",
   "metadata": {
    "slideshow": {
     "slide_type": "slide"
    }
   },
   "source": [
    "## How to combine pros of GD and Newton methods?\n",
    "\n",
    "- Reduce complexity and assumptions for Newton methods\n",
    "- But try to achieve quadratic convergence"
   ]
  },
  {
   "cell_type": "markdown",
   "metadata": {
    "slideshow": {
     "slide_type": "slide"
    }
   },
   "source": [
    "## Quasi-Newton methods\n",
    "\n",
    "- Main idea: approximate hessian with simple matrix or even with combinations of gradients!\n",
    "- Fast matrix by vector product\n",
    "- No storage issues\n",
    "- May loose quadratic convergence"
   ]
  },
  {
   "cell_type": "markdown",
   "metadata": {
    "slideshow": {
     "slide_type": "slide"
    }
   },
   "source": [
    "### Approximate expansion\n",
    "$$\n",
    "f_q(x) \\approx f(y) + \\langle f'(y), x - y \\rangle + \\frac{1}{2} (x-y)^{\\top}{\\color{red}{B(y)}}(x-y),\n",
    "$$\n",
    "which leads to the following update\n",
    "$$\n",
    "x_{k+1} = x_k - \\alpha B^{-1}_k f'(x_k) = x_k - \\alpha H_k f'(x_k)\n",
    "$$"
   ]
  },
  {
   "cell_type": "markdown",
   "metadata": {
    "slideshow": {
     "slide_type": "slide"
    }
   },
   "source": [
    "### How define $B_{k+1}$ correctly?\n",
    "\n",
    "At $x_{k+1}$ we have:\n",
    "$$\n",
    "f_q(h) \\approx f(x_{k+1}) + \\langle f'(x_{k+1}), h \\rangle + \\frac{1}{2}h^{\\top}B_{k+1}h\n",
    "$$\n",
    "\n",
    "Constraint for $f_q(h)$\n",
    "$$\n",
    "f_q'(-\\alpha_k h_k) = f'(x_k) \\qquad f'_q(0) = f'(x_{k+1}),\n",
    "$$\n",
    "where the first equation gives\n",
    "$$\n",
    "f'(x_{k+1}) - \\alpha_k B_{k+1}h_k = f'(x_k),\n",
    "$$\n",
    "and the second one is automatically satisfied."
   ]
  },
  {
   "cell_type": "markdown",
   "metadata": {
    "slideshow": {
     "slide_type": "slide"
    }
   },
   "source": [
    "### Secant equation\n",
    "\n",
    "$$\n",
    "B_{k+1}s_k = y_k,\n",
    "$$\n",
    "where $s_k = x_{k+1} - x_k$ and $y_k = f'(x_{k+1}) - f'(x_k)$.\n",
    "\n",
    "This equation is correct only if $s^{\\top}_k y_k > 0$. Why?"
   ]
  },
  {
   "cell_type": "markdown",
   "metadata": {
    "slideshow": {
     "slide_type": "slide"
    }
   },
   "source": [
    "### Uniqueness of $B_{k+1}$\n",
    "\n",
    "\\begin{equation}\n",
    "\\begin{split}\n",
    "& \\min_B \\| B_k - B \\| \\\\\n",
    "\\text{s.t. } & B = B^{\\top}\\\\\n",
    "& Bs_k = y_k\n",
    "\\end{split}\n",
    "\\end{equation}"
   ]
  },
  {
   "cell_type": "markdown",
   "metadata": {
    "slideshow": {
     "slide_type": "slide"
    }
   },
   "source": [
    "### DFP (Davidon-Fletcher-Powell)\n",
    "$$\n",
    "B_{k+1} = (I - \\rho_k y_k s^{\\top}_k)B_k(I - \\rho_k s_ky^{\\top}_k) + \\rho_k y_k y^{\\top}_k,\n",
    "$$\n",
    "where $\\rho_k = \\dfrac{1}{y^{\\top}_k s_k}$,\n",
    "\n",
    "or with Sherman-Morrison-Woodbury\n",
    "$$\n",
    "B^{-1}_{k+1} = H_{k+1} = H_k - \\dfrac{H_ky_k y_k^{\\top}H_k}{y^{\\top}_kH_ky_k} + \\dfrac{s_ks^{\\top}_k}{y^{\\top}_ks_k}\n",
    "$$"
   ]
  },
  {
   "cell_type": "markdown",
   "metadata": {
    "slideshow": {
     "slide_type": "slide"
    }
   },
   "source": [
    "### Can we do better?"
   ]
  },
  {
   "cell_type": "markdown",
   "metadata": {
    "slideshow": {
     "slide_type": "slide"
    }
   },
   "source": [
    "### YES!\n",
    "<img src=\"http://aria42.com/images/bfgs.png\">"
   ]
  },
  {
   "cell_type": "markdown",
   "metadata": {
    "slideshow": {
     "slide_type": "slide"
    }
   },
   "source": [
    "### BFGS method\n",
    "\n",
    "\\begin{equation}\n",
    "\\begin{split}\n",
    "& \\min_H \\| H_k - H \\| \\\\\n",
    "\\text{s.t. } & H = H^{\\top}\\\\\n",
    "& Hy_k = s_k\n",
    "\\end{split}\n",
    "\\end{equation}\n"
   ]
  },
  {
   "cell_type": "markdown",
   "metadata": {
    "slideshow": {
     "slide_type": "slide"
    }
   },
   "source": [
    "$$\n",
    "H_{k+1} = (I - \\rho_k s_ky^{\\top}_k)H_k(I - \\rho_k y_k s^{\\top}_k) + \\rho_k s_k s^{\\top}_k,\n",
    "$$\n",
    "where $\\rho_k = \\dfrac{1}{y^{\\top}_k s_k}$"
   ]
  },
  {
   "cell_type": "markdown",
   "metadata": {
    "slideshow": {
     "slide_type": "slide"
    }
   },
   "source": [
    "### Pro & Contra\n",
    "\n",
    "Pro:\n",
    "1. Inverse hessian computed analytically\n",
    "2. Complexity $O(n^2) + ...$\n",
    "3. Self-correction property\n",
    "4. Suprlinear convergence\n",
    "\n",
    "Contra:\n",
    "1. Heuristics in initialization $B_0$ and $H_0$\n",
    "2. Convergence theory is not complete\n",
    "3. Not any step size strategy leads to curvture condition $y^{\\top}_ks_k > 0$\n",
    "4. <font color=red> Still have storage issues </font>"
   ]
  },
  {
   "cell_type": "markdown",
   "metadata": {
    "slideshow": {
     "slide_type": "slide"
    }
   },
   "source": [
    "### L-BFGS\n",
    "\n",
    "- Do not store hessian\n",
    "- But store limited number of its building blocks $y_k, s_k$ in deque\n",
    "- After each iteration pop last pair and push new one\n",
    "- Fast matrix by vector product and linear space complexity!\n",
    "- Initialization $H_0$ as diagonal or even identity"
   ]
  },
  {
   "cell_type": "markdown",
   "metadata": {
    "slideshow": {
     "slide_type": "slide"
    }
   },
   "source": [
    "## Constrained optimization"
   ]
  },
  {
   "cell_type": "markdown",
   "metadata": {
    "slideshow": {
     "slide_type": "slide"
    }
   },
   "source": [
    "### Problem statement\n",
    "\n",
    "\\begin{equation}\n",
    "\\begin{split}\n",
    "& \\min_{x \\in S} f(x)\\\\\n",
    "\\text{s.t. } & g_i(x) = 0, \\; i = 1,\\ldots,m\\\\\n",
    "& h_j(x) \\leq 0, \\; j = 1,\\ldots,p\n",
    "\\end{split}\n",
    "\\end{equation}\n",
    "where $S \\subseteq \\mathbb{R}^n$, $f: S \\rightarrow \\mathbb{R}$, $g_i: S \\rightarrow \\mathbb{R}, \\; i=1,\\ldots,p$ and the same for $h_j$\n",
    "\n",
    "Functions are at least continuous."
   ]
  },
  {
   "cell_type": "markdown",
   "metadata": {
    "slideshow": {
     "slide_type": "slide"
    }
   },
   "source": [
    "### Lagrangian and KKT optimality conditions\n",
    "\n",
    "\\begin{equation*}\n",
    "L(x, \\lambda, \\mu) = f(x) + \\sum\\limits_{i=1}^m\\lambda_i g_i(x) + \\sum\\limits_{j=1}^p \\mu_j h_j(x)\n",
    "\\end{equation*}\n",
    "\n",
    "- Let $x^*$ be the solution if the problem and functions $f, h_j, g_i$ are differentiable. \n",
    "Then there exist $\\mu^*$ и $\\lambda^*$ such that:\n",
    "    - $g_i(x^*) = 0$\n",
    "    - $h_j(x^*) \\leq 0$\n",
    "    - $\\mu^*_j \\geq 0$\n",
    "    - $\\mu^*_jh_j(x^*) = 0$\n",
    "    - $\\nabla_x L(x^*, \\lambda^*, \\mu^*) = 0$\n",
    "\n",
    "- If the problem is convex, this conditions are also sufficient."
   ]
  },
  {
   "cell_type": "markdown",
   "metadata": {
    "slideshow": {
     "slide_type": "slide"
    }
   },
   "source": [
    "### How to use KKT?\n",
    "\n",
    "- Check the candidate points on optimality\n",
    "- Direct solving in the convex case to find the solution\n",
    "- Relax complementary slackness and get interrior point methods"
   ]
  },
  {
   "cell_type": "markdown",
   "metadata": {
    "slideshow": {
     "slide_type": "slide"
    }
   },
   "source": [
    "### Duality theory\n",
    "\n",
    "- Construct lower bound for the objective function\n",
    "- **Maximize** this lower bound w.r.t. dual variables\n",
    "- Hope that bound is tight"
   ]
  },
  {
   "cell_type": "markdown",
   "metadata": {
    "slideshow": {
     "slide_type": "slide"
    }
   },
   "source": [
    "### Lagrangian again and dual function\n",
    "\n",
    "\\begin{equation*}\n",
    "L(x, \\lambda, \\mu) = f(x) + \\sum\\limits_{i=1}^m\\lambda_i g_i(x) + \\sum\\limits_{j=1}^p \\mu_j h_j(x) \\leq f(x), \\quad \\mu_j \\geq 0\n",
    "\\end{equation*}\n",
    "\n",
    "- $\\lambda$ and $\\mu$ are dual variables\n",
    "- Dual function\n",
    "$$\n",
    "g(\\lambda, \\mu) = \\min_{x} L(x, \\lambda, \\mu)\n",
    "$$\n",
    "- Dual function is always concave (why?)"
   ]
  },
  {
   "cell_type": "markdown",
   "metadata": {
    "slideshow": {
     "slide_type": "slide"
    }
   },
   "source": [
    "### Dual problem\n",
    "\n",
    "- Dual problem\n",
    "\\begin{align*}\n",
    "& \\max_{\\mu, \\lambda} g(\\lambda, \\mu) \\\\\n",
    "\\text{s.t. }  & \\lambda \\geq 0\n",
    "\\end{align*}\n",
    "\n",
    "- Dual problem is always convex!\n",
    "- Lower bound can be tight!"
   ]
  },
  {
   "cell_type": "markdown",
   "metadata": {
    "slideshow": {
     "slide_type": "slide"
    }
   },
   "source": [
    "### Duality gap\n",
    "\n",
    "- By construction $p^* \\geq g(\\lambda, \\mu)$, therefore $f_0(x) - p^* \\leq f_0(x) - g(\\lambda, \\mu) = \\varepsilon$.\n",
    "\n",
    "- $f_0(x) - g(\\lambda, \\mu)$ is called *duality gap* and is upper bound for difference between current approximation and optimal function value\n",
    "\n",
    "- Use cases\n",
    "    - stopping criterion in iteration process\n",
    "    - theoretical estimation of the iterative provess convergnence\n",
    "    - check optimality of the current point"
   ]
  },
  {
   "cell_type": "markdown",
   "metadata": {
    "slideshow": {
     "slide_type": "slide"
    }
   },
   "source": [
    "### Slater condition\n",
    "\n",
    "- Weak duality: $g(\\lambda^*, \\mu^*) < p^*$ &mdash; always by definition!\n",
    "- Strong duality: $g(\\lambda^*, \\mu^*) = p^*$\n",
    "- If the problem is convex and there exists $x$ inside the feasible region, i.e. inequality constraints are strictly feasible, then strong duality exists."
   ]
  },
  {
   "cell_type": "markdown",
   "metadata": {
    "slideshow": {
     "slide_type": "slide"
    }
   },
   "source": [
    "### Interior point methods\n",
    "\n",
    "\\begin{equation*}\n",
    "\\begin{split}\n",
    "& \\min_{x \\in \\mathbb{R}^n} f_0(x)\\\\\n",
    "\\text{s.t. } & f_i (x) \\leq 0 \\qquad i=1,\\ldots,m\\\\\n",
    "& Ax = b,\n",
    "\\end{split}\n",
    "\\end{equation*}\n",
    "where $f_i$ are convex and twice continuously differentiable, $A \\in \\mathbb{R}^{p \\times n}$ and $\\mathrm{rank} \\; A = p < n$. \n",
    "\n",
    "Assume that the problem is strictly feasible, i.e. Slater conditions are satisfied."
   ]
  },
  {
   "cell_type": "markdown",
   "metadata": {
    "slideshow": {
     "slide_type": "slide"
    }
   },
   "source": [
    "### Equality constraint convex optimization\n",
    "\n",
    "- Write KKT\n",
    "- Construct system for Newton method\n",
    "- See that the equlity constrained convex optimization is very similar to the unconstrained case"
   ]
  },
  {
   "cell_type": "markdown",
   "metadata": {
    "slideshow": {
     "slide_type": "slide"
    }
   },
   "source": [
    "### General convex optimization problem\n",
    "\n",
    "- What is the main difference?\n",
    "- How to deal with it?"
   ]
  },
  {
   "cell_type": "markdown",
   "metadata": {
    "slideshow": {
     "slide_type": "slide"
    }
   },
   "source": [
    "### Main idea of interior point methods\n",
    "\n",
    "- Reduce the problem with **inequality** contraints to sequence of **equality** constrained optimization problems\n",
    "- Apply optimizaton methods for equality constrained optimization problems"
   ]
  },
  {
   "cell_type": "markdown",
   "metadata": {
    "slideshow": {
     "slide_type": "slide"
    }
   },
   "source": [
    "\\begin{equation*}\n",
    "\\begin{split}\n",
    "& \\min f_0(x) + \\sum_{i=1}^m I_-(f_i(x))\\\\\n",
    "\\text{s.t. } & Ax = b,\n",
    "\\end{split}\n",
    "\\end{equation*}\n",
    "where $I_-$ &mdash; indicator function\n",
    "$$\n",
    "I_-(u) = \n",
    "\\begin{cases}\n",
    "0, & u \\leq 0\\\\\n",
    "\\infty, & u > 0\n",
    "\\end{cases}\n",
    "$$\n",
    "\n",
    "**Issue.** Now the objective function is not differentiable!"
   ]
  },
  {
   "cell_type": "markdown",
   "metadata": {
    "slideshow": {
     "slide_type": "slide"
    }
   },
   "source": [
    "### Logarithmic barrier\n",
    "\n",
    "**Idea.** Approximate indicator function $I_-(u)$ with the function\n",
    "$$\n",
    "\\hat{I}_-(u) = -t\\log(-u),\n",
    "$$\n",
    "where $t > 0$ is a parameter.\n",
    "\n",
    "- Functions $I_-(u)$ and $\\hat{I}_-(u)$ are convex and nondecreasing\n",
    "- But $\\hat{I}_-(u)$ is **differentiable** and approximate $I_-(u)$ while $t \\to 0$"
   ]
  },
  {
   "cell_type": "code",
   "execution_count": 1,
   "metadata": {
    "slideshow": {
     "slide_type": "slide"
    }
   },
   "outputs": [
    {
     "data": {
      "text/plain": [
       "<matplotlib.text.Text at 0x7f8f9c622128>"
      ]
     },
     "execution_count": 1,
     "metadata": {},
     "output_type": "execute_result"
    },
    {
     "data": {
      "image/png": "[encoded data removed]",
      "text/plain": [
       "<matplotlib.figure.Figure at 0x7f8f9c8a15f8>"
      ]
     },
     "metadata": {},
     "output_type": "display_data"
    }
   ],
   "source": [
    "%matplotlib inline\n",
    "import matplotlib.pyplot as plt\n",
    "import numpy as np\n",
    "\n",
    "x = np.linspace(-2, 0, 100000, endpoint=False)\n",
    "plt.figure(figsize=(10, 6))\n",
    "for t in [0.1, 0.5, 1, 1.5, 2]:\n",
    "    plt.plot(x, -t * np.log(-x), label=r\"$t = \" + str(t) + \"$\")\n",
    "plt.legend(fontsize=20)\n",
    "plt.xticks(fontsize=20)\n",
    "plt.yticks(fontsize=20)\n",
    "plt.xlabel(\"u\", fontsize=20)"
   ]
  },
  {
   "cell_type": "markdown",
   "metadata": {
    "slideshow": {
     "slide_type": "slide"
    }
   },
   "source": [
    "### Logarithmic subproblems\n",
    "\n",
    "\\begin{equation*}\n",
    "\\begin{split}\n",
    "& \\min f_0(x) + \\sum_{i=1}^m -t \\log(-f_i(x))\\\\\n",
    "\\text{s.t. } & Ax = b\n",
    "\\end{split}\n",
    "\\end{equation*}\n",
    "- The problem is again **convex**\n",
    "- Function\n",
    "$$\n",
    "\\phi(x) = -\\sum\\limits_{i=1}^m \\log(-f_i(x))\n",
    "$$ \n",
    "is called *logarithmic barrier*.\n",
    "\n",
    "**Exerсise**. Find gradient and hessian of $\\phi(x)$"
   ]
  },
  {
   "cell_type": "markdown",
   "metadata": {
    "slideshow": {
     "slide_type": "slide"
    }
   },
   "source": [
    "### Central path and KKT interpretation\n",
    "\n",
    "- For every $t > 0$ logarithmic subproblems have unique solution $x^*(t)$.\n",
    "\n",
    "**Definition.** Sequence $x^*(t)$ for $t > 0$ composes *central path*.\n",
    "\n",
    "- KKT interpretation and convergence basics\n",
    "$$\n",
    "-\\lambda_i f_i(x) = 0 \\Rightarrow - \\lambda_i f_i(x) = t \\quad i = 1,\\ldots, m\n",
    "$$\n",
    "- Dulaity gap can be estimated as\n",
    "$$\n",
    "f_0(x^*(t)) - p^* \\leq mt\n",
    "$$"
   ]
  },
  {
   "cell_type": "markdown",
   "metadata": {
    "slideshow": {
     "slide_type": "slide"
    }
   },
   "source": [
    "## Summary\n",
    "\n",
    "- Optimization problem statements\n",
    "- First order methods\n",
    "- Second order methods\n",
    "- Stochastic methods\n",
    "- Constrained optimization\n",
    "- KKT and duality\n",
    "- Interior point methods"
   ]
  }
 ],
 "metadata": {
  "celltoolbar": "Slideshow",
  "kernelspec": {
   "display_name": "Python [conda env:p3]",
   "language": "python",
   "name": "conda-env-p3-py"
  },
  "language_info": {
   "codemirror_mode": {
    "name": "ipython",
    "version": 3
   },
   "file_extension": ".py",
   "mimetype": "text/x-python",
   "name": "python",
   "nbconvert_exporter": "python",
   "pygments_lexer": "ipython3",
   "version": "3.6.0"
  },
  "livereveal": {
   "scroll": true,
   "start_slideshow_at": "selected",
   "transition": "zoom"
  }
 },
 "nbformat": 4,
 "nbformat_minor": 2
}
